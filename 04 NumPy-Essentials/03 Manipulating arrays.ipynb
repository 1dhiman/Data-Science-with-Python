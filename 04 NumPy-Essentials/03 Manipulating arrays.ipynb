{
 "cells": [
  {
   "cell_type": "markdown",
   "metadata": {},
   "source": [
    "# Manipulating NumPy arrays\n",
    "## Views and copies"
   ]
  },
  {
   "cell_type": "code",
   "execution_count": 1,
   "metadata": {},
   "outputs": [],
   "source": [
    "import numpy as np"
   ]
  },
  {
   "cell_type": "code",
   "execution_count": 2,
   "metadata": {},
   "outputs": [],
   "source": [
    "mi_casa = np.array([-45, 11, 34, 22, 75, -62, 0, 4])"
   ]
  },
  {
   "cell_type": "code",
   "execution_count": 3,
   "metadata": {},
   "outputs": [],
   "source": [
    "su_casa = mi_casa"
   ]
  },
  {
   "cell_type": "markdown",
   "metadata": {},
   "source": [
    "**Same or different**"
   ]
  },
  {
   "cell_type": "code",
   "execution_count": 4,
   "metadata": {},
   "outputs": [
    {
     "data": {
      "text/plain": [
       "True"
      ]
     },
     "execution_count": 4,
     "metadata": {},
     "output_type": "execute_result"
    }
   ],
   "source": [
    "# reference equality\n",
    "mi_casa is su_casa"
   ]
  },
  {
   "cell_type": "code",
   "execution_count": 5,
   "metadata": {},
   "outputs": [
    {
     "data": {
      "text/plain": [
       "4447913744"
      ]
     },
     "execution_count": 5,
     "metadata": {},
     "output_type": "execute_result"
    }
   ],
   "source": [
    "id(mi_casa)"
   ]
  },
  {
   "cell_type": "code",
   "execution_count": 6,
   "metadata": {},
   "outputs": [
    {
     "data": {
      "text/plain": [
       "4447913744"
      ]
     },
     "execution_count": 6,
     "metadata": {},
     "output_type": "execute_result"
    }
   ],
   "source": [
    "id(su_casa)"
   ]
  },
  {
   "cell_type": "code",
   "execution_count": 7,
   "metadata": {},
   "outputs": [
    {
     "data": {
      "text/plain": [
       "array([ True,  True,  True,  True,  True,  True,  True,  True])"
      ]
     },
     "execution_count": 7,
     "metadata": {},
     "output_type": "execute_result"
    }
   ],
   "source": [
    "# value equality\n",
    "mi_casa == su_casa"
   ]
  },
  {
   "cell_type": "code",
   "execution_count": 8,
   "metadata": {},
   "outputs": [],
   "source": [
    "su_casa[4] = 1024 "
   ]
  },
  {
   "cell_type": "code",
   "execution_count": 9,
   "metadata": {},
   "outputs": [
    {
     "data": {
      "text/plain": [
       "array([ -45,   11,   34,   22, 1024,  -62,    0,    4])"
      ]
     },
     "execution_count": 9,
     "metadata": {},
     "output_type": "execute_result"
    }
   ],
   "source": [
    "su_casa"
   ]
  },
  {
   "cell_type": "code",
   "execution_count": 10,
   "metadata": {},
   "outputs": [
    {
     "data": {
      "text/plain": [
       "array([ -45,   11,   34,   22, 1024,  -62,    0,    4])"
      ]
     },
     "execution_count": 10,
     "metadata": {},
     "output_type": "execute_result"
    }
   ],
   "source": [
    "mi_casa"
   ]
  },
  {
   "cell_type": "code",
   "execution_count": 11,
   "metadata": {},
   "outputs": [],
   "source": [
    "tree_house = np.array([-45, 11, 34, 22, 75, -62, 0, 4])"
   ]
  },
  {
   "cell_type": "code",
   "execution_count": 12,
   "metadata": {},
   "outputs": [
    {
     "data": {
      "text/plain": [
       "array([ True,  True,  True,  True, False,  True,  True,  True])"
      ]
     },
     "execution_count": 12,
     "metadata": {},
     "output_type": "execute_result"
    }
   ],
   "source": [
    "tree_house == su_casa"
   ]
  },
  {
   "cell_type": "code",
   "execution_count": 13,
   "metadata": {},
   "outputs": [
    {
     "data": {
      "text/plain": [
       "4447995024"
      ]
     },
     "execution_count": 13,
     "metadata": {},
     "output_type": "execute_result"
    }
   ],
   "source": [
    "id(tree_house)"
   ]
  },
  {
   "cell_type": "code",
   "execution_count": 14,
   "metadata": {},
   "outputs": [
    {
     "data": {
      "text/plain": [
       "4447913744"
      ]
     },
     "execution_count": 14,
     "metadata": {},
     "output_type": "execute_result"
    }
   ],
   "source": [
    "id(mi_casa)"
   ]
  },
  {
   "cell_type": "code",
   "execution_count": 15,
   "metadata": {},
   "outputs": [
    {
     "data": {
      "text/plain": [
       "array([10000,    11,    34,    22,    75,   -62,     0,     4])"
      ]
     },
     "execution_count": 15,
     "metadata": {},
     "output_type": "execute_result"
    }
   ],
   "source": [
    "tree_house[0] = 10000\n",
    "tree_house"
   ]
  },
  {
   "cell_type": "code",
   "execution_count": 16,
   "metadata": {},
   "outputs": [
    {
     "data": {
      "text/plain": [
       "array([ -45,   11,   34,   22, 1024,  -62,    0,    4])"
      ]
     },
     "execution_count": 16,
     "metadata": {},
     "output_type": "execute_result"
    }
   ],
   "source": [
    "mi_casa"
   ]
  },
  {
   "cell_type": "code",
   "execution_count": 17,
   "metadata": {},
   "outputs": [
    {
     "data": {
      "text/plain": [
       "array([False,  True,  True,  True, False,  True,  True,  True])"
      ]
     },
     "execution_count": 17,
     "metadata": {},
     "output_type": "execute_result"
    }
   ],
   "source": [
    "tree_house == mi_casa"
   ]
  },
  {
   "cell_type": "code",
   "execution_count": 18,
   "metadata": {},
   "outputs": [
    {
     "data": {
      "text/plain": [
       "False"
      ]
     },
     "execution_count": 18,
     "metadata": {},
     "output_type": "execute_result"
    }
   ],
   "source": [
    "tree_house is mi_casa"
   ]
  },
  {
   "cell_type": "markdown",
   "metadata": {},
   "source": [
    "### View: a shallow copy"
   ]
  },
  {
   "cell_type": "code",
   "execution_count": 19,
   "metadata": {},
   "outputs": [],
   "source": [
    "farm_house = tree_house.view()\n",
    "farm_house.shape = (2, 4)"
   ]
  },
  {
   "cell_type": "code",
   "execution_count": 20,
   "metadata": {},
   "outputs": [
    {
     "data": {
      "text/plain": [
       "array([10000,    11,    34,    22,    75,   -62,     0,     4])"
      ]
     },
     "execution_count": 20,
     "metadata": {},
     "output_type": "execute_result"
    }
   ],
   "source": [
    "tree_house"
   ]
  },
  {
   "cell_type": "code",
   "execution_count": 21,
   "metadata": {},
   "outputs": [
    {
     "data": {
      "text/plain": [
       "array([[10000,    11,    34,    22],\n",
       "       [   75,   -62,     0,     4]])"
      ]
     },
     "execution_count": 21,
     "metadata": {},
     "output_type": "execute_result"
    }
   ],
   "source": [
    "farm_house"
   ]
  },
  {
   "cell_type": "code",
   "execution_count": 22,
   "metadata": {},
   "outputs": [
    {
     "data": {
      "text/plain": [
       "array([[10000,    11,    34,  -999],\n",
       "       [   75,   -62,     0,     4]])"
      ]
     },
     "execution_count": 22,
     "metadata": {},
     "output_type": "execute_result"
    }
   ],
   "source": [
    "tree_house[3] = -999\n",
    "farm_house"
   ]
  },
  {
   "cell_type": "markdown",
   "metadata": {},
   "source": [
    "### Deep copy"
   ]
  },
  {
   "cell_type": "code",
   "execution_count": 23,
   "metadata": {},
   "outputs": [
    {
     "data": {
      "text/plain": [
       "array([-1212,    11,    34,  -999,    75,   -62,     0,     4])"
      ]
     },
     "execution_count": 23,
     "metadata": {},
     "output_type": "execute_result"
    }
   ],
   "source": [
    "dog_house = np.copy(tree_house)\n",
    "dog_house[0] = -1212\n",
    "dog_house"
   ]
  },
  {
   "cell_type": "code",
   "execution_count": 24,
   "metadata": {},
   "outputs": [
    {
     "data": {
      "text/plain": [
       "array([10000,    11,    34,  -999,    75,   -62,     0,     4])"
      ]
     },
     "execution_count": 24,
     "metadata": {},
     "output_type": "execute_result"
    }
   ],
   "source": [
    "tree_house"
   ]
  },
  {
   "cell_type": "markdown",
   "metadata": {},
   "source": [
    "## Array attributes"
   ]
  },
  {
   "cell_type": "code",
   "execution_count": 25,
   "metadata": {},
   "outputs": [
    {
     "data": {
      "text/plain": [
       "array([[[ 0,  1,  2,  3],\n",
       "        [ 4,  5,  6,  7],\n",
       "        [ 8,  9, 10, 11]],\n",
       "\n",
       "       [[12, 13, 14, 15],\n",
       "        [16, 17, 18, 19],\n",
       "        [20, 21, 22, 23]]])"
      ]
     },
     "execution_count": 25,
     "metadata": {},
     "output_type": "execute_result"
    }
   ],
   "source": [
    "a = np.array(np.arange(24)).reshape((2,3,4))\n",
    "a"
   ]
  },
  {
   "cell_type": "code",
   "execution_count": 26,
   "metadata": {},
   "outputs": [
    {
     "data": {
      "text/plain": [
       "3"
      ]
     },
     "execution_count": 26,
     "metadata": {},
     "output_type": "execute_result"
    }
   ],
   "source": [
    "a.ndim"
   ]
  },
  {
   "cell_type": "code",
   "execution_count": 27,
   "metadata": {},
   "outputs": [
    {
     "data": {
      "text/plain": [
       "(2, 3, 4)"
      ]
     },
     "execution_count": 27,
     "metadata": {},
     "output_type": "execute_result"
    }
   ],
   "source": [
    "a.shape"
   ]
  },
  {
   "cell_type": "code",
   "execution_count": 28,
   "metadata": {},
   "outputs": [
    {
     "data": {
      "text/plain": [
       "24"
      ]
     },
     "execution_count": 28,
     "metadata": {},
     "output_type": "execute_result"
    }
   ],
   "source": [
    "a.size"
   ]
  },
  {
   "cell_type": "code",
   "execution_count": 29,
   "metadata": {},
   "outputs": [
    {
     "data": {
      "text/plain": [
       "dtype('int64')"
      ]
     },
     "execution_count": 29,
     "metadata": {},
     "output_type": "execute_result"
    }
   ],
   "source": [
    "a.dtype"
   ]
  },
  {
   "cell_type": "code",
   "execution_count": 30,
   "metadata": {},
   "outputs": [
    {
     "data": {
      "text/plain": [
       "8"
      ]
     },
     "execution_count": 30,
     "metadata": {},
     "output_type": "execute_result"
    }
   ],
   "source": [
    "a.itemsize # a 64 bit int is of size 8 bytes"
   ]
  },
  {
   "cell_type": "code",
   "execution_count": 31,
   "metadata": {},
   "outputs": [
    {
     "data": {
      "text/plain": [
       "numpy.ndarray"
      ]
     },
     "execution_count": 31,
     "metadata": {},
     "output_type": "execute_result"
    }
   ],
   "source": [
    "type(a)"
   ]
  },
  {
   "cell_type": "markdown",
   "metadata": {},
   "source": [
    "## Add and remove elements"
   ]
  },
  {
   "cell_type": "code",
   "execution_count": 32,
   "metadata": {},
   "outputs": [
    {
     "data": {
      "text/plain": [
       "array([[[ 0,  1,  2,  3],\n",
       "        [ 4,  5,  6,  7],\n",
       "        [ 8,  9, 10, 11]],\n",
       "\n",
       "       [[12, 13, 14, 15],\n",
       "        [16, 17, 18, 19],\n",
       "        [20, 21, 22, 23]]])"
      ]
     },
     "execution_count": 32,
     "metadata": {},
     "output_type": "execute_result"
    }
   ],
   "source": [
    "a = np.array(np.arange(24)).reshape((2,3,4))\n",
    "a"
   ]
  },
  {
   "cell_type": "code",
   "execution_count": 33,
   "metadata": {},
   "outputs": [
    {
     "data": {
      "text/plain": [
       "array([ 0,  1,  2,  3,  4,  5,  6,  7,  8,  9, 10, 11, 12, 13, 14, 15, 16,\n",
       "       17, 18, 19, 20, 21, 22, 23,  5,  6,  7,  8])"
      ]
     },
     "execution_count": 33,
     "metadata": {},
     "output_type": "execute_result"
    }
   ],
   "source": [
    "b = np.append(a, [5, 6, 7, 8])\n",
    "b"
   ]
  },
  {
   "cell_type": "code",
   "execution_count": 34,
   "metadata": {},
   "outputs": [
    {
     "data": {
      "text/plain": [
       "(28,)"
      ]
     },
     "execution_count": 34,
     "metadata": {},
     "output_type": "execute_result"
    }
   ],
   "source": [
    "b.shape"
   ]
  },
  {
   "cell_type": "code",
   "execution_count": 35,
   "metadata": {},
   "outputs": [
    {
     "data": {
      "text/plain": [
       "array([[ 0,  1,  2,  3],\n",
       "       [ 4,  5,  6,  7],\n",
       "       [ 8,  9, 10, 11],\n",
       "       [12, 13, 14, 15],\n",
       "       [16, 17, 18, 19],\n",
       "       [20, 21, 22, 23],\n",
       "       [ 5,  6,  7,  8]])"
      ]
     },
     "execution_count": 35,
     "metadata": {},
     "output_type": "execute_result"
    }
   ],
   "source": [
    "b.reshape((7, 4))"
   ]
  },
  {
   "cell_type": "code",
   "execution_count": 36,
   "metadata": {},
   "outputs": [
    {
     "data": {
      "text/plain": [
       "array([[[ 0,  1,  2,  3],\n",
       "        [ 4,  5,  6,  7],\n",
       "        [ 8,  9, 10, 11]],\n",
       "\n",
       "       [[12, 13, 14, 15],\n",
       "        [16, 17, 18, 19],\n",
       "        [20, 21, 22, 23]]])"
      ]
     },
     "execution_count": 36,
     "metadata": {},
     "output_type": "execute_result"
    }
   ],
   "source": [
    "a"
   ]
  },
  {
   "cell_type": "code",
   "execution_count": 37,
   "metadata": {},
   "outputs": [
    {
     "data": {
      "text/plain": [
       "array([[[  3,  13,  23,  33],\n",
       "        [ 43,  53,  63,  73],\n",
       "        [ 83,  93, 103, 113]],\n",
       "\n",
       "       [[123, 133, 143, 153],\n",
       "        [163, 173, 183, 193],\n",
       "        [203, 213, 223, 233]]])"
      ]
     },
     "execution_count": 37,
     "metadata": {},
     "output_type": "execute_result"
    }
   ],
   "source": [
    "c = np.array(np.arange(24)).reshape((2,3,4))*10 + 3\n",
    "c"
   ]
  },
  {
   "cell_type": "code",
   "execution_count": 38,
   "metadata": {},
   "outputs": [
    {
     "data": {
      "text/plain": [
       "array([[[  0,   1,   2,   3],\n",
       "        [  4,   5,   6,   7],\n",
       "        [  8,   9,  10,  11]],\n",
       "\n",
       "       [[ 12,  13,  14,  15],\n",
       "        [ 16,  17,  18,  19],\n",
       "        [ 20,  21,  22,  23]],\n",
       "\n",
       "       [[  3,  13,  23,  33],\n",
       "        [ 43,  53,  63,  73],\n",
       "        [ 83,  93, 103, 113]],\n",
       "\n",
       "       [[123, 133, 143, 153],\n",
       "        [163, 173, 183, 193],\n",
       "        [203, 213, 223, 233]]])"
      ]
     },
     "execution_count": 38,
     "metadata": {},
     "output_type": "execute_result"
    }
   ],
   "source": [
    "np.append(a, c, axis=0)"
   ]
  },
  {
   "cell_type": "code",
   "execution_count": 39,
   "metadata": {},
   "outputs": [
    {
     "data": {
      "text/plain": [
       "(4, 3, 4)"
      ]
     },
     "execution_count": 39,
     "metadata": {},
     "output_type": "execute_result"
    }
   ],
   "source": [
    "np.append(a, c, axis=0).shape"
   ]
  },
  {
   "cell_type": "code",
   "execution_count": 40,
   "metadata": {},
   "outputs": [
    {
     "data": {
      "text/plain": [
       "array([[[  0,   1,   2,   3],\n",
       "        [  4,   5,   6,   7],\n",
       "        [  8,   9,  10,  11],\n",
       "        [  3,  13,  23,  33],\n",
       "        [ 43,  53,  63,  73],\n",
       "        [ 83,  93, 103, 113]],\n",
       "\n",
       "       [[ 12,  13,  14,  15],\n",
       "        [ 16,  17,  18,  19],\n",
       "        [ 20,  21,  22,  23],\n",
       "        [123, 133, 143, 153],\n",
       "        [163, 173, 183, 193],\n",
       "        [203, 213, 223, 233]]])"
      ]
     },
     "execution_count": 40,
     "metadata": {},
     "output_type": "execute_result"
    }
   ],
   "source": [
    "np.append(a, c, axis=1)"
   ]
  },
  {
   "cell_type": "code",
   "execution_count": 41,
   "metadata": {},
   "outputs": [
    {
     "data": {
      "text/plain": [
       "(2, 6, 4)"
      ]
     },
     "execution_count": 41,
     "metadata": {},
     "output_type": "execute_result"
    }
   ],
   "source": [
    "np.append(a, c, axis=1).shape"
   ]
  },
  {
   "cell_type": "code",
   "execution_count": 42,
   "metadata": {},
   "outputs": [
    {
     "data": {
      "text/plain": [
       "array([[[  0,   1,   2,   3,   3,  13,  23,  33],\n",
       "        [  4,   5,   6,   7,  43,  53,  63,  73],\n",
       "        [  8,   9,  10,  11,  83,  93, 103, 113]],\n",
       "\n",
       "       [[ 12,  13,  14,  15, 123, 133, 143, 153],\n",
       "        [ 16,  17,  18,  19, 163, 173, 183, 193],\n",
       "        [ 20,  21,  22,  23, 203, 213, 223, 233]]])"
      ]
     },
     "execution_count": 42,
     "metadata": {},
     "output_type": "execute_result"
    }
   ],
   "source": [
    "np.append(a, c, axis=2)"
   ]
  },
  {
   "cell_type": "code",
   "execution_count": 43,
   "metadata": {},
   "outputs": [
    {
     "data": {
      "text/plain": [
       "(2, 3, 8)"
      ]
     },
     "execution_count": 43,
     "metadata": {},
     "output_type": "execute_result"
    }
   ],
   "source": [
    "np.append(a, c, axis=2).shape"
   ]
  },
  {
   "cell_type": "code",
   "execution_count": 45,
   "metadata": {},
   "outputs": [
    {
     "data": {
      "text/plain": [
       "array([[[  0,   1,   2,   3],\n",
       "        [  4,   5,   6,   7],\n",
       "        [  8,   9,  10,  11],\n",
       "        [  3,  13,  23,  33],\n",
       "        [ 43,  53,  63,  73],\n",
       "        [ 83,  93, 103, 113]],\n",
       "\n",
       "       [[ 12,  13,  14,  15],\n",
       "        [ 16,  17,  18,  19],\n",
       "        [ 20,  21,  22,  23],\n",
       "        [123, 133, 143, 153],\n",
       "        [163, 173, 183, 193],\n",
       "        [203, 213, 223, 233]]])"
      ]
     },
     "execution_count": 45,
     "metadata": {},
     "output_type": "execute_result"
    }
   ],
   "source": [
    "my_hay_stack = np.hstack((a,c))\n",
    "my_hay_stack"
   ]
  },
  {
   "cell_type": "code",
   "execution_count": 46,
   "metadata": {},
   "outputs": [],
   "source": [
    "my_hay_stack[0,0,2] = 999"
   ]
  },
  {
   "cell_type": "code",
   "execution_count": 47,
   "metadata": {},
   "outputs": [
    {
     "data": {
      "text/plain": [
       "array([[[  0,   1, 999,   3],\n",
       "        [  4,   5,   6,   7],\n",
       "        [  8,   9,  10,  11],\n",
       "        [  3,  13,  23,  33],\n",
       "        [ 43,  53,  63,  73],\n",
       "        [ 83,  93, 103, 113]],\n",
       "\n",
       "       [[ 12,  13,  14,  15],\n",
       "        [ 16,  17,  18,  19],\n",
       "        [ 20,  21,  22,  23],\n",
       "        [123, 133, 143, 153],\n",
       "        [163, 173, 183, 193],\n",
       "        [203, 213, 223, 233]]])"
      ]
     },
     "execution_count": 47,
     "metadata": {},
     "output_type": "execute_result"
    }
   ],
   "source": [
    "my_hay_stack"
   ]
  },
  {
   "cell_type": "code",
   "execution_count": 48,
   "metadata": {},
   "outputs": [
    {
     "data": {
      "text/plain": [
       "array([[[ 0,  1,  2,  3],\n",
       "        [ 4,  5,  6,  7],\n",
       "        [ 8,  9, 10, 11]],\n",
       "\n",
       "       [[12, 13, 14, 15],\n",
       "        [16, 17, 18, 19],\n",
       "        [20, 21, 22, 23]]])"
      ]
     },
     "execution_count": 48,
     "metadata": {},
     "output_type": "execute_result"
    }
   ],
   "source": [
    "a"
   ]
  },
  {
   "cell_type": "code",
   "execution_count": 49,
   "metadata": {},
   "outputs": [
    {
     "data": {
      "text/plain": [
       "array([[[  3,  13,  23,  33],\n",
       "        [ 43,  53,  63,  73],\n",
       "        [ 83,  93, 103, 113]],\n",
       "\n",
       "       [[123, 133, 143, 153],\n",
       "        [163, 173, 183, 193],\n",
       "        [203, 213, 223, 233]]])"
      ]
     },
     "execution_count": 49,
     "metadata": {},
     "output_type": "execute_result"
    }
   ],
   "source": [
    "c"
   ]
  },
  {
   "cell_type": "code",
   "execution_count": 50,
   "metadata": {},
   "outputs": [
    {
     "data": {
      "text/plain": [
       "array([[[  3,  13,  23,  33],\n",
       "        [ 43,  53,  63,  73],\n",
       "        [ 83,  93, 103, 113]],\n",
       "\n",
       "       [[444, 444, 444, 444],\n",
       "        [444, 444, 444, 444],\n",
       "        [444, 444, 444, 444]],\n",
       "\n",
       "       [[123, 133, 143, 153],\n",
       "        [163, 173, 183, 193],\n",
       "        [203, 213, 223, 233]]])"
      ]
     },
     "execution_count": 50,
     "metadata": {},
     "output_type": "execute_result"
    }
   ],
   "source": [
    "after_insert_array = np.insert(c, 1, 444, axis=0)\n",
    "after_insert_array"
   ]
  },
  {
   "cell_type": "code",
   "execution_count": 51,
   "metadata": {},
   "outputs": [
    {
     "data": {
      "text/plain": [
       "array([[[  3,  13,  23,  33],\n",
       "        [444, 444, 444, 444],\n",
       "        [ 43,  53,  63,  73],\n",
       "        [ 83,  93, 103, 113]],\n",
       "\n",
       "       [[123, 133, 143, 153],\n",
       "        [444, 444, 444, 444],\n",
       "        [163, 173, 183, 193],\n",
       "        [203, 213, 223, 233]]])"
      ]
     },
     "execution_count": 51,
     "metadata": {},
     "output_type": "execute_result"
    }
   ],
   "source": [
    "np.insert(c, 1, 444, axis=1)"
   ]
  },
  {
   "cell_type": "code",
   "execution_count": 53,
   "metadata": {},
   "outputs": [
    {
     "data": {
      "text/plain": [
       "array([[[  3, 444,  13,  23,  33],\n",
       "        [ 43, 444,  53,  63,  73],\n",
       "        [ 83, 444,  93, 103, 113]],\n",
       "\n",
       "       [[123, 444, 133, 143, 153],\n",
       "        [163, 444, 173, 183, 193],\n",
       "        [203, 444, 213, 223, 233]]])"
      ]
     },
     "execution_count": 53,
     "metadata": {},
     "output_type": "execute_result"
    }
   ],
   "source": [
    "np.insert(c, 1, 444, axis=2)"
   ]
  },
  {
   "cell_type": "code",
   "execution_count": 54,
   "metadata": {},
   "outputs": [
    {
     "data": {
      "text/plain": [
       "array([[[  3.,  13.,  23.,  33.],\n",
       "        [ 43.,  53.,  63.,  73.],\n",
       "        [ 83.,  93., 103., 113.]],\n",
       "\n",
       "       [[123., 133., 143., 153.],\n",
       "        [163., 173., 183., 193.],\n",
       "        [203., 213., 223., 233.]]])"
      ]
     },
     "execution_count": 54,
     "metadata": {},
     "output_type": "execute_result"
    }
   ],
   "source": [
    "d = np.empty(c.shape)\n",
    "np.copyto(d, c)\n",
    "d"
   ]
  },
  {
   "cell_type": "code",
   "execution_count": 55,
   "metadata": {},
   "outputs": [
    {
     "data": {
      "text/plain": [
       "array([[[  3.,  13.,  23.,  33.],\n",
       "        [ 43.,  53.,  63.,  73.],\n",
       "        [ 83.,  93., 103., 113.]]])"
      ]
     },
     "execution_count": 55,
     "metadata": {},
     "output_type": "execute_result"
    }
   ],
   "source": [
    "np.delete(d, 1, axis=0)"
   ]
  },
  {
   "cell_type": "code",
   "execution_count": 56,
   "metadata": {},
   "outputs": [
    {
     "data": {
      "text/plain": [
       "array([[[  3.,  13.,  23.,  33.],\n",
       "        [ 83.,  93., 103., 113.]],\n",
       "\n",
       "       [[123., 133., 143., 153.],\n",
       "        [203., 213., 223., 233.]]])"
      ]
     },
     "execution_count": 56,
     "metadata": {},
     "output_type": "execute_result"
    }
   ],
   "source": [
    "np.delete(d, 1, axis=1)"
   ]
  },
  {
   "cell_type": "code",
   "execution_count": 57,
   "metadata": {},
   "outputs": [
    {
     "data": {
      "text/plain": [
       "array([[[  3.,  23.,  33.],\n",
       "        [ 43.,  63.,  73.],\n",
       "        [ 83., 103., 113.]],\n",
       "\n",
       "       [[123., 143., 153.],\n",
       "        [163., 183., 193.],\n",
       "        [203., 223., 233.]]])"
      ]
     },
     "execution_count": 57,
     "metadata": {},
     "output_type": "execute_result"
    }
   ],
   "source": [
    "np.delete(d, 1, axis=2)"
   ]
  },
  {
   "cell_type": "markdown",
   "metadata": {},
   "source": [
    "## Join and split arrays"
   ]
  },
  {
   "cell_type": "code",
   "execution_count": 60,
   "metadata": {},
   "outputs": [
    {
     "data": {
      "text/plain": [
       "array([[1, 2],\n",
       "       [3, 4]])"
      ]
     },
     "execution_count": 60,
     "metadata": {},
     "output_type": "execute_result"
    }
   ],
   "source": [
    "a = np.array([[1, 2], [3, 4]])\n",
    "b = np.array([[5, 6]])\n",
    "a"
   ]
  },
  {
   "cell_type": "code",
   "execution_count": 61,
   "metadata": {},
   "outputs": [
    {
     "data": {
      "text/plain": [
       "array([[5, 6]])"
      ]
     },
     "execution_count": 61,
     "metadata": {},
     "output_type": "execute_result"
    }
   ],
   "source": [
    "b"
   ]
  },
  {
   "cell_type": "code",
   "execution_count": 63,
   "metadata": {},
   "outputs": [
    {
     "data": {
      "text/plain": [
       "array([[1, 2],\n",
       "       [3, 4],\n",
       "       [5, 6]])"
      ]
     },
     "execution_count": 63,
     "metadata": {},
     "output_type": "execute_result"
    }
   ],
   "source": [
    "together = np.concatenate((a, b), axis=0)\n",
    "together"
   ]
  },
  {
   "cell_type": "code",
   "execution_count": 64,
   "metadata": {},
   "outputs": [
    {
     "data": {
      "text/plain": [
       "(3, 2)"
      ]
     },
     "execution_count": 64,
     "metadata": {},
     "output_type": "execute_result"
    }
   ],
   "source": [
    "together.shape"
   ]
  },
  {
   "cell_type": "code",
   "execution_count": 65,
   "metadata": {},
   "outputs": [
    {
     "data": {
      "text/plain": [
       "array([[  1,   2],\n",
       "       [  3, 555],\n",
       "       [  5,   6]])"
      ]
     },
     "execution_count": 65,
     "metadata": {},
     "output_type": "execute_result"
    }
   ],
   "source": [
    "together[1, 1] = 555\n",
    "together"
   ]
  },
  {
   "cell_type": "code",
   "execution_count": 66,
   "metadata": {},
   "outputs": [
    {
     "data": {
      "text/plain": [
       "array([[ 8, 11],\n",
       "       [14, 17]])"
      ]
     },
     "execution_count": 66,
     "metadata": {},
     "output_type": "execute_result"
    }
   ],
   "source": [
    "c = np.array([[1, 2], [3, 4]])*3 + 5\n",
    "c"
   ]
  },
  {
   "cell_type": "code",
   "execution_count": 67,
   "metadata": {},
   "outputs": [
    {
     "data": {
      "text/plain": [
       "array([[ 1,  2,  8, 11],\n",
       "       [ 3,  4, 14, 17]])"
      ]
     },
     "execution_count": 67,
     "metadata": {},
     "output_type": "execute_result"
    }
   ],
   "source": [
    "np.concatenate((a, c), axis=1)"
   ]
  },
  {
   "cell_type": "code",
   "execution_count": 71,
   "metadata": {},
   "outputs": [
    {
     "data": {
      "text/plain": [
       "array([[[ 0.42711362,  2.13059943,  1.00668329, -1.16284069],\n",
       "        [-2.35899144, -0.80764104,  0.30297251,  0.48409107],\n",
       "        [-0.26014634,  0.82748868, -0.8690082 ,  1.4246587 ]],\n",
       "\n",
       "       [[ 2.58018343,  1.37196985,  0.41966824, -0.65883572],\n",
       "        [ 1.15267943,  0.93067746,  0.35353256,  1.71039414],\n",
       "        [ 0.37644574,  0.21687124, -1.55216387, -0.27160831]],\n",
       "\n",
       "       [[ 1.58161786, -0.81689155, -2.38956119, -1.0290985 ],\n",
       "        [ 0.53990218, -0.46179142, -2.3284667 ,  1.03600742],\n",
       "        [-0.15247791, -0.46434394, -0.96841871,  2.21144516]],\n",
       "\n",
       "       [[-1.07131578,  0.07473873,  0.06633345, -0.45480478],\n",
       "        [-1.36677173,  0.03374325,  0.87855698,  0.96613826],\n",
       "        [ 0.55155076,  1.39285747,  0.31524593, -2.47357217]],\n",
       "\n",
       "       [[ 0.05988685, -0.30591724,  0.41864608,  0.08106728],\n",
       "        [-0.54590614, -0.75059878, -0.25141236, -2.21965157],\n",
       "        [ 1.0724355 ,  0.19341328, -1.08585181, -1.38498778]]])"
      ]
     },
     "execution_count": 71,
     "metadata": {},
     "output_type": "execute_result"
    }
   ],
   "source": [
    "arrays = np.zeros((5, 3, 4))\n",
    "for n in range(5):\n",
    "    arrays[n] = np.random.randn(3,4)\n",
    "    \n",
    "arrays"
   ]
  },
  {
   "cell_type": "code",
   "execution_count": 72,
   "metadata": {},
   "outputs": [],
   "source": [
    "stack0 = np.stack(arrays, axis=0)\n",
    "stack1 = np.stack(arrays, axis=1)\n",
    "stack2 = np.stack(arrays, axis=2)"
   ]
  },
  {
   "cell_type": "code",
   "execution_count": 73,
   "metadata": {},
   "outputs": [
    {
     "data": {
      "text/plain": [
       "array([[[ 0.42711362,  2.13059943,  1.00668329, -1.16284069],\n",
       "        [-2.35899144, -0.80764104,  0.30297251,  0.48409107],\n",
       "        [-0.26014634,  0.82748868, -0.8690082 ,  1.4246587 ]],\n",
       "\n",
       "       [[ 2.58018343,  1.37196985,  0.41966824, -0.65883572],\n",
       "        [ 1.15267943,  0.93067746,  0.35353256,  1.71039414],\n",
       "        [ 0.37644574,  0.21687124, -1.55216387, -0.27160831]],\n",
       "\n",
       "       [[ 1.58161786, -0.81689155, -2.38956119, -1.0290985 ],\n",
       "        [ 0.53990218, -0.46179142, -2.3284667 ,  1.03600742],\n",
       "        [-0.15247791, -0.46434394, -0.96841871,  2.21144516]],\n",
       "\n",
       "       [[-1.07131578,  0.07473873,  0.06633345, -0.45480478],\n",
       "        [-1.36677173,  0.03374325,  0.87855698,  0.96613826],\n",
       "        [ 0.55155076,  1.39285747,  0.31524593, -2.47357217]],\n",
       "\n",
       "       [[ 0.05988685, -0.30591724,  0.41864608,  0.08106728],\n",
       "        [-0.54590614, -0.75059878, -0.25141236, -2.21965157],\n",
       "        [ 1.0724355 ,  0.19341328, -1.08585181, -1.38498778]]])"
      ]
     },
     "execution_count": 73,
     "metadata": {},
     "output_type": "execute_result"
    }
   ],
   "source": [
    "stack0"
   ]
  },
  {
   "cell_type": "code",
   "execution_count": 74,
   "metadata": {},
   "outputs": [
    {
     "data": {
      "text/plain": [
       "array([[[ 0.42711362,  2.13059943,  1.00668329, -1.16284069],\n",
       "        [ 2.58018343,  1.37196985,  0.41966824, -0.65883572],\n",
       "        [ 1.58161786, -0.81689155, -2.38956119, -1.0290985 ],\n",
       "        [-1.07131578,  0.07473873,  0.06633345, -0.45480478],\n",
       "        [ 0.05988685, -0.30591724,  0.41864608,  0.08106728]],\n",
       "\n",
       "       [[-2.35899144, -0.80764104,  0.30297251,  0.48409107],\n",
       "        [ 1.15267943,  0.93067746,  0.35353256,  1.71039414],\n",
       "        [ 0.53990218, -0.46179142, -2.3284667 ,  1.03600742],\n",
       "        [-1.36677173,  0.03374325,  0.87855698,  0.96613826],\n",
       "        [-0.54590614, -0.75059878, -0.25141236, -2.21965157]],\n",
       "\n",
       "       [[-0.26014634,  0.82748868, -0.8690082 ,  1.4246587 ],\n",
       "        [ 0.37644574,  0.21687124, -1.55216387, -0.27160831],\n",
       "        [-0.15247791, -0.46434394, -0.96841871,  2.21144516],\n",
       "        [ 0.55155076,  1.39285747,  0.31524593, -2.47357217],\n",
       "        [ 1.0724355 ,  0.19341328, -1.08585181, -1.38498778]]])"
      ]
     },
     "execution_count": 74,
     "metadata": {},
     "output_type": "execute_result"
    }
   ],
   "source": [
    "stack1"
   ]
  },
  {
   "cell_type": "code",
   "execution_count": 75,
   "metadata": {},
   "outputs": [
    {
     "data": {
      "text/plain": [
       "array([[[ 0.42711362,  2.58018343,  1.58161786, -1.07131578,\n",
       "          0.05988685],\n",
       "        [ 2.13059943,  1.37196985, -0.81689155,  0.07473873,\n",
       "         -0.30591724],\n",
       "        [ 1.00668329,  0.41966824, -2.38956119,  0.06633345,\n",
       "          0.41864608],\n",
       "        [-1.16284069, -0.65883572, -1.0290985 , -0.45480478,\n",
       "          0.08106728]],\n",
       "\n",
       "       [[-2.35899144,  1.15267943,  0.53990218, -1.36677173,\n",
       "         -0.54590614],\n",
       "        [-0.80764104,  0.93067746, -0.46179142,  0.03374325,\n",
       "         -0.75059878],\n",
       "        [ 0.30297251,  0.35353256, -2.3284667 ,  0.87855698,\n",
       "         -0.25141236],\n",
       "        [ 0.48409107,  1.71039414,  1.03600742,  0.96613826,\n",
       "         -2.21965157]],\n",
       "\n",
       "       [[-0.26014634,  0.37644574, -0.15247791,  0.55155076,\n",
       "          1.0724355 ],\n",
       "        [ 0.82748868,  0.21687124, -0.46434394,  1.39285747,\n",
       "          0.19341328],\n",
       "        [-0.8690082 , -1.55216387, -0.96841871,  0.31524593,\n",
       "         -1.08585181],\n",
       "        [ 1.4246587 , -0.27160831,  2.21144516, -2.47357217,\n",
       "         -1.38498778]]])"
      ]
     },
     "execution_count": 75,
     "metadata": {},
     "output_type": "execute_result"
    }
   ],
   "source": [
    "stack2"
   ]
  },
  {
   "cell_type": "code",
   "execution_count": 76,
   "metadata": {},
   "outputs": [
    {
     "data": {
      "text/plain": [
       "[array([0, 1, 2, 3, 4])]"
      ]
     },
     "execution_count": 76,
     "metadata": {},
     "output_type": "execute_result"
    }
   ],
   "source": [
    "temp = np.arange(5)\n",
    "np.split(temp, 1)"
   ]
  },
  {
   "cell_type": "code",
   "execution_count": 86,
   "metadata": {},
   "outputs": [
    {
     "data": {
      "text/plain": [
       "(5, 3, 4)"
      ]
     },
     "execution_count": 86,
     "metadata": {},
     "output_type": "execute_result"
    }
   ],
   "source": [
    "before_split = stack0\n",
    "before_split.shape"
   ]
  },
  {
   "cell_type": "code",
   "execution_count": 87,
   "metadata": {},
   "outputs": [
    {
     "data": {
      "text/plain": [
       "[array([[[ 0.42711362,  2.13059943,  1.00668329, -1.16284069],\n",
       "         [-2.35899144, -0.80764104,  0.30297251,  0.48409107],\n",
       "         [-0.26014634,  0.82748868, -0.8690082 ,  1.4246587 ]]]),\n",
       " array([[[ 2.58018343,  1.37196985,  0.41966824, -0.65883572],\n",
       "         [ 1.15267943,  0.93067746,  0.35353256,  1.71039414],\n",
       "         [ 0.37644574,  0.21687124, -1.55216387, -0.27160831]]]),\n",
       " array([[[ 1.58161786, -0.81689155, -2.38956119, -1.0290985 ],\n",
       "         [ 0.53990218, -0.46179142, -2.3284667 ,  1.03600742],\n",
       "         [-0.15247791, -0.46434394, -0.96841871,  2.21144516]]]),\n",
       " array([[[-1.07131578,  0.07473873,  0.06633345, -0.45480478],\n",
       "         [-1.36677173,  0.03374325,  0.87855698,  0.96613826],\n",
       "         [ 0.55155076,  1.39285747,  0.31524593, -2.47357217]]]),\n",
       " array([[[ 0.05988685, -0.30591724,  0.41864608,  0.08106728],\n",
       "         [-0.54590614, -0.75059878, -0.25141236, -2.21965157],\n",
       "         [ 1.0724355 ,  0.19341328, -1.08585181, -1.38498778]]])]"
      ]
     },
     "execution_count": 87,
     "metadata": {},
     "output_type": "execute_result"
    }
   ],
   "source": [
    "s0 = np.split(before_split, 5, axis=0)\n",
    "s0"
   ]
  },
  {
   "cell_type": "code",
   "execution_count": 88,
   "metadata": {},
   "outputs": [
    {
     "data": {
      "text/plain": [
       "list"
      ]
     },
     "execution_count": 88,
     "metadata": {},
     "output_type": "execute_result"
    }
   ],
   "source": [
    "type(s0)"
   ]
  },
  {
   "cell_type": "code",
   "execution_count": 89,
   "metadata": {},
   "outputs": [
    {
     "data": {
      "text/plain": [
       "array([[[ 2.58018343,  1.37196985,  0.41966824, -0.65883572],\n",
       "        [ 1.15267943,  0.93067746,  0.35353256,  1.71039414],\n",
       "        [ 0.37644574,  0.21687124, -1.55216387, -0.27160831]]])"
      ]
     },
     "execution_count": 89,
     "metadata": {},
     "output_type": "execute_result"
    }
   ],
   "source": [
    "s0[1]"
   ]
  },
  {
   "cell_type": "code",
   "execution_count": 90,
   "metadata": {},
   "outputs": [
    {
     "data": {
      "text/plain": [
       "(1, 3, 4)"
      ]
     },
     "execution_count": 90,
     "metadata": {},
     "output_type": "execute_result"
    }
   ],
   "source": [
    "s0[1].shape"
   ]
  },
  {
   "cell_type": "code",
   "execution_count": 92,
   "metadata": {},
   "outputs": [
    {
     "data": {
      "text/plain": [
       "[array([[[ 0.42711362,  2.13059943,  1.00668329, -1.16284069]],\n",
       " \n",
       "        [[ 2.58018343,  1.37196985,  0.41966824, -0.65883572]],\n",
       " \n",
       "        [[ 1.58161786, -0.81689155, -2.38956119, -1.0290985 ]],\n",
       " \n",
       "        [[-1.07131578,  0.07473873,  0.06633345, -0.45480478]],\n",
       " \n",
       "        [[ 0.05988685, -0.30591724,  0.41864608,  0.08106728]]]),\n",
       " array([[[-2.35899144, -0.80764104,  0.30297251,  0.48409107]],\n",
       " \n",
       "        [[ 1.15267943,  0.93067746,  0.35353256,  1.71039414]],\n",
       " \n",
       "        [[ 0.53990218, -0.46179142, -2.3284667 ,  1.03600742]],\n",
       " \n",
       "        [[-1.36677173,  0.03374325,  0.87855698,  0.96613826]],\n",
       " \n",
       "        [[-0.54590614, -0.75059878, -0.25141236, -2.21965157]]]),\n",
       " array([[[-0.26014634,  0.82748868, -0.8690082 ,  1.4246587 ]],\n",
       " \n",
       "        [[ 0.37644574,  0.21687124, -1.55216387, -0.27160831]],\n",
       " \n",
       "        [[-0.15247791, -0.46434394, -0.96841871,  2.21144516]],\n",
       " \n",
       "        [[ 0.55155076,  1.39285747,  0.31524593, -2.47357217]],\n",
       " \n",
       "        [[ 1.0724355 ,  0.19341328, -1.08585181, -1.38498778]]])]"
      ]
     },
     "execution_count": 92,
     "metadata": {},
     "output_type": "execute_result"
    }
   ],
   "source": [
    "s1 = np.split(before_split, 3, axis=1)\n",
    "s1"
   ]
  },
  {
   "cell_type": "code",
   "execution_count": 93,
   "metadata": {},
   "outputs": [
    {
     "data": {
      "text/plain": [
       "[array([[[ 0.42711362],\n",
       "         [-2.35899144],\n",
       "         [-0.26014634]],\n",
       " \n",
       "        [[ 2.58018343],\n",
       "         [ 1.15267943],\n",
       "         [ 0.37644574]],\n",
       " \n",
       "        [[ 1.58161786],\n",
       "         [ 0.53990218],\n",
       "         [-0.15247791]],\n",
       " \n",
       "        [[-1.07131578],\n",
       "         [-1.36677173],\n",
       "         [ 0.55155076]],\n",
       " \n",
       "        [[ 0.05988685],\n",
       "         [-0.54590614],\n",
       "         [ 1.0724355 ]]]), array([[[ 2.13059943],\n",
       "         [-0.80764104],\n",
       "         [ 0.82748868]],\n",
       " \n",
       "        [[ 1.37196985],\n",
       "         [ 0.93067746],\n",
       "         [ 0.21687124]],\n",
       " \n",
       "        [[-0.81689155],\n",
       "         [-0.46179142],\n",
       "         [-0.46434394]],\n",
       " \n",
       "        [[ 0.07473873],\n",
       "         [ 0.03374325],\n",
       "         [ 1.39285747]],\n",
       " \n",
       "        [[-0.30591724],\n",
       "         [-0.75059878],\n",
       "         [ 0.19341328]]]), array([[[ 1.00668329],\n",
       "         [ 0.30297251],\n",
       "         [-0.8690082 ]],\n",
       " \n",
       "        [[ 0.41966824],\n",
       "         [ 0.35353256],\n",
       "         [-1.55216387]],\n",
       " \n",
       "        [[-2.38956119],\n",
       "         [-2.3284667 ],\n",
       "         [-0.96841871]],\n",
       " \n",
       "        [[ 0.06633345],\n",
       "         [ 0.87855698],\n",
       "         [ 0.31524593]],\n",
       " \n",
       "        [[ 0.41864608],\n",
       "         [-0.25141236],\n",
       "         [-1.08585181]]]), array([[[-1.16284069],\n",
       "         [ 0.48409107],\n",
       "         [ 1.4246587 ]],\n",
       " \n",
       "        [[-0.65883572],\n",
       "         [ 1.71039414],\n",
       "         [-0.27160831]],\n",
       " \n",
       "        [[-1.0290985 ],\n",
       "         [ 1.03600742],\n",
       "         [ 2.21144516]],\n",
       " \n",
       "        [[-0.45480478],\n",
       "         [ 0.96613826],\n",
       "         [-2.47357217]],\n",
       " \n",
       "        [[ 0.08106728],\n",
       "         [-2.21965157],\n",
       "         [-1.38498778]]])]"
      ]
     },
     "execution_count": 93,
     "metadata": {},
     "output_type": "execute_result"
    }
   ],
   "source": [
    "s2 = np.split(before_split, 4, axis=2)\n",
    "s2"
   ]
  },
  {
   "cell_type": "markdown",
   "metadata": {},
   "source": [
    "## Array shape manipulation\n",
    "### reshape"
   ]
  },
  {
   "cell_type": "code",
   "execution_count": 94,
   "metadata": {},
   "outputs": [
    {
     "data": {
      "text/plain": [
       "array([ 0,  1,  2,  3,  4,  5,  6,  7,  8,  9, 10, 11, 12, 13, 14, 15, 16,\n",
       "       17, 18, 19, 20, 21, 22, 23])"
      ]
     },
     "execution_count": 94,
     "metadata": {},
     "output_type": "execute_result"
    }
   ],
   "source": [
    "my_start_array = np.array(np.arange(24))\n",
    "my_start_array"
   ]
  },
  {
   "cell_type": "code",
   "execution_count": 95,
   "metadata": {},
   "outputs": [
    {
     "data": {
      "text/plain": [
       "(24,)"
      ]
     },
     "execution_count": 95,
     "metadata": {},
     "output_type": "execute_result"
    }
   ],
   "source": [
    "my_start_array.shape"
   ]
  },
  {
   "cell_type": "code",
   "execution_count": 96,
   "metadata": {},
   "outputs": [
    {
     "data": {
      "text/plain": [
       "array([[ 0,  1,  2,  3,  4,  5,  6,  7],\n",
       "       [ 8,  9, 10, 11, 12, 13, 14, 15],\n",
       "       [16, 17, 18, 19, 20, 21, 22, 23]])"
      ]
     },
     "execution_count": 96,
     "metadata": {},
     "output_type": "execute_result"
    }
   ],
   "source": [
    "my_3_8_array = my_start_array.reshape((3, 8))\n",
    "my_3_8_array"
   ]
  },
  {
   "cell_type": "code",
   "execution_count": 97,
   "metadata": {},
   "outputs": [
    {
     "data": {
      "text/plain": [
       "array([1234,    1,    2,    3,    4,    5,    6,    7,    8,    9,   10,\n",
       "         11,   12,   13,   14,   15,   16,   17,   18,   19,   20,   21,\n",
       "         22,   23])"
      ]
     },
     "execution_count": 97,
     "metadata": {},
     "output_type": "execute_result"
    }
   ],
   "source": [
    "my_3_8_array[0, 0] = 1234\n",
    "my_start_array"
   ]
  },
  {
   "cell_type": "code",
   "execution_count": 98,
   "metadata": {},
   "outputs": [],
   "source": [
    "# reshape created a view of the original array"
   ]
  },
  {
   "cell_type": "code",
   "execution_count": 99,
   "metadata": {},
   "outputs": [
    {
     "data": {
      "text/plain": [
       "array([1234,    1,    2,    3,    4,    5,    6,    7,    8,    9,   10,\n",
       "         11,   12,   13,   14,   15,   16,   17,   18,   19,   20,   21,\n",
       "         22,   23])"
      ]
     },
     "execution_count": 99,
     "metadata": {},
     "output_type": "execute_result"
    }
   ],
   "source": [
    "my_ravel_array = my_3_8_array.ravel()\n",
    "my_ravel_array"
   ]
  },
  {
   "cell_type": "code",
   "execution_count": 100,
   "metadata": {},
   "outputs": [
    {
     "data": {
      "text/plain": [
       "(24,)"
      ]
     },
     "execution_count": 100,
     "metadata": {},
     "output_type": "execute_result"
    }
   ],
   "source": [
    "my_ravel_array.shape"
   ]
  },
  {
   "cell_type": "code",
   "execution_count": 101,
   "metadata": {},
   "outputs": [
    {
     "name": "stdout",
     "output_type": "stream",
     "text": [
      "1234\n",
      "1\n",
      "2\n",
      "3\n",
      "4\n",
      "5\n",
      "6\n",
      "7\n",
      "8\n",
      "9\n",
      "10\n",
      "11\n",
      "12\n",
      "13\n",
      "14\n",
      "15\n",
      "16\n",
      "17\n",
      "18\n",
      "19\n",
      "20\n",
      "21\n",
      "22\n",
      "23\n"
     ]
    }
   ],
   "source": [
    "for n in my_3_8_array.flat:\n",
    "    print(n)"
   ]
  },
  {
   "cell_type": "markdown",
   "metadata": {},
   "source": [
    "## Rearrange array elements"
   ]
  },
  {
   "cell_type": "code",
   "execution_count": 102,
   "metadata": {},
   "outputs": [],
   "source": [
    "my_start_array = np.array(np.arange(24))\n",
    "my_3_8_array = my_start_array.reshape((3,8))\n",
    "my_2_3_4_array = my_start_array.reshape((2, 3, 4))"
   ]
  },
  {
   "cell_type": "code",
   "execution_count": 103,
   "metadata": {},
   "outputs": [
    {
     "data": {
      "text/plain": [
       "array([[ 0,  1,  2,  3,  4,  5,  6,  7],\n",
       "       [ 8,  9, 10, 11, 12, 13, 14, 15],\n",
       "       [16, 17, 18, 19, 20, 21, 22, 23]])"
      ]
     },
     "execution_count": 103,
     "metadata": {},
     "output_type": "execute_result"
    }
   ],
   "source": [
    "my_3_8_array"
   ]
  },
  {
   "cell_type": "code",
   "execution_count": 104,
   "metadata": {},
   "outputs": [
    {
     "data": {
      "text/plain": [
       "array([[ 7,  6,  5,  4,  3,  2,  1,  0],\n",
       "       [15, 14, 13, 12, 11, 10,  9,  8],\n",
       "       [23, 22, 21, 20, 19, 18, 17, 16]])"
      ]
     },
     "execution_count": 104,
     "metadata": {},
     "output_type": "execute_result"
    }
   ],
   "source": [
    "np.fliplr(my_3_8_array)"
   ]
  },
  {
   "cell_type": "code",
   "execution_count": 105,
   "metadata": {},
   "outputs": [
    {
     "data": {
      "text/plain": [
       "array([[[ 0,  1,  2,  3],\n",
       "        [ 4,  5,  6,  7],\n",
       "        [ 8,  9, 10, 11]],\n",
       "\n",
       "       [[12, 13, 14, 15],\n",
       "        [16, 17, 18, 19],\n",
       "        [20, 21, 22, 23]]])"
      ]
     },
     "execution_count": 105,
     "metadata": {},
     "output_type": "execute_result"
    }
   ],
   "source": [
    "my_2_3_4_array"
   ]
  },
  {
   "cell_type": "code",
   "execution_count": 106,
   "metadata": {},
   "outputs": [
    {
     "data": {
      "text/plain": [
       "array([[[ 8,  9, 10, 11],\n",
       "        [ 4,  5,  6,  7],\n",
       "        [ 0,  1,  2,  3]],\n",
       "\n",
       "       [[20, 21, 22, 23],\n",
       "        [16, 17, 18, 19],\n",
       "        [12, 13, 14, 15]]])"
      ]
     },
     "execution_count": 106,
     "metadata": {},
     "output_type": "execute_result"
    }
   ],
   "source": [
    "np.fliplr(my_2_3_4_array)"
   ]
  },
  {
   "cell_type": "code",
   "execution_count": 107,
   "metadata": {},
   "outputs": [
    {
     "data": {
      "text/plain": [
       "array([[16, 17, 18, 19, 20, 21, 22, 23],\n",
       "       [ 8,  9, 10, 11, 12, 13, 14, 15],\n",
       "       [ 0,  1,  2,  3,  4,  5,  6,  7]])"
      ]
     },
     "execution_count": 107,
     "metadata": {},
     "output_type": "execute_result"
    }
   ],
   "source": [
    "np.flipud(my_3_8_array)"
   ]
  },
  {
   "cell_type": "code",
   "execution_count": 108,
   "metadata": {},
   "outputs": [
    {
     "data": {
      "text/plain": [
       "array([[[12, 13, 14, 15],\n",
       "        [16, 17, 18, 19],\n",
       "        [20, 21, 22, 23]],\n",
       "\n",
       "       [[ 0,  1,  2,  3],\n",
       "        [ 4,  5,  6,  7],\n",
       "        [ 8,  9, 10, 11]]])"
      ]
     },
     "execution_count": 108,
     "metadata": {},
     "output_type": "execute_result"
    }
   ],
   "source": [
    "np.flipud(my_2_3_4_array)"
   ]
  },
  {
   "cell_type": "code",
   "execution_count": 109,
   "metadata": {},
   "outputs": [
    {
     "data": {
      "text/plain": [
       "array([ 0,  1,  2,  3,  4,  5,  6,  7,  8,  9, 10, 11, 12, 13, 14, 15, 16,\n",
       "       17, 18, 19, 20, 21, 22, 23])"
      ]
     },
     "execution_count": 109,
     "metadata": {},
     "output_type": "execute_result"
    }
   ],
   "source": [
    "my_start_array"
   ]
  },
  {
   "cell_type": "code",
   "execution_count": 110,
   "metadata": {},
   "outputs": [
    {
     "data": {
      "text/plain": [
       "array([19, 20, 21, 22, 23,  0,  1,  2,  3,  4,  5,  6,  7,  8,  9, 10, 11,\n",
       "       12, 13, 14, 15, 16, 17, 18])"
      ]
     },
     "execution_count": 110,
     "metadata": {},
     "output_type": "execute_result"
    }
   ],
   "source": [
    "np.roll(my_start_array, 5)"
   ]
  },
  {
   "cell_type": "code",
   "execution_count": 111,
   "metadata": {},
   "outputs": [
    {
     "data": {
      "text/plain": [
       "array([ 5,  6,  7,  8,  9, 10, 11, 12, 13, 14, 15, 16, 17, 18, 19, 20, 21,\n",
       "       22, 23,  0,  1,  2,  3,  4])"
      ]
     },
     "execution_count": 111,
     "metadata": {},
     "output_type": "execute_result"
    }
   ],
   "source": [
    "np.roll(my_start_array, -5)"
   ]
  },
  {
   "cell_type": "code",
   "execution_count": 113,
   "metadata": {},
   "outputs": [
    {
     "data": {
      "text/plain": [
       "array([[[ 0,  1,  2,  3],\n",
       "        [ 4,  5,  6,  7],\n",
       "        [ 8,  9, 10, 11]],\n",
       "\n",
       "       [[12, 13, 14, 15],\n",
       "        [16, 17, 18, 19],\n",
       "        [20, 21, 22, 23]]])"
      ]
     },
     "execution_count": 113,
     "metadata": {},
     "output_type": "execute_result"
    }
   ],
   "source": [
    "my_2_3_4_array"
   ]
  },
  {
   "cell_type": "code",
   "execution_count": 114,
   "metadata": {},
   "outputs": [
    {
     "data": {
      "text/plain": [
       "array([[[22, 23,  0,  1],\n",
       "        [ 2,  3,  4,  5],\n",
       "        [ 6,  7,  8,  9]],\n",
       "\n",
       "       [[10, 11, 12, 13],\n",
       "        [14, 15, 16, 17],\n",
       "        [18, 19, 20, 21]]])"
      ]
     },
     "execution_count": 114,
     "metadata": {},
     "output_type": "execute_result"
    }
   ],
   "source": [
    "np.roll(my_2_3_4_array, 2)"
   ]
  },
  {
   "cell_type": "code",
   "execution_count": 115,
   "metadata": {},
   "outputs": [
    {
     "data": {
      "text/plain": [
       "array([[[ 2,  3,  4,  5],\n",
       "        [ 6,  7,  8,  9],\n",
       "        [10, 11, 12, 13]],\n",
       "\n",
       "       [[14, 15, 16, 17],\n",
       "        [18, 19, 20, 21],\n",
       "        [22, 23,  0,  1]]])"
      ]
     },
     "execution_count": 115,
     "metadata": {},
     "output_type": "execute_result"
    }
   ],
   "source": [
    "np.roll(my_2_3_4_array, -2)"
   ]
  },
  {
   "cell_type": "code",
   "execution_count": 116,
   "metadata": {},
   "outputs": [
    {
     "data": {
      "text/plain": [
       "array([[ 0,  1,  2,  3,  4,  5,  6,  7],\n",
       "       [ 8,  9, 10, 11, 12, 13, 14, 15],\n",
       "       [16, 17, 18, 19, 20, 21, 22, 23]])"
      ]
     },
     "execution_count": 116,
     "metadata": {},
     "output_type": "execute_result"
    }
   ],
   "source": [
    "my_3_8_array"
   ]
  },
  {
   "cell_type": "code",
   "execution_count": 117,
   "metadata": {},
   "outputs": [
    {
     "data": {
      "text/plain": [
       "array([[ 7, 15, 23],\n",
       "       [ 6, 14, 22],\n",
       "       [ 5, 13, 21],\n",
       "       [ 4, 12, 20],\n",
       "       [ 3, 11, 19],\n",
       "       [ 2, 10, 18],\n",
       "       [ 1,  9, 17],\n",
       "       [ 0,  8, 16]])"
      ]
     },
     "execution_count": 117,
     "metadata": {},
     "output_type": "execute_result"
    }
   ],
   "source": [
    "np.rot90(my_3_8_array )"
   ]
  },
  {
   "cell_type": "code",
   "execution_count": 118,
   "metadata": {},
   "outputs": [
    {
     "data": {
      "text/plain": [
       "array([[16,  8,  0],\n",
       "       [17,  9,  1],\n",
       "       [18, 10,  2],\n",
       "       [19, 11,  3],\n",
       "       [20, 12,  4],\n",
       "       [21, 13,  5],\n",
       "       [22, 14,  6],\n",
       "       [23, 15,  7]])"
      ]
     },
     "execution_count": 118,
     "metadata": {},
     "output_type": "execute_result"
    }
   ],
   "source": [
    "np.rot90(my_3_8_array, k=-1)"
   ]
  },
  {
   "cell_type": "markdown",
   "metadata": {},
   "source": [
    "## Transpose like operation"
   ]
  },
  {
   "cell_type": "code",
   "execution_count": 119,
   "metadata": {},
   "outputs": [],
   "source": [
    "my_start_array = np.array(np.arange(24))\n",
    "my_3_8_array = my_start_array.reshape((3,8))\n",
    "my_2_3_4_array = my_start_array.reshape((2, 3, 4))"
   ]
  },
  {
   "cell_type": "code",
   "execution_count": 120,
   "metadata": {},
   "outputs": [
    {
     "data": {
      "text/plain": [
       "array([ 0,  1,  2,  3,  4,  5,  6,  7,  8,  9, 10, 11, 12, 13, 14, 15, 16,\n",
       "       17, 18, 19, 20, 21, 22, 23])"
      ]
     },
     "execution_count": 120,
     "metadata": {},
     "output_type": "execute_result"
    }
   ],
   "source": [
    "my_start_array"
   ]
  },
  {
   "cell_type": "code",
   "execution_count": 121,
   "metadata": {},
   "outputs": [
    {
     "data": {
      "text/plain": [
       "array([ 0,  1,  2,  3,  4,  5,  6,  7,  8,  9, 10, 11, 12, 13, 14, 15, 16,\n",
       "       17, 18, 19, 20, 21, 22, 23])"
      ]
     },
     "execution_count": 121,
     "metadata": {},
     "output_type": "execute_result"
    }
   ],
   "source": [
    "np.transpose(my_start_array)"
   ]
  },
  {
   "cell_type": "code",
   "execution_count": 122,
   "metadata": {},
   "outputs": [
    {
     "data": {
      "text/plain": [
       "array([[ 0,  1,  2,  3,  4,  5,  6,  7],\n",
       "       [ 8,  9, 10, 11, 12, 13, 14, 15],\n",
       "       [16, 17, 18, 19, 20, 21, 22, 23]])"
      ]
     },
     "execution_count": 122,
     "metadata": {},
     "output_type": "execute_result"
    }
   ],
   "source": [
    "my_3_8_array"
   ]
  },
  {
   "cell_type": "code",
   "execution_count": 123,
   "metadata": {},
   "outputs": [
    {
     "data": {
      "text/plain": [
       "array([[ 0,  8, 16],\n",
       "       [ 1,  9, 17],\n",
       "       [ 2, 10, 18],\n",
       "       [ 3, 11, 19],\n",
       "       [ 4, 12, 20],\n",
       "       [ 5, 13, 21],\n",
       "       [ 6, 14, 22],\n",
       "       [ 7, 15, 23]])"
      ]
     },
     "execution_count": 123,
     "metadata": {},
     "output_type": "execute_result"
    }
   ],
   "source": [
    "np.transpose(my_3_8_array)"
   ]
  },
  {
   "cell_type": "code",
   "execution_count": 124,
   "metadata": {},
   "outputs": [
    {
     "data": {
      "text/plain": [
       "array([[[ 0,  1,  2,  3],\n",
       "        [ 4,  5,  6,  7],\n",
       "        [ 8,  9, 10, 11]],\n",
       "\n",
       "       [[12, 13, 14, 15],\n",
       "        [16, 17, 18, 19],\n",
       "        [20, 21, 22, 23]]])"
      ]
     },
     "execution_count": 124,
     "metadata": {},
     "output_type": "execute_result"
    }
   ],
   "source": [
    "my_2_3_4_array"
   ]
  },
  {
   "cell_type": "code",
   "execution_count": 125,
   "metadata": {},
   "outputs": [
    {
     "data": {
      "text/plain": [
       "array([[[ 0,  4,  8],\n",
       "        [ 1,  5,  9],\n",
       "        [ 2,  6, 10],\n",
       "        [ 3,  7, 11]],\n",
       "\n",
       "       [[12, 16, 20],\n",
       "        [13, 17, 21],\n",
       "        [14, 18, 22],\n",
       "        [15, 19, 23]]])"
      ]
     },
     "execution_count": 125,
     "metadata": {},
     "output_type": "execute_result"
    }
   ],
   "source": [
    "np.transpose(my_2_3_4_array, axes=(0,2,1))"
   ]
  },
  {
   "cell_type": "code",
   "execution_count": 126,
   "metadata": {},
   "outputs": [
    {
     "data": {
      "text/plain": [
       "array([[[ 0,  1,  2,  3],\n",
       "        [12, 13, 14, 15]],\n",
       "\n",
       "       [[ 4,  5,  6,  7],\n",
       "        [16, 17, 18, 19]],\n",
       "\n",
       "       [[ 8,  9, 10, 11],\n",
       "        [20, 21, 22, 23]]])"
      ]
     },
     "execution_count": 126,
     "metadata": {},
     "output_type": "execute_result"
    }
   ],
   "source": [
    "np.swapaxes(my_2_3_4_array, 1, 0)"
   ]
  },
  {
   "cell_type": "code",
   "execution_count": 127,
   "metadata": {},
   "outputs": [
    {
     "data": {
      "text/plain": [
       "array([[[ 0,  1,  2,  3],\n",
       "        [12, 13, 14, 15]],\n",
       "\n",
       "       [[ 4,  5,  6,  7],\n",
       "        [16, 17, 18, 19]],\n",
       "\n",
       "       [[ 8,  9, 10, 11],\n",
       "        [20, 21, 22, 23]]])"
      ]
     },
     "execution_count": 127,
     "metadata": {},
     "output_type": "execute_result"
    }
   ],
   "source": [
    "np.rollaxis(my_2_3_4_array, 0, 2)"
   ]
  },
  {
   "cell_type": "markdown",
   "metadata": {},
   "source": [
    "* Use `np.transpose` to permute all the axes one\n",
    "* Use `np.swapaxes` to swap any two axes\n",
    "* Use `np.rollaxis` to \"rotate\" the axes"
   ]
  },
  {
   "cell_type": "markdown",
   "metadata": {},
   "source": [
    "## Tiling arrays"
   ]
  },
  {
   "cell_type": "code",
   "execution_count": 128,
   "metadata": {},
   "outputs": [
    {
     "data": {
      "text/plain": [
       "array([ 0,  1,  2,  3,  4,  5,  6,  7,  8,  9, 10, 11])"
      ]
     },
     "execution_count": 128,
     "metadata": {},
     "output_type": "execute_result"
    }
   ],
   "source": [
    "my_start_array = np.array(np.arange(12))\n",
    "my_start_array"
   ]
  },
  {
   "cell_type": "code",
   "execution_count": 129,
   "metadata": {},
   "outputs": [
    {
     "data": {
      "text/plain": [
       "array([ 0,  1,  2,  3,  4,  5,  6,  7,  8,  9, 10, 11,  0,  1,  2,  3,  4,\n",
       "        5,  6,  7,  8,  9, 10, 11,  0,  1,  2,  3,  4,  5,  6,  7,  8,  9,\n",
       "       10, 11])"
      ]
     },
     "execution_count": 129,
     "metadata": {},
     "output_type": "execute_result"
    }
   ],
   "source": [
    "np.tile(my_start_array, 3)"
   ]
  },
  {
   "cell_type": "code",
   "execution_count": 130,
   "metadata": {},
   "outputs": [
    {
     "data": {
      "text/plain": [
       "array([[ 0,  1,  2,  3,  4,  5,  6,  7,  8,  9, 10, 11],\n",
       "       [ 0,  1,  2,  3,  4,  5,  6,  7,  8,  9, 10, 11],\n",
       "       [ 0,  1,  2,  3,  4,  5,  6,  7,  8,  9, 10, 11]])"
      ]
     },
     "execution_count": 130,
     "metadata": {},
     "output_type": "execute_result"
    }
   ],
   "source": [
    "np.tile(my_start_array, 3).reshape((3, 12))"
   ]
  },
  {
   "cell_type": "code",
   "execution_count": 131,
   "metadata": {},
   "outputs": [
    {
     "data": {
      "text/plain": [
       "array([0, 1, 2, 3, 4, 5, 6])"
      ]
     },
     "execution_count": 131,
     "metadata": {},
     "output_type": "execute_result"
    }
   ],
   "source": [
    "my_second_array = np.array(np.arange(7))\n",
    "my_second_array"
   ]
  },
  {
   "cell_type": "code",
   "execution_count": 132,
   "metadata": {},
   "outputs": [
    {
     "data": {
      "text/plain": [
       "array([[0, 1, 2, 3, 4, 5, 6],\n",
       "       [0, 1, 2, 3, 4, 5, 6],\n",
       "       [0, 1, 2, 3, 4, 5, 6]])"
      ]
     },
     "execution_count": 132,
     "metadata": {},
     "output_type": "execute_result"
    }
   ],
   "source": [
    "tile_1 = np.tile(my_second_array, (3, 1))\n",
    "tile_1"
   ]
  },
  {
   "cell_type": "code",
   "execution_count": 133,
   "metadata": {},
   "outputs": [
    {
     "data": {
      "text/plain": [
       "array([[0, 1, 2, 3, 4, 5, 6, 0, 1, 2, 3, 4, 5, 6],\n",
       "       [0, 1, 2, 3, 4, 5, 6, 0, 1, 2, 3, 4, 5, 6],\n",
       "       [0, 1, 2, 3, 4, 5, 6, 0, 1, 2, 3, 4, 5, 6],\n",
       "       [0, 1, 2, 3, 4, 5, 6, 0, 1, 2, 3, 4, 5, 6],\n",
       "       [0, 1, 2, 3, 4, 5, 6, 0, 1, 2, 3, 4, 5, 6],\n",
       "       [0, 1, 2, 3, 4, 5, 6, 0, 1, 2, 3, 4, 5, 6]])"
      ]
     },
     "execution_count": 133,
     "metadata": {},
     "output_type": "execute_result"
    }
   ],
   "source": [
    "tile_2 = np.tile(tile_1, (2, 2))\n",
    "tile_2"
   ]
  },
  {
   "cell_type": "code",
   "execution_count": 135,
   "metadata": {},
   "outputs": [
    {
     "data": {
      "text/plain": [
       "array([[0, 1, 2, 3, 4, 5, 6, 0, 1, 2, 3, 4, 5, 6],\n",
       "       [0, 1, 2, 3, 4, 5, 6, 0, 1, 2, 3, 4, 5, 6],\n",
       "       [0, 1, 2, 3, 4, 5, 6, 0, 1, 2, 3, 4, 5, 6],\n",
       "       [0, 1, 2, 3, 4, 5, 6, 0, 1, 2, 3, 4, 5, 6],\n",
       "       [0, 1, 2, 3, 4, 5, 6, 0, 1, 2, 3, 4, 5, 6],\n",
       "       [0, 1, 2, 3, 4, 5, 6, 0, 1, 2, 3, 4, 5, 6],\n",
       "       [0, 1, 2, 3, 4, 5, 6, 0, 1, 2, 3, 4, 5, 6],\n",
       "       [0, 1, 2, 3, 4, 5, 6, 0, 1, 2, 3, 4, 5, 6],\n",
       "       [0, 1, 2, 3, 4, 5, 6, 0, 1, 2, 3, 4, 5, 6],\n",
       "       [0, 1, 2, 3, 4, 5, 6, 0, 1, 2, 3, 4, 5, 6],\n",
       "       [0, 1, 2, 3, 4, 5, 6, 0, 1, 2, 3, 4, 5, 6],\n",
       "       [0, 1, 2, 3, 4, 5, 6, 0, 1, 2, 3, 4, 5, 6],\n",
       "       [0, 1, 2, 3, 4, 5, 6, 0, 1, 2, 3, 4, 5, 6],\n",
       "       [0, 1, 2, 3, 4, 5, 6, 0, 1, 2, 3, 4, 5, 6],\n",
       "       [0, 1, 2, 3, 4, 5, 6, 0, 1, 2, 3, 4, 5, 6],\n",
       "       [0, 1, 2, 3, 4, 5, 6, 0, 1, 2, 3, 4, 5, 6],\n",
       "       [0, 1, 2, 3, 4, 5, 6, 0, 1, 2, 3, 4, 5, 6],\n",
       "       [0, 1, 2, 3, 4, 5, 6, 0, 1, 2, 3, 4, 5, 6]])"
      ]
     },
     "execution_count": 135,
     "metadata": {},
     "output_type": "execute_result"
    }
   ],
   "source": [
    "tile_3 = np.tile(tile_2, (3, 1))\n",
    "tile_3"
   ]
  },
  {
   "cell_type": "code",
   "execution_count": 136,
   "metadata": {},
   "outputs": [
    {
     "data": {
      "text/plain": [
       "array([0, 1, 2, 3, 4, 5, 6])"
      ]
     },
     "execution_count": 136,
     "metadata": {},
     "output_type": "execute_result"
    }
   ],
   "source": [
    "my_second_array"
   ]
  },
  {
   "cell_type": "code",
   "execution_count": 137,
   "metadata": {},
   "outputs": [
    {
     "data": {
      "text/plain": [
       "array([0, 0, 0, 1, 1, 1, 2, 2, 2, 3, 3, 3, 4, 4, 4, 5, 5, 5, 6, 6, 6])"
      ]
     },
     "execution_count": 137,
     "metadata": {},
     "output_type": "execute_result"
    }
   ],
   "source": [
    "np.repeat(my_second_array, 3)"
   ]
  },
  {
   "cell_type": "code",
   "execution_count": 138,
   "metadata": {},
   "outputs": [
    {
     "data": {
      "text/plain": [
       "array([[[ 0,  1,  2,  3],\n",
       "        [ 4,  5,  6,  7],\n",
       "        [ 8,  9, 10, 11]],\n",
       "\n",
       "       [[12, 13, 14, 15],\n",
       "        [16, 17, 18, 19],\n",
       "        [20, 21, 22, 23]]])"
      ]
     },
     "execution_count": 138,
     "metadata": {},
     "output_type": "execute_result"
    }
   ],
   "source": [
    "my_repeatable_array = np.array(np.arange(24)).reshape(2,3,4)\n",
    "my_repeatable_array"
   ]
  },
  {
   "cell_type": "code",
   "execution_count": 139,
   "metadata": {},
   "outputs": [
    {
     "data": {
      "text/plain": [
       "array([[[ 0,  1,  2,  3],\n",
       "        [ 4,  5,  6,  7],\n",
       "        [ 8,  9, 10, 11]],\n",
       "\n",
       "       [[ 0,  1,  2,  3],\n",
       "        [ 4,  5,  6,  7],\n",
       "        [ 8,  9, 10, 11]],\n",
       "\n",
       "       [[12, 13, 14, 15],\n",
       "        [16, 17, 18, 19],\n",
       "        [20, 21, 22, 23]],\n",
       "\n",
       "       [[12, 13, 14, 15],\n",
       "        [16, 17, 18, 19],\n",
       "        [20, 21, 22, 23]]])"
      ]
     },
     "execution_count": 139,
     "metadata": {},
     "output_type": "execute_result"
    }
   ],
   "source": [
    "np.repeat(my_repeatable_array, 2, axis=0)"
   ]
  },
  {
   "cell_type": "code",
   "execution_count": 140,
   "metadata": {},
   "outputs": [
    {
     "data": {
      "text/plain": [
       "array([[[ 0,  1,  2,  3],\n",
       "        [ 0,  1,  2,  3],\n",
       "        [ 4,  5,  6,  7],\n",
       "        [ 4,  5,  6,  7],\n",
       "        [ 8,  9, 10, 11],\n",
       "        [ 8,  9, 10, 11]],\n",
       "\n",
       "       [[12, 13, 14, 15],\n",
       "        [12, 13, 14, 15],\n",
       "        [16, 17, 18, 19],\n",
       "        [16, 17, 18, 19],\n",
       "        [20, 21, 22, 23],\n",
       "        [20, 21, 22, 23]]])"
      ]
     },
     "execution_count": 140,
     "metadata": {},
     "output_type": "execute_result"
    }
   ],
   "source": [
    "np.repeat(my_repeatable_array, 2, axis=1)"
   ]
  },
  {
   "cell_type": "code",
   "execution_count": 141,
   "metadata": {},
   "outputs": [
    {
     "data": {
      "text/plain": [
       "array([[[ 0,  0,  1,  1,  2,  2,  3,  3],\n",
       "        [ 4,  4,  5,  5,  6,  6,  7,  7],\n",
       "        [ 8,  8,  9,  9, 10, 10, 11, 11]],\n",
       "\n",
       "       [[12, 12, 13, 13, 14, 14, 15, 15],\n",
       "        [16, 16, 17, 17, 18, 18, 19, 19],\n",
       "        [20, 20, 21, 21, 22, 22, 23, 23]]])"
      ]
     },
     "execution_count": 141,
     "metadata": {},
     "output_type": "execute_result"
    }
   ],
   "source": [
    "np.repeat(my_repeatable_array, 2, axis=2)"
   ]
  },
  {
   "cell_type": "code",
   "execution_count": null,
   "metadata": {},
   "outputs": [],
   "source": []
  }
 ],
 "metadata": {
  "kernelspec": {
   "display_name": "Python 3",
   "language": "python",
   "name": "python3"
  },
  "language_info": {
   "codemirror_mode": {
    "name": "ipython",
    "version": 3
   },
   "file_extension": ".py",
   "mimetype": "text/x-python",
   "name": "python",
   "nbconvert_exporter": "python",
   "pygments_lexer": "ipython3",
   "version": "3.6.4"
  }
 },
 "nbformat": 4,
 "nbformat_minor": 2
}
