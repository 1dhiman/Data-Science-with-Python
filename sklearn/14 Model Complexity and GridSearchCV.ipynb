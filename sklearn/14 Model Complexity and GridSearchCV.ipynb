{
 "cells": [
  {
   "cell_type": "markdown",
   "metadata": {},
   "source": [
    "## Parameter selection, Validation, and Testing\n",
    "\n",
    "### Hyperparameters, Over-fitting, and Under-fitting"
   ]
  },
  {
   "cell_type": "code",
   "execution_count": 4,
   "metadata": {},
   "outputs": [],
   "source": [
    "import numpy as np\n",
    "import pandas as pd\n",
    "import matplotlib.pyplot as plt\n",
    "from sklearn.model_selection import cross_val_score, KFold\n",
    "from sklearn.neighbors import KNeighborsRegressor\n",
    "\n",
    "%matplotlib inline"
   ]
  },
  {
   "cell_type": "code",
   "execution_count": 5,
   "metadata": {},
   "outputs": [
    {
     "name": "stdout",
     "output_type": "stream",
     "text": [
      "n_neighbors: 1, average score: 0.668485\n",
      "n_neighbors: 3, average score: 0.763023\n",
      "n_neighbors: 5, average score: 0.747368\n",
      "n_neighbors: 10, average score: 0.676840\n",
      "n_neighbors: 20, average score: 0.555855\n"
     ]
    }
   ],
   "source": [
    "# generate toy dataset\n",
    "x = np.linspace(-3, 3, 100)\n",
    "rng = np.random.RandomState(42)\n",
    "y = np.sin(4 * x) + x + rng.normal(size=len(x))\n",
    "X = x[:, np.newaxis]\n",
    "\n",
    "cv = KFold(shuffle=True)\n",
    "\n",
    "# for each parameter setting do cross-validations:\n",
    "for n_neighbors in [1, 3, 5, 10, 20]:\n",
    "    scores = cross_val_score(KNeighborsRegressor(n_neighbors=n_neighbors), X, y, cv=cv)\n",
    "    print(\"n_neighbors: %d, average score: %f\" % (n_neighbors, np.mean(scores)))"
   ]
  },
  {
   "cell_type": "code",
   "execution_count": 10,
   "metadata": {},
   "outputs": [
    {
     "data": {
      "image/png": "[encoded data removed]",
      "text/plain": [
       "<matplotlib.figure.Figure at 0x1099f64e0>"
      ]
     },
     "metadata": {},
     "output_type": "display_data"
    }
   ],
   "source": [
    "from sklearn.model_selection import validation_curve\n",
    "n_neighbors = [1, 3, 5, 10, 20, 50]\n",
    "train_errors, test_errors = validation_curve(KNeighborsRegressor(), X, y, param_name=\"n_neighbors\",\n",
    "                                            param_range=n_neighbors, cv=cv)\n",
    "plt.plot(n_neighbors, train_errors.mean(axis=1), label='train error')\n",
    "plt.plot(n_neighbors, test_errors.mean(axis=1), label='test error')\n",
    "plt.legend(loc='best');"
   ]
  },
  {
   "cell_type": "code",
   "execution_count": 12,
   "metadata": {},
   "outputs": [
    {
     "name": "stdout",
     "output_type": "stream",
     "text": [
      "C: 0.001000, gamma: 0.001000, average score: -0.031950\n",
      "C: 0.001000, gamma: 0.010000, average score: -0.143806\n",
      "C: 0.001000, gamma: 0.100000, average score: 0.009637\n",
      "C: 0.001000, gamma: 1.000000, average score: -0.009869\n",
      "C: 0.010000, gamma: 0.001000, average score: -0.079059\n",
      "C: 0.010000, gamma: 0.010000, average score: -0.070630\n",
      "C: 0.010000, gamma: 0.100000, average score: 0.036582\n",
      "C: 0.010000, gamma: 1.000000, average score: 0.075598\n",
      "C: 0.100000, gamma: 0.001000, average score: -0.008282\n",
      "C: 0.100000, gamma: 0.010000, average score: 0.182955\n",
      "C: 0.100000, gamma: 0.100000, average score: 0.516078\n",
      "C: 0.100000, gamma: 1.000000, average score: 0.458169\n",
      "C: 1.000000, gamma: 0.001000, average score: 0.202498\n",
      "C: 1.000000, gamma: 0.010000, average score: 0.599188\n",
      "C: 1.000000, gamma: 0.100000, average score: 0.674927\n",
      "C: 1.000000, gamma: 1.000000, average score: 0.678442\n",
      "C: 10.000000, gamma: 0.001000, average score: 0.576713\n",
      "C: 10.000000, gamma: 0.010000, average score: 0.619409\n",
      "C: 10.000000, gamma: 0.100000, average score: 0.679582\n",
      "C: 10.000000, gamma: 1.000000, average score: 0.711133\n"
     ]
    }
   ],
   "source": [
    "from sklearn.model_selection import cross_val_score, KFold\n",
    "from sklearn.svm import SVR\n",
    "\n",
    "# each parameter setting do cross-validation:\n",
    "for C in [0.001, 0.01, 0.1, 1, 10]:\n",
    "    for gamma in [0.001, 0.01, 0.1, 1]:\n",
    "        scores = cross_val_score(SVR(C=C, gamma=gamma), X, y, cv=cv)\n",
    "        print('C: %f, gamma: %f, average score: %f' % (C, gamma, np.mean(scores)))"
   ]
  },
  {
   "cell_type": "code",
   "execution_count": 14,
   "metadata": {},
   "outputs": [],
   "source": [
    "from sklearn.model_selection import GridSearchCV\n",
    "param_grid = {'C': [0.001, 0.01, 0.1, 1, 10],\n",
    "             'gamma': [0.001, 0.01, 0.1, 1]}\n",
    "\n",
    "grid = GridSearchCV(SVR(), param_grid=param_grid, cv=cv, verbose=3)"
   ]
  },
  {
   "cell_type": "code",
   "execution_count": 15,
   "metadata": {},
   "outputs": [
    {
     "name": "stdout",
     "output_type": "stream",
     "text": [
      "Fitting 3 folds for each of 20 candidates, totalling 60 fits\n",
      "[CV] gamma=0.001, C=0.001 ............................................\n",
      "[CV] .. gamma=0.001, C=0.001, score=-0.3438825790698268, total=   0.0s\n",
      "[CV] gamma=0.001, C=0.001 ............................................\n",
      "[CV] . gamma=0.001, C=0.001, score=-0.07600113478974224, total=   0.0s\n",
      "[CV] gamma=0.001, C=0.001 ............................................\n",
      "[CV] . gamma=0.001, C=0.001, score=-0.04029468037889994, total=   0.0s\n",
      "[CV] gamma=0.01, C=0.001 .............................................\n",
      "[CV] .. gamma=0.01, C=0.001, score=-0.34175477447141067, total=   0.0s\n",
      "[CV] gamma=0.01, C=0.001 .............................................\n",
      "[CV] .. gamma=0.01, C=0.001, score=-0.07339841243260281, total=   0.0s\n",
      "[CV] gamma=0.01, C=0.001 .............................................\n",
      "[CV] ... gamma=0.01, C=0.001, score=-0.0382654004996934, total=   0.0s\n",
      "[CV] gamma=0.1, C=0.001 ..............................................\n",
      "[CV] .... gamma=0.1, C=0.001, score=-0.3328166003296804, total=   0.0s\n",
      "[CV] gamma=0.1, C=0.001 ..............................................\n",
      "[CV] .. gamma=0.1, C=0.001, score=-0.062220173037823345, total=   0.0s\n",
      "[CV] gamma=0.1, C=0.001 ..............................................\n",
      "[CV] .. gamma=0.1, C=0.001, score=-0.029253310550848788, total=   0.0s\n",
      "[CV] gamma=1, C=0.001 ................................................\n",
      "[CV] ..... gamma=1, C=0.001, score=-0.33472406710674174, total=   0.0s\n",
      "[CV] gamma=1, C=0.001 ................................................\n",
      "[CV] ...... gamma=1, C=0.001, score=-0.0639838410207354, total=   0.0s\n",
      "[CV] gamma=1, C=0.001 ................................................\n",
      "[CV] .... gamma=1, C=0.001, score=-0.030555200013560043, total=   0.0s\n",
      "[CV] gamma=0.001, C=0.01 .............................................\n",
      "[CV] ... gamma=0.001, C=0.01, score=-0.3415265935072329, total=   0.0s\n",
      "[CV] gamma=0.001, C=0.01 .............................................\n",
      "[CV] .. gamma=0.001, C=0.01, score=-0.07312518914647592, total=   0.0s\n",
      "[CV] gamma=0.001, C=0.01 .............................................\n",
      "[CV] .. gamma=0.001, C=0.01, score=-0.03806248480621455, total=   0.0s\n",
      "[CV] gamma=0.01, C=0.01 ..............................................\n",
      "[CV] ... gamma=0.01, C=0.01, score=-0.32047495592918396, total=   0.0s\n",
      "[CV] gamma=0.01, C=0.01 ..............................................\n",
      "[CV] .. gamma=0.01, C=0.01, score=-0.048194192176017836, total=   0.0s\n",
      "[CV] gamma=0.01, C=0.01 ..............................................\n",
      "[CV] .. gamma=0.01, C=0.01, score=-0.017929054239835818, total=   0.0s\n",
      "[CV] gamma=0.1, C=0.01 ...............................................\n",
      "[CV] .... gamma=0.1, C=0.01, score=-0.21384408470455973, total=   0.0s\n",
      "[CV] gamma=0.1, C=0.01 ...............................................\n",
      "[CV] ..... gamma=0.1, C=0.01, score=0.04227065308938327, total=   0.0s\n",
      "[CV] gamma=0.1, C=0.01 ...............................................\n",
      "[CV] ..... gamma=0.1, C=0.01, score=0.07214720375638439, total=   0.0s\n",
      "[CV] gamma=1, C=0.01 .................................................\n",
      "[CV] ...... gamma=1, C=0.01, score=-0.23346909802072546, total=   0.0s\n",
      "[CV] gamma=1, C=0.01 .................................................\n",
      "[CV] ...... gamma=1, C=0.01, score=0.040601915473648664, total=   0.0s\n",
      "[CV] gamma=1, C=0.01 .................................................\n",
      "[CV] ...... gamma=1, C=0.01, score=0.055608270818638283, total=   0.0s\n",
      "[CV] gamma=0.001, C=0.1 ..............................................\n",
      "[CV] .... gamma=0.001, C=0.1, score=-0.3182375054641724, total=   0.0s\n",
      "[CV] gamma=0.001, C=0.1 ..............................................\n",
      "[CV] ... gamma=0.001, C=0.1, score=-0.04561504014504525, total=   0.0s\n",
      "[CV] gamma=0.001, C=0.1 ..............................................\n",
      "[CV] .... gamma=0.001, C=0.1, score=-0.0159312584909177, total=   0.0s\n",
      "[CV] gamma=0.01, C=0.1 ...............................................\n",
      "[CV] .... gamma=0.01, C=0.1, score=-0.10516609612502315, total=   0.0s\n",
      "[CV] gamma=0.01, C=0.1 ...............................................\n",
      "[CV] ...... gamma=0.01, C=0.1, score=0.1250888854221811, total=   0.0s\n",
      "[CV] gamma=0.01, C=0.1 ...............................................\n",
      "[CV] ...... gamma=0.01, C=0.1, score=0.1447637020474808, total=   0.0s\n",
      "[CV] gamma=0.1, C=0.1 ................................................\n",
      "[CV] ....... gamma=0.1, C=0.1, score=0.4064274531067449, total=   0.0s\n",
      "[CV] gamma=0.1, C=0.1 ................................................\n",
      "[CV] ....... gamma=0.1, C=0.1, score=0.4774905184373291, total=   0.0s\n",
      "[CV] gamma=0.1, C=0.1 ................................................\n",
      "[CV] ....... gamma=0.1, C=0.1, score=0.5053563944384729, total=   0.0s\n",
      "[CV] gamma=1, C=0.1 ..................................................\n",
      "[CV] .......... gamma=1, C=0.1, score=0.301799837204756, total=   0.0s\n",
      "[CV] gamma=1, C=0.1 ..................................................\n",
      "[CV] .......... gamma=1, C=0.1, score=0.481320602104211, total=   0.0s\n",
      "[CV] gamma=1, C=0.1 ..................................................\n",
      "[CV] ........ gamma=1, C=0.1, score=0.48253354396222836, total=   0.0s\n",
      "[CV] gamma=0.001, C=1 ................................................\n",
      "[CV] ..... gamma=0.001, C=1, score=-0.08440797743940576, total=   0.0s\n",
      "[CV] gamma=0.001, C=1 ................................................\n",
      "[CV] ........... gamma=0.001, C=1, score=0.138040150267, total=   0.0s\n",
      "[CV] gamma=0.001, C=1 ................................................\n",
      "[CV] ....... gamma=0.001, C=1, score=0.1577759183953632, total=   0.0s\n",
      "[CV] gamma=0.01, C=1 .................................................\n",
      "[CV] ........ gamma=0.01, C=1, score=0.4517893550859364, total=   0.0s\n",
      "[CV] gamma=0.01, C=1 .................................................\n",
      "[CV] ........ gamma=0.01, C=1, score=0.5483122552424674, total=   0.0s\n",
      "[CV] gamma=0.01, C=1 .................................................\n",
      "[CV] ......... gamma=0.01, C=1, score=0.625447414538926, total=   0.0s\n",
      "[CV] gamma=0.1, C=1 ..................................................\n",
      "[CV] ......... gamma=0.1, C=1, score=0.3949914695206296, total=   0.0s\n",
      "[CV] gamma=0.1, C=1 ..................................................\n",
      "[CV] ......... gamma=0.1, C=1, score=0.6422932452076298, total=   0.0s\n",
      "[CV] gamma=0.1, C=1 ..................................................\n",
      "[CV] ......... gamma=0.1, C=1, score=0.7346812503831068, total=   0.0s\n",
      "[CV] gamma=1, C=1 ....................................................\n",
      "[CV] ........... gamma=1, C=1, score=0.4485276065216257, total=   0.0s\n",
      "[CV] gamma=1, C=1 ....................................................\n",
      "[CV] ........... gamma=1, C=1, score=0.7273006419381405, total=   0.0s\n",
      "[CV] gamma=1, C=1 ....................................................\n",
      "[CV] ............ gamma=1, C=1, score=0.775872005063203, total=   0.0s\n",
      "[CV] gamma=0.001, C=10 ...............................................\n",
      "[CV] ..... gamma=0.001, C=10, score=0.45958929252447794, total=   0.0s\n",
      "[CV] gamma=0.001, C=10 ...............................................\n",
      "[CV] ...... gamma=0.001, C=10, score=0.5409962546777023, total=   0.0s\n",
      "[CV] gamma=0.001, C=10 ...............................................\n",
      "[CV] ...... gamma=0.001, C=10, score=0.6238763556379587, total=   0.0s\n",
      "[CV] gamma=0.01, C=10 ................................................\n",
      "[CV] ...... gamma=0.01, C=10, score=0.41918138114693426, total=   0.0s\n",
      "[CV] gamma=0.01, C=10 ................................................\n",
      "[CV] ....... gamma=0.01, C=10, score=0.6054479725960724, total=   0.0s\n",
      "[CV] gamma=0.01, C=10 ................................................\n",
      "[CV] ....... gamma=0.01, C=10, score=0.6758993284091767, total=   0.0s\n",
      "[CV] gamma=0.1, C=10 .................................................\n",
      "[CV] ....... gamma=0.1, C=10, score=0.31673868928440974, total=   0.0s\n",
      "[CV] gamma=0.1, C=10 .................................................\n",
      "[CV] ........ gamma=0.1, C=10, score=0.6897521779975548, total=   0.0s\n",
      "[CV] gamma=0.1, C=10 .................................................\n",
      "[CV] ......... gamma=0.1, C=10, score=0.749590599941841, total=   0.0s\n",
      "[CV] gamma=1, C=10 ...................................................\n",
      "[CV] .......... gamma=1, C=10, score=0.5307009303841392, total=   0.0s\n",
      "[CV] gamma=1, C=10 ...................................................\n",
      "[CV] .......... gamma=1, C=10, score=0.7968854489574639, total=   0.0s"
     ]
    },
    {
     "name": "stderr",
     "output_type": "stream",
     "text": [
      "[Parallel(n_jobs=1)]: Done   1 out of   1 | elapsed:    0.0s remaining:    0.0s\n",
      "[Parallel(n_jobs=1)]: Done   2 out of   2 | elapsed:    0.0s remaining:    0.0s\n"
     ]
    },
    {
     "name": "stdout",
     "output_type": "stream",
     "text": [
      "\n",
      "[CV] gamma=1, C=10 ...................................................\n",
      "[CV] .......... gamma=1, C=10, score=0.8604503002960312, total=   0.0s\n"
     ]
    },
    {
     "name": "stderr",
     "output_type": "stream",
     "text": [
      "[Parallel(n_jobs=1)]: Done  60 out of  60 | elapsed:    0.2s finished\n"
     ]
    },
    {
     "data": {
      "text/plain": [
       "GridSearchCV(cv=KFold(n_splits=3, random_state=None, shuffle=True),\n",
       "       error_score='raise',\n",
       "       estimator=SVR(C=1.0, cache_size=200, coef0=0.0, degree=3, epsilon=0.1, gamma='auto',\n",
       "  kernel='rbf', max_iter=-1, shrinking=True, tol=0.001, verbose=False),\n",
       "       fit_params=None, iid=True, n_jobs=1,\n",
       "       param_grid={'gamma': [0.001, 0.01, 0.1, 1], 'C': [0.001, 0.01, 0.1, 1, 10]},\n",
       "       pre_dispatch='2*n_jobs', refit=True, return_train_score='warn',\n",
       "       scoring=None, verbose=3)"
      ]
     },
     "execution_count": 15,
     "metadata": {},
     "output_type": "execute_result"
    }
   ],
   "source": [
    "grid.fit(X, y)"
   ]
  },
  {
   "cell_type": "code",
   "execution_count": 16,
   "metadata": {},
   "outputs": [
    {
     "data": {
      "text/plain": [
       "array([-1.79762875, -1.74054091, -1.71412904, -1.72272347, -1.76880247,\n",
       "       -1.8527208 , -1.97255382, -2.12407501, -2.30087676, -2.49463429,\n",
       "       -2.695503  , -2.89262935, -3.07474705, -3.23082299, -3.35071314,\n",
       "       -3.42578612, -3.44947391, -3.41771237, -3.32924127, -3.18574205,\n",
       "       -2.9918017 , -2.75470244, -2.48404785, -2.19124658, -1.88888388,\n",
       "       -1.59001819, -1.30744475, -1.05297034, -0.8367425 , -0.66667333,\n",
       "       -0.54799235, -0.4829551 , -0.4707249 , -0.50743515, -0.58642852,\n",
       "       -0.69865919, -0.83323456, -0.97806438, -1.12057877, -1.24847261,\n",
       "       -1.35043139, -1.41679516, -1.44012026, -1.41560488, -1.3413525 ,\n",
       "       -1.21845724, -1.05090633, -0.84530623, -0.61045003, -0.35675398,\n",
       "       -0.09559933,  0.16137852,  0.40300817,  0.61926205,  0.80185531,\n",
       "        0.94472644,  1.04437082,  1.10000798,  1.11357463,  1.08954695,\n",
       "        1.03460678,  0.95717608,  0.86685224,  0.7737823 ,  0.68801751,\n",
       "        0.61888941,  0.57444669,  0.56098656,  0.58270777,  0.64150352,\n",
       "        0.73690334,  0.86616306,  1.02449275,  1.20540425,  1.40115266,\n",
       "        1.60324152,  1.80295801,  1.99190412,  2.16249073,  2.3083654 ,\n",
       "        2.42474939,  2.50866621,  2.55905134,  2.57674055,  2.56434191,\n",
       "        2.52600389,  2.46709789,  2.39383845,  2.31286721,  2.23082834,\n",
       "        2.15396216,  2.0877418 ,  2.03657355,  2.00357681,  1.99045342,\n",
       "        1.99745004,  2.02341108,  2.06591373,  2.12147209,  2.18579347])"
      ]
     },
     "execution_count": 16,
     "metadata": {},
     "output_type": "execute_result"
    }
   ],
   "source": [
    "grid.predict(X)"
   ]
  },
  {
   "cell_type": "code",
   "execution_count": 17,
   "metadata": {},
   "outputs": [
    {
     "name": "stdout",
     "output_type": "stream",
     "text": [
      "0.727359113584\n"
     ]
    }
   ],
   "source": [
    "print(grid.best_score_)"
   ]
  },
  {
   "cell_type": "code",
   "execution_count": 18,
   "metadata": {},
   "outputs": [
    {
     "name": "stdout",
     "output_type": "stream",
     "text": [
      "{'gamma': 1, 'C': 10}\n"
     ]
    }
   ],
   "source": [
    "print(grid.best_params_)"
   ]
  },
  {
   "cell_type": "code",
   "execution_count": 19,
   "metadata": {},
   "outputs": [
    {
     "data": {
      "text/plain": [
       "0.7262035177984737"
      ]
     },
     "execution_count": 19,
     "metadata": {},
     "output_type": "execute_result"
    }
   ],
   "source": [
    "from sklearn.model_selection import train_test_split\n",
    "X_train, X_test, y_train, y_test = train_test_split(X, y, random_state=1)\n",
    "\n",
    "param_grid = {'C': [0.001, 0.01, 0.1, 1, 10],\n",
    "             'gamma': [0.001, 0.01, 0.1, 1]}\n",
    "cv = KFold(n_splits=10, shuffle=True)\n",
    "\n",
    "grid = GridSearchCV(SVR(), param_grid=param_grid, cv=cv)\n",
    "\n",
    "grid.fit(X_train, y_train)\n",
    "grid.score(X_test, y_test)"
   ]
  },
  {
   "cell_type": "code",
   "execution_count": 20,
   "metadata": {},
   "outputs": [
    {
     "data": {
      "text/plain": [
       "{'C': 10, 'gamma': 1}"
      ]
     },
     "execution_count": 20,
     "metadata": {},
     "output_type": "execute_result"
    }
   ],
   "source": [
    "grid.best_params_"
   ]
  },
  {
   "cell_type": "code",
   "execution_count": 21,
   "metadata": {},
   "outputs": [
    {
     "name": "stdout",
     "output_type": "stream",
     "text": [
      "Fitting 1 folds for each of 20 candidates, totalling 20 fits\n",
      "[CV] gamma=0.001, C=0.001 ............................................\n",
      "[CV] . gamma=0.001, C=0.001, score=-0.10674496751637297, total=   0.0s\n",
      "[CV] gamma=0.01, C=0.001 .............................................\n",
      "[CV] .. gamma=0.01, C=0.001, score=-0.10600829650044741, total=   0.0s\n",
      "[CV] gamma=0.1, C=0.001 ..............................................\n",
      "[CV] ... gamma=0.1, C=0.001, score=-0.10137778233961026, total=   0.0s\n",
      "[CV] gamma=1, C=0.001 ................................................\n",
      "[CV] ..... gamma=1, C=0.001, score=-0.10029837243781348, total=   0.0s\n",
      "[CV] gamma=0.001, C=0.01 .............................................\n",
      "[CV] .. gamma=0.001, C=0.01, score=-0.10598044300013076, total=   0.0s\n",
      "[CV] gamma=0.01, C=0.01 ..............................................\n",
      "[CV] ... gamma=0.01, C=0.01, score=-0.09731497948100754, total=   0.0s\n",
      "[CV] gamma=0.1, C=0.01 ...............................................\n",
      "[CV] .... gamma=0.1, C=0.01, score=-0.04122385736041467, total=   0.0s\n",
      "[CV] gamma=1, C=0.01 .................................................\n",
      "[CV] ...... gamma=1, C=0.01, score=-0.03912688629981309, total=   0.0s\n",
      "[CV] gamma=0.001, C=0.1 ..............................................\n",
      "[CV] ... gamma=0.001, C=0.1, score=-0.09643169469955737, total=   0.0s\n",
      "[CV] gamma=0.01, C=0.1 ...............................................\n",
      "[CV] ..... gamma=0.01, C=0.1, score=0.02204277064045823, total=   0.0s\n",
      "[CV] gamma=0.1, C=0.1 ................................................\n",
      "[CV] ........ gamma=0.1, C=0.1, score=0.352566086812943, total=   0.0s\n",
      "[CV] gamma=1, C=0.1 ..................................................\n",
      "[CV] ......... gamma=1, C=0.1, score=0.3455709178076807, total=   0.0s\n",
      "[CV] gamma=0.001, C=1 ................................................\n",
      "[CV] ...... gamma=0.001, C=1, score=0.03374281001797408, total=   0.0s\n",
      "[CV] gamma=0.01, C=1 .................................................\n",
      "[CV] ....... gamma=0.01, C=1, score=0.46474418666135986, total=   0.0s\n",
      "[CV] gamma=0.1, C=1 ..................................................\n",
      "[CV] ......... gamma=0.1, C=1, score=0.6283321630846193, total=   0.0s\n",
      "[CV] gamma=1, C=1 ....................................................\n",
      "[CV] ............ gamma=1, C=1, score=0.693479685223908, total=   0.0s\n",
      "[CV] gamma=0.001, C=10 ...............................................\n",
      "[CV] ...... gamma=0.001, C=10, score=0.4681271355282679, total=   0.0s\n",
      "[CV] gamma=0.01, C=10 ................................................\n",
      "[CV] ........ gamma=0.01, C=10, score=0.538729319088503, total=   0.0s\n",
      "[CV] gamma=0.1, C=10 .................................................\n",
      "[CV] ........ gamma=0.1, C=10, score=0.6603113980401443, total=   0.0s\n",
      "[CV] gamma=1, C=10 ...................................................\n",
      "[CV] .......... gamma=1, C=10, score=0.8486756704621059, total=   0.0s\n"
     ]
    },
    {
     "name": "stderr",
     "output_type": "stream",
     "text": [
      "[Parallel(n_jobs=1)]: Done   1 out of   1 | elapsed:    0.0s remaining:    0.0s\n",
      "[Parallel(n_jobs=1)]: Done   2 out of   2 | elapsed:    0.0s remaining:    0.0s\n",
      "[Parallel(n_jobs=1)]: Done  20 out of  20 | elapsed:    0.1s finished\n"
     ]
    },
    {
     "data": {
      "text/plain": [
       "0.7262035177984737"
      ]
     },
     "execution_count": 21,
     "metadata": {},
     "output_type": "execute_result"
    }
   ],
   "source": [
    "from sklearn.model_selection import train_test_split, ShuffleSplit\n",
    "\n",
    "X_train, X_test, y_train, y_test = train_test_split(X, y, random_state=1)\n",
    "\n",
    "param_grid = {'C': [0.001, 0.01, 0.1, 1, 10], 'gamma': [0.001, 0.01, 0.1, 1]}\n",
    "single_split_cv = ShuffleSplit(n_splits=1)\n",
    "\n",
    "grid = GridSearchCV(SVR(), param_grid=param_grid, cv=single_split_cv, verbose=3)\n",
    "\n",
    "grid.fit(X_train, y_train)\n",
    "grid.score(X_test, y_test)"
   ]
  },
  {
   "cell_type": "code",
   "execution_count": 22,
   "metadata": {},
   "outputs": [
    {
     "data": {
      "text/plain": [
       "0.7262035177984737"
      ]
     },
     "execution_count": 22,
     "metadata": {},
     "output_type": "execute_result"
    }
   ],
   "source": [
    "clf = GridSearchCV(SVR(), param_grid=param_grid)\n",
    "clf.fit(X_train, y_train)\n",
    "clf.score(X_test, y_test)"
   ]
  },
  {
   "cell_type": "code",
   "execution_count": 23,
   "metadata": {},
   "outputs": [
    {
     "name": "stdout",
     "output_type": "stream",
     "text": [
      "Fitting 5 folds for each of 5 candidates, totalling 25 fits\n",
      "[CV] n_neighbors=1 ...................................................\n",
      "[CV] .......... n_neighbors=1, score=0.9708029197080292, total=   0.0s\n",
      "[CV] n_neighbors=1 ...................................................\n",
      "[CV] ........... n_neighbors=1, score=0.988929889298893, total=   0.0s\n",
      "[CV] n_neighbors=1 ...................................................\n",
      "[CV] ........... n_neighbors=1, score=0.988929889298893, total=   0.0s\n",
      "[CV] n_neighbors=1 ...................................................\n"
     ]
    },
    {
     "name": "stderr",
     "output_type": "stream",
     "text": [
      "[Parallel(n_jobs=1)]: Done   1 out of   1 | elapsed:    0.1s remaining:    0.0s\n",
      "[Parallel(n_jobs=1)]: Done   2 out of   2 | elapsed:    0.1s remaining:    0.0s\n"
     ]
    },
    {
     "name": "stdout",
     "output_type": "stream",
     "text": [
      "[CV] .......... n_neighbors=1, score=0.9887640449438202, total=   0.0s\n",
      "[CV] n_neighbors=1 ...................................................\n",
      "[CV] .......... n_neighbors=1, score=0.9886363636363636, total=   0.0s\n",
      "[CV] n_neighbors=3 ...................................................\n",
      "[CV] .......... n_neighbors=3, score=0.9817518248175182, total=   0.0s\n",
      "[CV] n_neighbors=3 ...................................................\n",
      "[CV] ........... n_neighbors=3, score=0.988929889298893, total=   0.0s\n",
      "[CV] n_neighbors=3 ...................................................\n",
      "[CV] ........... n_neighbors=3, score=0.985239852398524, total=   0.0s\n",
      "[CV] n_neighbors=3 ...................................................\n",
      "[CV] .......... n_neighbors=3, score=0.9850187265917603, total=   0.0s\n",
      "[CV] n_neighbors=3 ...................................................\n",
      "[CV] .......... n_neighbors=3, score=0.9848484848484849, total=   0.0s\n",
      "[CV] n_neighbors=5 ...................................................\n",
      "[CV] .......... n_neighbors=5, score=0.9854014598540146, total=   0.0s\n",
      "[CV] n_neighbors=5 ...................................................\n",
      "[CV] ........... n_neighbors=5, score=0.996309963099631, total=   0.0s\n",
      "[CV] n_neighbors=5 ...................................................\n",
      "[CV] ........... n_neighbors=5, score=0.974169741697417, total=   0.0s\n",
      "[CV] n_neighbors=5 ...................................................\n",
      "[CV] .......... n_neighbors=5, score=0.9850187265917603, total=   0.0s\n",
      "[CV] n_neighbors=5 ...................................................\n",
      "[CV] .......... n_neighbors=5, score=0.9848484848484849, total=   0.0s\n",
      "[CV] n_neighbors=10 ..................................................\n",
      "[CV] ......... n_neighbors=10, score=0.9781021897810219, total=   0.0s\n",
      "[CV] n_neighbors=10 ..................................................\n",
      "[CV] .......... n_neighbors=10, score=0.981549815498155, total=   0.0s\n",
      "[CV] n_neighbors=10 ..................................................\n",
      "[CV] .......... n_neighbors=10, score=0.977859778597786, total=   0.0s\n",
      "[CV] n_neighbors=10 ..................................................\n",
      "[CV] ......... n_neighbors=10, score=0.9812734082397003, total=   0.0s\n",
      "[CV] n_neighbors=10 ..................................................\n",
      "[CV] ......... n_neighbors=10, score=0.9848484848484849, total=   0.0s\n",
      "[CV] n_neighbors=50 ..................................................\n",
      "[CV] .......... n_neighbors=50, score=0.927007299270073, total=   0.1s\n",
      "[CV] n_neighbors=50 ..................................................\n",
      "[CV] ......... n_neighbors=50, score=0.9298892988929889, total=   0.0s\n",
      "[CV] n_neighbors=50 ..................................................\n",
      "[CV] ......... n_neighbors=50, score=0.9520295202952029, total=   0.0s\n",
      "[CV] n_neighbors=50 ..................................................\n",
      "[CV] ......... n_neighbors=50, score=0.9213483146067416, total=   0.0s\n",
      "[CV] n_neighbors=50 ..................................................\n",
      "[CV] ......... n_neighbors=50, score=0.9583333333333334, total=   0.0s\n",
      "Score on test set: 0.991111\n",
      "Best parameters: {'n_neighbors': 1}\n"
     ]
    },
    {
     "name": "stderr",
     "output_type": "stream",
     "text": [
      "[Parallel(n_jobs=1)]: Done  25 out of  25 | elapsed:    4.2s finished\n"
     ]
    }
   ],
   "source": [
    "from sklearn.datasets import load_digits\n",
    "from sklearn.neighbors import KNeighborsClassifier\n",
    "\n",
    "digits = load_digits()\n",
    "X_train, X_test, y_train, y_test = train_test_split(digits.data, digits.target, random_state=0)\n",
    "\n",
    "param_grid = {'n_neighbors': [1, 3, 5, 10, 50]}\n",
    "gs = GridSearchCV(KNeighborsClassifier(), param_grid=param_grid, cv=5, verbose=3)\n",
    "gs.fit(X_train, y_train)\n",
    "print(\"Score on test set: %f\" % gs.score(X_test, y_test))\n",
    "print(\"Best parameters: %s\" % gs.best_params_)"
   ]
  },
  {
   "cell_type": "code",
   "execution_count": null,
   "metadata": {},
   "outputs": [],
   "source": []
  }
 ],
 "metadata": {
  "kernelspec": {
   "display_name": "Python 3",
   "language": "python",
   "name": "python3"
  },
  "language_info": {
   "codemirror_mode": {
    "name": "ipython",
    "version": 3
   },
   "file_extension": ".py",
   "mimetype": "text/x-python",
   "name": "python",
   "nbconvert_exporter": "python",
   "pygments_lexer": "ipython3",
   "version": "3.5.4"
  }
 },
 "nbformat": 4,
 "nbformat_minor": 2
}
