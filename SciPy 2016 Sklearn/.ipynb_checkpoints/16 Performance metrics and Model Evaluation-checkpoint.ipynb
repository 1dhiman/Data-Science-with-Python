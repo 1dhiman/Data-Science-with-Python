{
 "cells": [
  {
   "cell_type": "markdown",
   "metadata": {},
   "source": [
    "# Model Evaluation, Scoring Metrics, and Dealing with Class Imbalances\n",
    "\n",
    "In the previous notebook, we already went into some detail on how to evaluate a model and how to pick the best model. So far, we assumed that we were given a performance measure, a measure of the quality of the model. What measure one should use is not always obvious, though. The default scores in scikit-learn are `accuracy` for classification, which is the fraction of correctly classified samples, and `r2` for regression, with is the coefficient of determination.\n",
    "\n",
    "These are reasonable default choices in many scenarious; however, depending on our task, these are not always the definitive or recommended choices.\n",
    "\n",
    "Let's take look at classification in more detail, going back to the application of classifying handwritten digits. So, how about training a classifier and walking through the different ways we can evaluate it? Scikit-learn has many helpful methods in the `sklearn.metrics` module that can help us with this task:"
   ]
  },
  {
   "cell_type": "code",
   "execution_count": 1,
   "metadata": {},
   "outputs": [],
   "source": [
    "%matplotlib inline\n",
    "import matplotlib.pyplot as plt\n",
    "import numpy as np\n",
    "np.set_printoptions(precision=2)"
   ]
  },
  {
   "cell_type": "code",
   "execution_count": 2,
   "metadata": {},
   "outputs": [
    {
     "name": "stdout",
     "output_type": "stream",
     "text": [
      "Accuracy: 0.9533333333333334\n"
     ]
    }
   ],
   "source": [
    "from sklearn.datasets import load_digits\n",
    "from sklearn.model_selection import train_test_split\n",
    "from sklearn.svm import LinearSVC\n",
    "\n",
    "digits = load_digits()\n",
    "X, y = digits.data, digits.target\n",
    "X_train, X_test, y_train, y_test = train_test_split(X, y, \n",
    "                                                    random_state=1,\n",
    "                                                    stratify=y,\n",
    "                                                    test_size=0.25)\n",
    "\n",
    "classifier = LinearSVC(random_state=1).fit(X_train, y_train)\n",
    "y_test_pred = classifier.predict(X_test)\n",
    "\n",
    "print(\"Accuracy: {}\".format(classifier.score(X_test, y_test)))"
   ]
  },
  {
   "cell_type": "markdown",
   "metadata": {},
   "source": [
    "Here, we predicted 95.3% of samples correctly. For multi-class problems, it is often interesting to know which of the classes are hard to predict, and which are easy, or which classes get confused. One way to get more information about misclassifications is the confusion_matrix, which shows for each true class, how frequent a given predicted outcome is."
   ]
  },
  {
   "cell_type": "code",
   "execution_count": 3,
   "metadata": {},
   "outputs": [
    {
     "data": {
      "text/plain": [
       "array([[44,  0,  0,  0,  1,  0,  0,  0,  0,  0],\n",
       "       [ 0, 46,  0,  0,  0,  0,  0,  0,  0,  0],\n",
       "       [ 0,  1, 43,  0,  0,  0,  0,  0,  0,  0],\n",
       "       [ 0,  0,  0, 46,  0,  0,  0,  0,  0,  0],\n",
       "       [ 0,  2,  0,  0, 41,  0,  0,  1,  0,  1],\n",
       "       [ 0,  0,  0,  0,  0, 43,  1,  1,  0,  1],\n",
       "       [ 0,  0,  0,  0,  0,  1, 44,  0,  0,  0],\n",
       "       [ 0,  1,  0,  0,  1,  0,  0, 42,  1,  0],\n",
       "       [ 0,  4,  0,  1,  0,  0,  0,  0, 37,  1],\n",
       "       [ 0,  0,  0,  0,  0,  1,  0,  0,  1, 43]])"
      ]
     },
     "execution_count": 3,
     "metadata": {},
     "output_type": "execute_result"
    }
   ],
   "source": [
    "from sklearn.metrics import confusion_matrix\n",
    "confusion_matrix(y_test, y_test_pred)"
   ]
  },
  {
   "cell_type": "markdown",
   "metadata": {},
   "source": [
    "A plot is sometimes more readable:"
   ]
  },
  {
   "cell_type": "code",
   "execution_count": 4,
   "metadata": {},
   "outputs": [
    {
     "data": {
      "image/png": "[encoded data removed]",
      "text/plain": [
       "<matplotlib.figure.Figure at 0x10889e588>"
      ]
     },
     "metadata": {},
     "output_type": "display_data"
    }
   ],
   "source": [
    "plt.matshow(confusion_matrix(y_test, y_test_pred), cmap=\"Blues\")\n",
    "plt.colorbar(shrink=0.8)\n",
    "plt.xticks(range(10))\n",
    "plt.yticks(range(10))\n",
    "plt.xlabel(\"Predicted label\")\n",
    "plt.ylabel(\"True label\");"
   ]
  },
  {
   "cell_type": "markdown",
   "metadata": {},
   "source": [
    "We can see that most entries are on the diagonal, which means that we predicted nearly all samples correctly. The off-diagonal entries show us that many eights were classified as ones, and that nines are likely to be confused with many other classes.\n",
    "\n",
    "Another useful function is the classification_report which provides precision, recall, fscore and support for all classes. Precision is how many of the predictions for a class are actually that class. With TP, FP, TN, FN standing for \"true positive\", \"false positive\", \"true negative\" and \"false negative\" repectively:\n",
    "\n",
    "Precision = TP / (TP + FP)\n",
    "\n",
    "Recall is how many of the true positives were recovered:\n",
    "\n",
    "Recall = TP / (TP + FN)\n",
    "\n",
    "f1-score is the geometric average of precision and recall:\n",
    "\n",
    "F1 = 2 x (precision x recall) / (precision x recall)\n",
    "\n",
    "The values of all these values above are in the closed interval [0, 1], where 1 means a perfect score."
   ]
  },
  {
   "cell_type": "code",
   "execution_count": 5,
   "metadata": {},
   "outputs": [
    {
     "name": "stdout",
     "output_type": "stream",
     "text": [
      "             precision    recall  f1-score   support\n",
      "\n",
      "          0       1.00      0.98      0.99        45\n",
      "          1       0.85      1.00      0.92        46\n",
      "          2       1.00      0.98      0.99        44\n",
      "          3       0.98      1.00      0.99        46\n",
      "          4       0.95      0.91      0.93        45\n",
      "          5       0.96      0.93      0.95        46\n",
      "          6       0.98      0.98      0.98        45\n",
      "          7       0.95      0.93      0.94        45\n",
      "          8       0.95      0.86      0.90        43\n",
      "          9       0.93      0.96      0.95        45\n",
      "\n",
      "avg / total       0.96      0.95      0.95       450\n",
      "\n"
     ]
    }
   ],
   "source": [
    "from sklearn.metrics import classification_report\n",
    "print(classification_report(y_test, y_test_pred))"
   ]
  },
  {
   "cell_type": "markdown",
   "metadata": {},
   "source": [
    "These metrics are helpful in two particular cases that come up often in practice:\n",
    "\n",
    "1. Imbalanced classes, that is one class might be much more frequent than the other.\n",
    "2. Asymmetric costs, that is one kind of error is much more \"costly\" than the other.\n",
    "\n",
    "Let's have a look at 1. first. Say we have a class imbalance of 1:9, which is rather mild (think about ad-click-prediction where maybe 0.001% of ads might be clicked):"
   ]
  },
  {
   "cell_type": "code",
   "execution_count": 6,
   "metadata": {},
   "outputs": [
    {
     "data": {
      "text/plain": [
       "array([ 0.1,  0.1,  0.1,  0.1,  0.1,  0.1,  0.1,  0.1,  0.1,  0.1])"
      ]
     },
     "execution_count": 6,
     "metadata": {},
     "output_type": "execute_result"
    }
   ],
   "source": [
    "np.bincount(y) / y.shape[0]"
   ]
  },
  {
   "cell_type": "markdown",
   "metadata": {},
   "source": [
    "As a toy example, let's say we want to classify the digits three against all other digits:"
   ]
  },
  {
   "cell_type": "code",
   "execution_count": 7,
   "metadata": {},
   "outputs": [],
   "source": [
    "X, y = digits.data, digits.target == 3"
   ]
  },
  {
   "cell_type": "markdown",
   "metadata": {},
   "source": [
    "Now we run cross-validation on a classifier to see how well it does:"
   ]
  },
  {
   "cell_type": "code",
   "execution_count": 8,
   "metadata": {},
   "outputs": [
    {
     "data": {
      "text/plain": [
       "array([ 0.9,  0.9,  0.9])"
      ]
     },
     "execution_count": 8,
     "metadata": {},
     "output_type": "execute_result"
    }
   ],
   "source": [
    "from sklearn.model_selection import cross_val_score\n",
    "from sklearn.svm import SVC\n",
    "\n",
    "cross_val_score(SVC(), X, y)"
   ]
  },
  {
   "cell_type": "markdown",
   "metadata": {},
   "source": [
    "Our classifier is 90% accurate. Is that good? Or bad? Keep in mind that 90% of the data is \"not three\". So let's see how well a dummy classifier does, that always predicts the most frequent class:"
   ]
  },
  {
   "cell_type": "code",
   "execution_count": 9,
   "metadata": {},
   "outputs": [
    {
     "data": {
      "text/plain": [
       "array([ 0.9,  0.9,  0.9])"
      ]
     },
     "execution_count": 9,
     "metadata": {},
     "output_type": "execute_result"
    }
   ],
   "source": [
    "from sklearn.dummy import DummyClassifier\n",
    "cross_val_score(DummyClassifier(\"most_frequent\"), X, y)"
   ]
  },
  {
   "cell_type": "markdown",
   "metadata": {},
   "source": [
    "Also 90% (as expected)! So one might thing that means our classifier is not very good, it doesn't to better than a simple strategy that doesn't even look at the data. That would be judging too quickly, though. Accuracy is simply not a good way to evaluate classifiers for imbalanced datasets!"
   ]
  },
  {
   "cell_type": "code",
   "execution_count": 10,
   "metadata": {},
   "outputs": [
    {
     "data": {
      "text/plain": [
       "array([ 0.9,  0.1])"
      ]
     },
     "execution_count": 10,
     "metadata": {},
     "output_type": "execute_result"
    }
   ],
   "source": [
    "np.bincount(y) / y.shape[0]"
   ]
  },
  {
   "cell_type": "markdown",
   "metadata": {},
   "source": [
    "## ROC Curves\n",
    "\n",
    "A much better measure is using the so-called ROC (Receiver operating characteristics) curve. A roc-curve works with uncertainty outputs of a classifier, say the \"decision_function\" of the SVC we trained above. Instead of making a cut-off at zero and looking at classification outcomes, it looks at every possible cut-off and records how many true positive predictions there are, and how many false positive predictions there are."
   ]
  },
  {
   "cell_type": "code",
   "execution_count": 12,
   "metadata": {},
   "outputs": [
    {
     "data": {
      "image/png": "[encoded data removed]",
      "text/plain": [
       "<matplotlib.figure.Figure at 0x1a0d9706d8>"
      ]
     },
     "metadata": {},
     "output_type": "display_data"
    }
   ],
   "source": [
    "from sklearn.metrics import roc_curve, roc_auc_score\n",
    "\n",
    "X_train, X_test, y_train, y_test = train_test_split(X, y, random_state=42)\n",
    "\n",
    "for gamma in [.01, .05, 1]:\n",
    "    plt.xlabel(\"False Positive Rate\")\n",
    "    plt.ylabel(\"True Positive Rate (recall)\")\n",
    "    svm = SVC(gamma=gamma).fit(X_train, y_train)\n",
    "    decision_function = svm.decision_function(X_test)\n",
    "    fpr, tpr, _ = roc_curve(y_test, decision_function)\n",
    "    acc = svm.score(X_test, y_test)\n",
    "    auc = roc_auc_score(y_test, svm.decision_function(X_test))\n",
    "    plt.plot(fpr, tpr, label=\"acc:%.3f auc:%.3f\" % (acc, auc), linewidth=3)\n",
    "plt.legend(loc=\"best\");"
   ]
  },
  {
   "cell_type": "markdown",
   "metadata": {},
   "source": [
    "With a very small decision threshold, there will be few false positives, but also few false negatives, while with a very high threshold, both true positive rate and false positive rate will be high. So in general, the curve will be from the lower left to the upper right. A diagonal line reflects chance performance, while the goal is to be as much in the top left corner as possible. This means giving a higher decision_function value to all positive samples than to any negative sample.\n",
    "\n",
    "In this sense, this curve only considers the ranking of the positive and negative samples, not the actual value. As you can see from the curves and the accuracy values in the legend, even though all classifiers have the same accuracy, 90%, which is even lower than the dummy classifier, one of them has a perfect roc curve, while one of them performs on chance level.\n",
    "\n",
    "For doing grid-search and cross-validation, we usually want to condense our model evaluation into a single number. A good way to do this with the roc curve is to use the area under the curve (AUC). We can simply use this in cross_val_score by specifying scoring=\"roc_auc\":"
   ]
  },
  {
   "cell_type": "code",
   "execution_count": 13,
   "metadata": {},
   "outputs": [
    {
     "data": {
      "text/plain": [
       "array([ 1.,  1.,  1.])"
      ]
     },
     "execution_count": 13,
     "metadata": {},
     "output_type": "execute_result"
    }
   ],
   "source": [
    "from sklearn.model_selection import cross_val_score\n",
    "cross_val_score(SVC(), X, y, scoring=\"roc_auc\")"
   ]
  },
  {
   "cell_type": "markdown",
   "metadata": {},
   "source": [
    "## Built-In and custom scoring functions\n",
    "\n",
    "There are many more scoring methods available, which are useful for different kinds of tasks. You can find them in the \"SCORERS\" dictionary. The only documentation explains all of them."
   ]
  },
  {
   "cell_type": "code",
   "execution_count": 14,
   "metadata": {},
   "outputs": [
    {
     "name": "stdout",
     "output_type": "stream",
     "text": [
      "dict_keys(['f1_samples', 'adjusted_rand_score', 'recall_macro', 'precision_micro', 'mean_absolute_error', 'f1_micro', 'recall_weighted', 'median_absolute_error', 'precision_weighted', 'adjusted_mutual_info_score', 'explained_variance', 'recall', 'mean_squared_error', 'precision_samples', 'neg_mean_squared_log_error', 'neg_median_absolute_error', 'recall_micro', 'neg_mean_absolute_error', 'mutual_info_score', 'roc_auc', 'completeness_score', 'fowlkes_mallows_score', 'recall_samples', 'f1', 'f1_weighted', 'neg_mean_squared_error', 'v_measure_score', 'average_precision', 'r2', 'log_loss', 'homogeneity_score', 'neg_log_loss', 'accuracy', 'f1_macro', 'precision', 'normalized_mutual_info_score', 'precision_macro'])\n"
     ]
    }
   ],
   "source": [
    "from sklearn.metrics.scorer import SCORERS\n",
    "print(SCORERS.keys())"
   ]
  },
  {
   "cell_type": "markdown",
   "metadata": {},
   "source": [
    "It is also possible to define your own scoring metric. Instead of a string, you can provide a callable to as scoring parameter, that is an object with a __call__ method or a function. It needs to take a model, a test-set features X_test and test-set labels y_test, and return a float. Higher floats are taken to mean better models.\n",
    "\n",
    "Let's reimplement the standard accuracy score:"
   ]
  },
  {
   "cell_type": "code",
   "execution_count": 15,
   "metadata": {},
   "outputs": [
    {
     "data": {
      "text/plain": [
       "array([ 0.9,  0.9,  0.9])"
      ]
     },
     "execution_count": 15,
     "metadata": {},
     "output_type": "execute_result"
    }
   ],
   "source": [
    "def my_accuracy_scoring(est, X, y):\n",
    "    return np.mean(est.predict(X) == y)\n",
    "\n",
    "cross_val_score(SVC(), X, y, scoring=my_accuracy_scoring)"
   ]
  },
  {
   "cell_type": "markdown",
   "metadata": {},
   "source": [
    "The interesting thing about this interface is that we can access any attributes of the estimator we trained. Let's say we have trained a linear model, and we want to penalize having non-zero coefficients in our model selection:"
   ]
  },
  {
   "cell_type": "code",
   "execution_count": 16,
   "metadata": {},
   "outputs": [],
   "source": [
    "def my_super_scoring(est, X, y):\n",
    "    return np.mean(est.predict(X) == y) - np.mean(est.coef_ != 0)"
   ]
  },
  {
   "cell_type": "markdown",
   "metadata": {},
   "source": [
    "We can evaluate if this worked as expected, by grid-searching over l1 and l2 penalties in a linear SVM. An l1 penalty is expected to produce exactly zero coefficients:"
   ]
  },
  {
   "cell_type": "code",
   "execution_count": 18,
   "metadata": {},
   "outputs": [
    {
     "name": "stdout",
     "output_type": "stream",
     "text": [
      "{'penalty': 'l1'}\n"
     ]
    }
   ],
   "source": [
    "from sklearn.model_selection import GridSearchCV\n",
    "from sklearn.svm import LinearSVC\n",
    "y = digits.target\n",
    "grid = GridSearchCV(LinearSVC(C=.01, dual=False),\n",
    "                    param_grid={'penalty' : ['l1', 'l2']},\n",
    "                    scoring=my_super_scoring)\n",
    "grid.fit(X, y)\n",
    "print(grid.best_params_)"
   ]
  },
  {
   "cell_type": "markdown",
   "metadata": {},
   "source": [
    "## Exercise\n",
    "In previous sections, we typically used the accuracy measure to evaluate the performance of our classifiers. A related measure that we haven't talked about, yet, is the average-per-class accuracy (APCA). \n",
    "\n",
    "https://github.com/amueller/scipy-2016-sklearn/blob/master/notebooks/16%20Performance%20metrics%20and%20Model%20Evaluation.ipynb\n",
    "\n",
    "Given the following arrays of \"true\" class labels and predicted class labels, can you implement a function that uses the accuracy measure to compute the average-per-class accuracy as shown below?"
   ]
  },
  {
   "cell_type": "code",
   "execution_count": 19,
   "metadata": {},
   "outputs": [
    {
     "data": {
      "text/plain": [
       "array([[1, 2, 0],\n",
       "       [1, 2, 2],\n",
       "       [0, 0, 2]])"
      ]
     },
     "execution_count": 19,
     "metadata": {},
     "output_type": "execute_result"
    }
   ],
   "source": [
    "y_true = np.array([0, 0, 0, 1, 1, 1, 1, 1, 2, 2])\n",
    "y_pred = np.array([0, 1, 1, 0, 1, 1, 2, 2, 2, 2])\n",
    "\n",
    "confusion_matrix(y_true, y_pred)"
   ]
  },
  {
   "cell_type": "code",
   "execution_count": 20,
   "metadata": {},
   "outputs": [
    {
     "name": "stdout",
     "output_type": "stream",
     "text": [
      "accuracy: 0.5\n",
      "average-per-class accuracy: 0.6666666666666666\n"
     ]
    }
   ],
   "source": [
    "def accuracy(true, pred):\n",
    "    return (true == pred).sum() / float(true.shape[0])\n",
    "\n",
    "\n",
    "def macro(true, pred):\n",
    "    scores = []\n",
    "    for l in np.unique(true):\n",
    "        scores.append(accuracy(np.where(true != l, 1, 0),\n",
    "                               np.where(pred != l, 1, 0)))\n",
    "    return float(sum(scores)) / float(len(scores))\n",
    "\n",
    "y_true = np.array([0, 0, 0, 1, 1, 1, 1, 1, 2, 2])\n",
    "y_pred = np.array([0, 1, 1, 0, 1, 1, 2, 2, 2, 2])\n",
    "\n",
    "\n",
    "print('accuracy:', accuracy(y_true, y_pred))\n",
    "print('average-per-class accuracy:', macro(y_true, y_pred))"
   ]
  },
  {
   "cell_type": "code",
   "execution_count": null,
   "metadata": {},
   "outputs": [],
   "source": []
  }
 ],
 "metadata": {
  "kernelspec": {
   "display_name": "Python 3",
   "language": "python",
   "name": "python3"
  },
  "language_info": {
   "codemirror_mode": {
    "name": "ipython",
    "version": 3
   },
   "file_extension": ".py",
   "mimetype": "text/x-python",
   "name": "python",
   "nbconvert_exporter": "python",
   "pygments_lexer": "ipython3",
   "version": "3.5.4"
  }
 },
 "nbformat": 4,
 "nbformat_minor": 2
}
