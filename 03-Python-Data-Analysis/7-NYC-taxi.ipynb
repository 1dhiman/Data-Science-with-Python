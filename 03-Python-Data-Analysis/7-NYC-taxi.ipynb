{
 "cells": [
  {
   "cell_type": "code",
   "execution_count": 1,
   "metadata": {},
   "outputs": [],
   "source": [
    "from os import path\n",
    "import bz2\n",
    "import pandas as pd\n",
    "import numpy as np\n",
    "import matplotlib.pyplot as plt\n",
    "import sqlite3\n",
    "\n",
    "%matplotlib inline\n",
    "plt.style.use('seaborn-whitegrid')\n",
    "plt.rcParams['figure.figsize'] = (12, 8)"
   ]
  },
  {
   "cell_type": "code",
   "execution_count": 2,
   "metadata": {},
   "outputs": [],
   "source": [
    "fname = 'data/taxi.csv.bz2'"
   ]
  },
  {
   "cell_type": "code",
   "execution_count": 3,
   "metadata": {},
   "outputs": [
    {
     "data": {
      "text/plain": [
       "2.7408742904663086"
      ]
     },
     "execution_count": 3,
     "metadata": {},
     "output_type": "execute_result"
    }
   ],
   "source": [
    "# File size\n",
    "path.getsize(fname) / (1<<20) #in MB"
   ]
  },
  {
   "cell_type": "code",
   "execution_count": 4,
   "metadata": {},
   "outputs": [
    {
     "name": "stdout",
     "output_type": "stream",
     "text": [
      "100001\n"
     ]
    }
   ],
   "source": [
    "# Number of lines\n",
    "with bz2.open(fname) as fp:\n",
    "    print(sum(1 for line in fp))"
   ]
  },
  {
   "cell_type": "code",
   "execution_count": 5,
   "metadata": {},
   "outputs": [
    {
     "name": "stdout",
     "output_type": "stream",
     "text": [
      "VendorID,lpep_pickup_datetime,Lpep_dropoff_datetime,Store_and_fwd_flag,RateCodeID,Pickup_longitude,Pickup_latitude,Dropoff_longitude,Dropoff_latitude,Passenger_count,Trip_distance,Fare_amount,Extra,MTA_tax,Tip_amount,Tolls_amount,Ehail_fee,improvement_surcharge,Total_amount,Payment_type,Trip_type \n",
      "2,2015-03-04 15:39:16,2015-03-04 15:42:30,N,1,-73.992240905761719,40.690120697021484,-73.999664306640625,40.684993743896484,2,.71,4.5,0,0.5,0,0,,0.3,5.3,2,1,,\n",
      "2,2015-03-22 17:36:49,2015-03-22 17:45:39,N,5,-73.930038452148438,40.819576263427734,-73.907173156738281,40.811305999755859,2,1.41,12,0,0,0,0,,0,12,2,2,,\n",
      "2,2015-03-25 22:08:45,2015-03-25 22:53:29,N,1,-73.961082458496094,40.807022094726563,-73.984642028808594,40.66314697265625,1,14.36,45,0.5,0.5,9.26,0,,0.3,55.56,1,1,,\n",
      "2,2015-03-16 13:45:20,2015-03-16 13:52:04,N,1,-73.913200378417969,40.777961730957031,-73.926994323730469,40.772743225097656,2,1.05,6.5,0,0.5,0,0,,0.3,7.3,2,1,,\n",
      "2,2015-03-19 18:53:50,2015-03-19 18:59:04,N,1,-73.925888061523438,40.827602386474609,-73.916351318359375,40.824966430664063,1,.92,5.5,1,0.5,0,0,,0.3,7.3,2,1,,\n"
     ]
    }
   ],
   "source": [
    "with bz2.open(fname, 'rt') as fp:\n",
    "    for lnum, line in enumerate(fp):\n",
    "        print(line[:-1])\n",
    "        if lnum >4:\n",
    "            break"
   ]
  },
  {
   "cell_type": "code",
   "execution_count": 6,
   "metadata": {},
   "outputs": [],
   "source": [
    "df = pd.read_csv(fname)"
   ]
  },
  {
   "cell_type": "code",
   "execution_count": 7,
   "metadata": {},
   "outputs": [
    {
     "data": {
      "text/plain": [
       "100000"
      ]
     },
     "execution_count": 7,
     "metadata": {},
     "output_type": "execute_result"
    }
   ],
   "source": [
    "len(df)"
   ]
  },
  {
   "cell_type": "code",
   "execution_count": 8,
   "metadata": {},
   "outputs": [
    {
     "data": {
      "text/plain": [
       "VendorID                 2015-03-04 15:42:30\n",
       "lpep_pickup_datetime                       N\n",
       "Lpep_dropoff_datetime                      1\n",
       "Store_and_fwd_flag                  -73.9922\n",
       "RateCodeID                           40.6901\n",
       "Pickup_longitude                    -73.9997\n",
       "Pickup_latitude                       40.685\n",
       "Dropoff_longitude                          2\n",
       "Dropoff_latitude                        0.71\n",
       "Passenger_count                          4.5\n",
       "Trip_distance                              0\n",
       "Fare_amount                              0.5\n",
       "Extra                                      0\n",
       "MTA_tax                                    0\n",
       "Tip_amount                               NaN\n",
       "Tolls_amount                             0.3\n",
       "Ehail_fee                                5.3\n",
       "improvement_surcharge                      2\n",
       "Total_amount                               1\n",
       "Payment_type                             NaN\n",
       "Trip_type                                NaN\n",
       "Name: (2, 2015-03-04 15:39:16), dtype: object"
      ]
     },
     "execution_count": 8,
     "metadata": {},
     "output_type": "execute_result"
    }
   ],
   "source": [
    "df.iloc[0]"
   ]
  },
  {
   "cell_type": "code",
   "execution_count": 9,
   "metadata": {},
   "outputs": [
    {
     "name": "stdout",
     "output_type": "stream",
     "text": [
      "VendorID,lpep_pickup_datetime,Lpep_dropoff_datetime,Store_and_fwd_flag,RateCodeID,Pickup_longitude,Pickup_latitude,Dropoff_longitude,Dropoff_latitude,Passenger_count,Trip_distance,Fare_amount,Extra,MTA_tax,Tip_amount,Tolls_amount,Ehail_fee,improvement_surcharge,Total_amount,Payment_type,Trip_type \n",
      "\n",
      "2,2015-03-04 15:39:16,2015-03-04 15:42:30,N,1,-73.992240905761719,40.690120697021484,-73.999664306640625,40.684993743896484,2,.71,4.5,0,0.5,0,0,,0.3,5.3,2,1,,\n",
      "\n"
     ]
    }
   ],
   "source": [
    "with bz2.open(fname, 'rt') as fp:\n",
    "    header = fp.readline()\n",
    "    data = fp.readline()\n",
    "    \n",
    "print(header)\n",
    "print(data)"
   ]
  },
  {
   "cell_type": "code",
   "execution_count": 10,
   "metadata": {},
   "outputs": [
    {
     "data": {
      "text/plain": [
       "21"
      ]
     },
     "execution_count": 10,
     "metadata": {},
     "output_type": "execute_result"
    }
   ],
   "source": [
    "len(header.split(','))"
   ]
  },
  {
   "cell_type": "code",
   "execution_count": 11,
   "metadata": {},
   "outputs": [
    {
     "data": {
      "text/plain": [
       "23"
      ]
     },
     "execution_count": 11,
     "metadata": {},
     "output_type": "execute_result"
    }
   ],
   "source": [
    "len(data.split(','))"
   ]
  },
  {
   "cell_type": "code",
   "execution_count": 12,
   "metadata": {},
   "outputs": [],
   "source": [
    "df = pd.read_csv(fname, usecols=np.arange(21))"
   ]
  },
  {
   "cell_type": "code",
   "execution_count": 13,
   "metadata": {},
   "outputs": [
    {
     "data": {
      "text/plain": [
       "VendorID                                   2\n",
       "lpep_pickup_datetime     2015-03-04 15:39:16\n",
       "Lpep_dropoff_datetime    2015-03-04 15:42:30\n",
       "Store_and_fwd_flag                         N\n",
       "RateCodeID                                 1\n",
       "Pickup_longitude                    -73.9922\n",
       "Pickup_latitude                      40.6901\n",
       "Dropoff_longitude                   -73.9997\n",
       "Dropoff_latitude                      40.685\n",
       "Passenger_count                            2\n",
       "Trip_distance                           0.71\n",
       "Fare_amount                              4.5\n",
       "Extra                                      0\n",
       "MTA_tax                                  0.5\n",
       "Tip_amount                                 0\n",
       "Tolls_amount                               0\n",
       "Ehail_fee                                NaN\n",
       "improvement_surcharge                    0.3\n",
       "Total_amount                             5.3\n",
       "Payment_type                               2\n",
       "Trip_type                                  1\n",
       "Name: 0, dtype: object"
      ]
     },
     "execution_count": 13,
     "metadata": {},
     "output_type": "execute_result"
    }
   ],
   "source": [
    "df.iloc[0]"
   ]
  },
  {
   "cell_type": "code",
   "execution_count": 14,
   "metadata": {},
   "outputs": [
    {
     "data": {
      "text/plain": [
       "VendorID                   int64\n",
       "lpep_pickup_datetime      object\n",
       "Lpep_dropoff_datetime     object\n",
       "Store_and_fwd_flag        object\n",
       "RateCodeID                 int64\n",
       "Pickup_longitude         float64\n",
       "Pickup_latitude          float64\n",
       "Dropoff_longitude        float64\n",
       "Dropoff_latitude         float64\n",
       "Passenger_count            int64\n",
       "Trip_distance            float64\n",
       "Fare_amount              float64\n",
       "Extra                    float64\n",
       "MTA_tax                  float64\n",
       "Tip_amount               float64\n",
       "Tolls_amount             float64\n",
       "Ehail_fee                float64\n",
       "improvement_surcharge    float64\n",
       "Total_amount             float64\n",
       "Payment_type               int64\n",
       "Trip_type                  int64\n",
       "dtype: object"
      ]
     },
     "execution_count": 14,
     "metadata": {},
     "output_type": "execute_result"
    }
   ],
   "source": [
    "df.dtypes"
   ]
  },
  {
   "cell_type": "code",
   "execution_count": 15,
   "metadata": {},
   "outputs": [],
   "source": [
    "df = pd.read_csv(fname, usecols=np.arange(21), parse_dates=['lpep_pickup_datetime', 'Lpep_dropoff_datetime'])"
   ]
  },
  {
   "cell_type": "code",
   "execution_count": 16,
   "metadata": {},
   "outputs": [
    {
     "data": {
      "text/plain": [
       "VendorID                          int64\n",
       "lpep_pickup_datetime     datetime64[ns]\n",
       "Lpep_dropoff_datetime    datetime64[ns]\n",
       "Store_and_fwd_flag               object\n",
       "RateCodeID                        int64\n",
       "Pickup_longitude                float64\n",
       "Pickup_latitude                 float64\n",
       "Dropoff_longitude               float64\n",
       "Dropoff_latitude                float64\n",
       "Passenger_count                   int64\n",
       "Trip_distance                   float64\n",
       "Fare_amount                     float64\n",
       "Extra                           float64\n",
       "MTA_tax                         float64\n",
       "Tip_amount                      float64\n",
       "Tolls_amount                    float64\n",
       "Ehail_fee                       float64\n",
       "improvement_surcharge           float64\n",
       "Total_amount                    float64\n",
       "Payment_type                      int64\n",
       "Trip_type                         int64\n",
       "dtype: object"
      ]
     },
     "execution_count": 16,
     "metadata": {},
     "output_type": "execute_result"
    }
   ],
   "source": [
    "df.dtypes"
   ]
  },
  {
   "cell_type": "code",
   "execution_count": 17,
   "metadata": {},
   "outputs": [
    {
     "data": {
      "text/plain": [
       "array([2, 1])"
      ]
     },
     "execution_count": 17,
     "metadata": {},
     "output_type": "execute_result"
    }
   ],
   "source": [
    "df['VendorID'].unique()"
   ]
  },
  {
   "cell_type": "code",
   "execution_count": 18,
   "metadata": {},
   "outputs": [
    {
     "data": {
      "text/plain": [
       "0    VeriFone\n",
       "1    VeriFone\n",
       "2    VeriFone\n",
       "3    VeriFone\n",
       "4    VeriFone\n",
       "Name: Vendor, dtype: object"
      ]
     },
     "execution_count": 18,
     "metadata": {},
     "output_type": "execute_result"
    }
   ],
   "source": [
    "df['Vendor'] = df['VendorID'].apply({1: 'Creative', 2: 'VeriFone'}.get)\n",
    "df['Vendor'].head()"
   ]
  },
  {
   "cell_type": "code",
   "execution_count": 19,
   "metadata": {},
   "outputs": [
    {
     "data": {
      "text/plain": [
       "0.7630157470703125"
      ]
     },
     "execution_count": 19,
     "metadata": {},
     "output_type": "execute_result"
    }
   ],
   "source": [
    "df['Vendor'].memory_usage() / (1<<20)"
   ]
  },
  {
   "cell_type": "code",
   "execution_count": 20,
   "metadata": {},
   "outputs": [
    {
     "data": {
      "text/plain": [
       "0.0955352783203125"
      ]
     },
     "execution_count": 20,
     "metadata": {},
     "output_type": "execute_result"
    }
   ],
   "source": [
    "df['Vendor'] = df['VendorID'].apply({1: 'Creative', 2: 'VeriFone'}.get).astype('category')\n",
    "df['Vendor'].memory_usage() / (1<<20)"
   ]
  },
  {
   "cell_type": "code",
   "execution_count": 21,
   "metadata": {},
   "outputs": [
    {
     "data": {
      "text/plain": [
       "0    1\n",
       "1    1\n",
       "2    1\n",
       "3    1\n",
       "4    1\n",
       "dtype: int8"
      ]
     },
     "execution_count": 21,
     "metadata": {},
     "output_type": "execute_result"
    }
   ],
   "source": [
    "df['Vendor'].head().cat.codes"
   ]
  },
  {
   "cell_type": "code",
   "execution_count": 22,
   "metadata": {},
   "outputs": [
    {
     "data": {
      "text/plain": [
       "77946"
      ]
     },
     "execution_count": 22,
     "metadata": {},
     "output_type": "execute_result"
    }
   ],
   "source": [
    "len(df[df['Vendor'] == 'VeriFone'])"
   ]
  },
  {
   "cell_type": "code",
   "execution_count": 23,
   "metadata": {},
   "outputs": [
    {
     "data": {
      "text/html": [
       "<div>\n",
       "<style scoped>\n",
       "    .dataframe tbody tr th:only-of-type {\n",
       "        vertical-align: middle;\n",
       "    }\n",
       "\n",
       "    .dataframe tbody tr th {\n",
       "        vertical-align: top;\n",
       "    }\n",
       "\n",
       "    .dataframe thead th {\n",
       "        text-align: right;\n",
       "    }\n",
       "</style>\n",
       "<table border=\"1\" class=\"dataframe\">\n",
       "  <thead>\n",
       "    <tr style=\"text-align: right;\">\n",
       "      <th></th>\n",
       "      <th>VendorID</th>\n",
       "      <th>lpep_pickup_datetime</th>\n",
       "      <th>Lpep_dropoff_datetime</th>\n",
       "      <th>Store_and_fwd_flag</th>\n",
       "      <th>RateCodeID</th>\n",
       "      <th>Pickup_longitude</th>\n",
       "      <th>Pickup_latitude</th>\n",
       "      <th>Dropoff_longitude</th>\n",
       "      <th>Dropoff_latitude</th>\n",
       "      <th>Passenger_count</th>\n",
       "      <th>...</th>\n",
       "      <th>Extra</th>\n",
       "      <th>MTA_tax</th>\n",
       "      <th>Tip_amount</th>\n",
       "      <th>Tolls_amount</th>\n",
       "      <th>Ehail_fee</th>\n",
       "      <th>improvement_surcharge</th>\n",
       "      <th>Total_amount</th>\n",
       "      <th>Payment_type</th>\n",
       "      <th>Trip_type</th>\n",
       "      <th>Vendor</th>\n",
       "    </tr>\n",
       "  </thead>\n",
       "  <tbody>\n",
       "    <tr>\n",
       "      <th>0</th>\n",
       "      <td>2</td>\n",
       "      <td>2015-03-04 15:39:16</td>\n",
       "      <td>2015-03-04 15:42:30</td>\n",
       "      <td>N</td>\n",
       "      <td>1</td>\n",
       "      <td>-73.992241</td>\n",
       "      <td>40.690121</td>\n",
       "      <td>-73.999664</td>\n",
       "      <td>40.684994</td>\n",
       "      <td>2</td>\n",
       "      <td>...</td>\n",
       "      <td>0.0</td>\n",
       "      <td>0.5</td>\n",
       "      <td>0.00</td>\n",
       "      <td>0.0</td>\n",
       "      <td>NaN</td>\n",
       "      <td>0.3</td>\n",
       "      <td>5.30</td>\n",
       "      <td>2</td>\n",
       "      <td>1</td>\n",
       "      <td>VeriFone</td>\n",
       "    </tr>\n",
       "    <tr>\n",
       "      <th>1</th>\n",
       "      <td>2</td>\n",
       "      <td>2015-03-22 17:36:49</td>\n",
       "      <td>2015-03-22 17:45:39</td>\n",
       "      <td>N</td>\n",
       "      <td>5</td>\n",
       "      <td>-73.930038</td>\n",
       "      <td>40.819576</td>\n",
       "      <td>-73.907173</td>\n",
       "      <td>40.811306</td>\n",
       "      <td>2</td>\n",
       "      <td>...</td>\n",
       "      <td>0.0</td>\n",
       "      <td>0.0</td>\n",
       "      <td>0.00</td>\n",
       "      <td>0.0</td>\n",
       "      <td>NaN</td>\n",
       "      <td>0.0</td>\n",
       "      <td>12.00</td>\n",
       "      <td>2</td>\n",
       "      <td>2</td>\n",
       "      <td>VeriFone</td>\n",
       "    </tr>\n",
       "    <tr>\n",
       "      <th>2</th>\n",
       "      <td>2</td>\n",
       "      <td>2015-03-25 22:08:45</td>\n",
       "      <td>2015-03-25 22:53:29</td>\n",
       "      <td>N</td>\n",
       "      <td>1</td>\n",
       "      <td>-73.961082</td>\n",
       "      <td>40.807022</td>\n",
       "      <td>-73.984642</td>\n",
       "      <td>40.663147</td>\n",
       "      <td>1</td>\n",
       "      <td>...</td>\n",
       "      <td>0.5</td>\n",
       "      <td>0.5</td>\n",
       "      <td>9.26</td>\n",
       "      <td>0.0</td>\n",
       "      <td>NaN</td>\n",
       "      <td>0.3</td>\n",
       "      <td>55.56</td>\n",
       "      <td>1</td>\n",
       "      <td>1</td>\n",
       "      <td>VeriFone</td>\n",
       "    </tr>\n",
       "    <tr>\n",
       "      <th>3</th>\n",
       "      <td>2</td>\n",
       "      <td>2015-03-16 13:45:20</td>\n",
       "      <td>2015-03-16 13:52:04</td>\n",
       "      <td>N</td>\n",
       "      <td>1</td>\n",
       "      <td>-73.913200</td>\n",
       "      <td>40.777962</td>\n",
       "      <td>-73.926994</td>\n",
       "      <td>40.772743</td>\n",
       "      <td>2</td>\n",
       "      <td>...</td>\n",
       "      <td>0.0</td>\n",
       "      <td>0.5</td>\n",
       "      <td>0.00</td>\n",
       "      <td>0.0</td>\n",
       "      <td>NaN</td>\n",
       "      <td>0.3</td>\n",
       "      <td>7.30</td>\n",
       "      <td>2</td>\n",
       "      <td>1</td>\n",
       "      <td>VeriFone</td>\n",
       "    </tr>\n",
       "    <tr>\n",
       "      <th>4</th>\n",
       "      <td>2</td>\n",
       "      <td>2015-03-19 18:53:50</td>\n",
       "      <td>2015-03-19 18:59:04</td>\n",
       "      <td>N</td>\n",
       "      <td>1</td>\n",
       "      <td>-73.925888</td>\n",
       "      <td>40.827602</td>\n",
       "      <td>-73.916351</td>\n",
       "      <td>40.824966</td>\n",
       "      <td>1</td>\n",
       "      <td>...</td>\n",
       "      <td>1.0</td>\n",
       "      <td>0.5</td>\n",
       "      <td>0.00</td>\n",
       "      <td>0.0</td>\n",
       "      <td>NaN</td>\n",
       "      <td>0.3</td>\n",
       "      <td>7.30</td>\n",
       "      <td>2</td>\n",
       "      <td>1</td>\n",
       "      <td>VeriFone</td>\n",
       "    </tr>\n",
       "  </tbody>\n",
       "</table>\n",
       "<p>5 rows × 22 columns</p>\n",
       "</div>"
      ],
      "text/plain": [
       "   VendorID lpep_pickup_datetime Lpep_dropoff_datetime Store_and_fwd_flag  \\\n",
       "0         2  2015-03-04 15:39:16   2015-03-04 15:42:30                  N   \n",
       "1         2  2015-03-22 17:36:49   2015-03-22 17:45:39                  N   \n",
       "2         2  2015-03-25 22:08:45   2015-03-25 22:53:29                  N   \n",
       "3         2  2015-03-16 13:45:20   2015-03-16 13:52:04                  N   \n",
       "4         2  2015-03-19 18:53:50   2015-03-19 18:59:04                  N   \n",
       "\n",
       "   RateCodeID  Pickup_longitude  Pickup_latitude  Dropoff_longitude  \\\n",
       "0           1        -73.992241        40.690121         -73.999664   \n",
       "1           5        -73.930038        40.819576         -73.907173   \n",
       "2           1        -73.961082        40.807022         -73.984642   \n",
       "3           1        -73.913200        40.777962         -73.926994   \n",
       "4           1        -73.925888        40.827602         -73.916351   \n",
       "\n",
       "   Dropoff_latitude  Passenger_count    ...     Extra  MTA_tax  Tip_amount  \\\n",
       "0         40.684994                2    ...       0.0      0.5        0.00   \n",
       "1         40.811306                2    ...       0.0      0.0        0.00   \n",
       "2         40.663147                1    ...       0.5      0.5        9.26   \n",
       "3         40.772743                2    ...       0.0      0.5        0.00   \n",
       "4         40.824966                1    ...       1.0      0.5        0.00   \n",
       "\n",
       "   Tolls_amount  Ehail_fee  improvement_surcharge  Total_amount  Payment_type  \\\n",
       "0           0.0        NaN                    0.3          5.30             2   \n",
       "1           0.0        NaN                    0.0         12.00             2   \n",
       "2           0.0        NaN                    0.3         55.56             1   \n",
       "3           0.0        NaN                    0.3          7.30             2   \n",
       "4           0.0        NaN                    0.3          7.30             2   \n",
       "\n",
       "   Trip_type     Vendor  \n",
       "0           1  VeriFone  \n",
       "1           2  VeriFone  \n",
       "2           1  VeriFone  \n",
       "3           1  VeriFone  \n",
       "4           1  VeriFone  \n",
       "\n",
       "[5 rows x 22 columns]"
      ]
     },
     "execution_count": 23,
     "metadata": {},
     "output_type": "execute_result"
    }
   ],
   "source": [
    "df.head()"
   ]
  },
  {
   "cell_type": "code",
   "execution_count": 24,
   "metadata": {},
   "outputs": [
    {
     "data": {
      "text/plain": [
       "0   2015-03-04 16:00:00\n",
       "1   2015-03-22 18:00:00\n",
       "2   2015-03-25 22:00:00\n",
       "3   2015-03-16 14:00:00\n",
       "4   2015-03-19 19:00:00\n",
       "Name: lpep_pickup_datetime, dtype: datetime64[ns]"
      ]
     },
     "execution_count": 24,
     "metadata": {},
     "output_type": "execute_result"
    }
   ],
   "source": [
    "df['lpep_pickup_datetime'].dt.round('H').head()"
   ]
  },
  {
   "cell_type": "code",
   "execution_count": 25,
   "metadata": {},
   "outputs": [
    {
     "data": {
      "image/png": "[encoded data removed]",
      "text/plain": [
       "<matplotlib.figure.Figure at 0x118dbef28>"
      ]
     },
     "metadata": {},
     "output_type": "display_data"
    }
   ],
   "source": [
    "keys = df['lpep_pickup_datetime'].dt.round('H')\n",
    "\n",
    "df.groupby(keys).count()['Vendor'].plot();"
   ]
  },
  {
   "cell_type": "code",
   "execution_count": 26,
   "metadata": {},
   "outputs": [
    {
     "data": {
      "image/png": "[encoded data removed]",
      "text/plain": [
       "<matplotlib.figure.Figure at 0x1185dd390>"
      ]
     },
     "metadata": {},
     "output_type": "display_data"
    }
   ],
   "source": [
    "df.groupby(keys).count()['Vendor']['2015-03-10'].plot.bar(rot=45, color='grey');"
   ]
  },
  {
   "cell_type": "code",
   "execution_count": 27,
   "metadata": {},
   "outputs": [],
   "source": [
    "df['hour'] = df['lpep_pickup_datetime'].dt.hour\n",
    "df['day'] = df['lpep_pickup_datetime'].dt.date"
   ]
  },
  {
   "cell_type": "code",
   "execution_count": 28,
   "metadata": {},
   "outputs": [
    {
     "data": {
      "text/html": [
       "<div>\n",
       "<style scoped>\n",
       "    .dataframe tbody tr th:only-of-type {\n",
       "        vertical-align: middle;\n",
       "    }\n",
       "\n",
       "    .dataframe tbody tr th {\n",
       "        vertical-align: top;\n",
       "    }\n",
       "\n",
       "    .dataframe thead th {\n",
       "        text-align: right;\n",
       "    }\n",
       "</style>\n",
       "<table border=\"1\" class=\"dataframe\">\n",
       "  <thead>\n",
       "    <tr style=\"text-align: right;\">\n",
       "      <th></th>\n",
       "      <th>VendorID</th>\n",
       "      <th>lpep_pickup_datetime</th>\n",
       "      <th>Lpep_dropoff_datetime</th>\n",
       "      <th>Store_and_fwd_flag</th>\n",
       "      <th>RateCodeID</th>\n",
       "      <th>Pickup_longitude</th>\n",
       "      <th>Pickup_latitude</th>\n",
       "      <th>Dropoff_longitude</th>\n",
       "      <th>Dropoff_latitude</th>\n",
       "      <th>Passenger_count</th>\n",
       "      <th>...</th>\n",
       "      <th>Tip_amount</th>\n",
       "      <th>Tolls_amount</th>\n",
       "      <th>Ehail_fee</th>\n",
       "      <th>improvement_surcharge</th>\n",
       "      <th>Total_amount</th>\n",
       "      <th>Payment_type</th>\n",
       "      <th>Trip_type</th>\n",
       "      <th>Vendor</th>\n",
       "      <th>hour</th>\n",
       "      <th>day</th>\n",
       "    </tr>\n",
       "  </thead>\n",
       "  <tbody>\n",
       "    <tr>\n",
       "      <th>0</th>\n",
       "      <td>2</td>\n",
       "      <td>2015-03-04 15:39:16</td>\n",
       "      <td>2015-03-04 15:42:30</td>\n",
       "      <td>N</td>\n",
       "      <td>1</td>\n",
       "      <td>-73.992241</td>\n",
       "      <td>40.690121</td>\n",
       "      <td>-73.999664</td>\n",
       "      <td>40.684994</td>\n",
       "      <td>2</td>\n",
       "      <td>...</td>\n",
       "      <td>0.00</td>\n",
       "      <td>0.0</td>\n",
       "      <td>NaN</td>\n",
       "      <td>0.3</td>\n",
       "      <td>5.30</td>\n",
       "      <td>2</td>\n",
       "      <td>1</td>\n",
       "      <td>VeriFone</td>\n",
       "      <td>15</td>\n",
       "      <td>2015-03-04</td>\n",
       "    </tr>\n",
       "    <tr>\n",
       "      <th>1</th>\n",
       "      <td>2</td>\n",
       "      <td>2015-03-22 17:36:49</td>\n",
       "      <td>2015-03-22 17:45:39</td>\n",
       "      <td>N</td>\n",
       "      <td>5</td>\n",
       "      <td>-73.930038</td>\n",
       "      <td>40.819576</td>\n",
       "      <td>-73.907173</td>\n",
       "      <td>40.811306</td>\n",
       "      <td>2</td>\n",
       "      <td>...</td>\n",
       "      <td>0.00</td>\n",
       "      <td>0.0</td>\n",
       "      <td>NaN</td>\n",
       "      <td>0.0</td>\n",
       "      <td>12.00</td>\n",
       "      <td>2</td>\n",
       "      <td>2</td>\n",
       "      <td>VeriFone</td>\n",
       "      <td>17</td>\n",
       "      <td>2015-03-22</td>\n",
       "    </tr>\n",
       "    <tr>\n",
       "      <th>2</th>\n",
       "      <td>2</td>\n",
       "      <td>2015-03-25 22:08:45</td>\n",
       "      <td>2015-03-25 22:53:29</td>\n",
       "      <td>N</td>\n",
       "      <td>1</td>\n",
       "      <td>-73.961082</td>\n",
       "      <td>40.807022</td>\n",
       "      <td>-73.984642</td>\n",
       "      <td>40.663147</td>\n",
       "      <td>1</td>\n",
       "      <td>...</td>\n",
       "      <td>9.26</td>\n",
       "      <td>0.0</td>\n",
       "      <td>NaN</td>\n",
       "      <td>0.3</td>\n",
       "      <td>55.56</td>\n",
       "      <td>1</td>\n",
       "      <td>1</td>\n",
       "      <td>VeriFone</td>\n",
       "      <td>22</td>\n",
       "      <td>2015-03-25</td>\n",
       "    </tr>\n",
       "    <tr>\n",
       "      <th>3</th>\n",
       "      <td>2</td>\n",
       "      <td>2015-03-16 13:45:20</td>\n",
       "      <td>2015-03-16 13:52:04</td>\n",
       "      <td>N</td>\n",
       "      <td>1</td>\n",
       "      <td>-73.913200</td>\n",
       "      <td>40.777962</td>\n",
       "      <td>-73.926994</td>\n",
       "      <td>40.772743</td>\n",
       "      <td>2</td>\n",
       "      <td>...</td>\n",
       "      <td>0.00</td>\n",
       "      <td>0.0</td>\n",
       "      <td>NaN</td>\n",
       "      <td>0.3</td>\n",
       "      <td>7.30</td>\n",
       "      <td>2</td>\n",
       "      <td>1</td>\n",
       "      <td>VeriFone</td>\n",
       "      <td>13</td>\n",
       "      <td>2015-03-16</td>\n",
       "    </tr>\n",
       "    <tr>\n",
       "      <th>4</th>\n",
       "      <td>2</td>\n",
       "      <td>2015-03-19 18:53:50</td>\n",
       "      <td>2015-03-19 18:59:04</td>\n",
       "      <td>N</td>\n",
       "      <td>1</td>\n",
       "      <td>-73.925888</td>\n",
       "      <td>40.827602</td>\n",
       "      <td>-73.916351</td>\n",
       "      <td>40.824966</td>\n",
       "      <td>1</td>\n",
       "      <td>...</td>\n",
       "      <td>0.00</td>\n",
       "      <td>0.0</td>\n",
       "      <td>NaN</td>\n",
       "      <td>0.3</td>\n",
       "      <td>7.30</td>\n",
       "      <td>2</td>\n",
       "      <td>1</td>\n",
       "      <td>VeriFone</td>\n",
       "      <td>18</td>\n",
       "      <td>2015-03-19</td>\n",
       "    </tr>\n",
       "  </tbody>\n",
       "</table>\n",
       "<p>5 rows × 24 columns</p>\n",
       "</div>"
      ],
      "text/plain": [
       "   VendorID lpep_pickup_datetime Lpep_dropoff_datetime Store_and_fwd_flag  \\\n",
       "0         2  2015-03-04 15:39:16   2015-03-04 15:42:30                  N   \n",
       "1         2  2015-03-22 17:36:49   2015-03-22 17:45:39                  N   \n",
       "2         2  2015-03-25 22:08:45   2015-03-25 22:53:29                  N   \n",
       "3         2  2015-03-16 13:45:20   2015-03-16 13:52:04                  N   \n",
       "4         2  2015-03-19 18:53:50   2015-03-19 18:59:04                  N   \n",
       "\n",
       "   RateCodeID  Pickup_longitude  Pickup_latitude  Dropoff_longitude  \\\n",
       "0           1        -73.992241        40.690121         -73.999664   \n",
       "1           5        -73.930038        40.819576         -73.907173   \n",
       "2           1        -73.961082        40.807022         -73.984642   \n",
       "3           1        -73.913200        40.777962         -73.926994   \n",
       "4           1        -73.925888        40.827602         -73.916351   \n",
       "\n",
       "   Dropoff_latitude  Passenger_count     ...      Tip_amount  Tolls_amount  \\\n",
       "0         40.684994                2     ...            0.00           0.0   \n",
       "1         40.811306                2     ...            0.00           0.0   \n",
       "2         40.663147                1     ...            9.26           0.0   \n",
       "3         40.772743                2     ...            0.00           0.0   \n",
       "4         40.824966                1     ...            0.00           0.0   \n",
       "\n",
       "   Ehail_fee  improvement_surcharge  Total_amount  Payment_type  Trip_type   \\\n",
       "0        NaN                    0.3          5.30             2           1   \n",
       "1        NaN                    0.0         12.00             2           2   \n",
       "2        NaN                    0.3         55.56             1           1   \n",
       "3        NaN                    0.3          7.30             2           1   \n",
       "4        NaN                    0.3          7.30             2           1   \n",
       "\n",
       "     Vendor  hour         day  \n",
       "0  VeriFone    15  2015-03-04  \n",
       "1  VeriFone    17  2015-03-22  \n",
       "2  VeriFone    22  2015-03-25  \n",
       "3  VeriFone    13  2015-03-16  \n",
       "4  VeriFone    18  2015-03-19  \n",
       "\n",
       "[5 rows x 24 columns]"
      ]
     },
     "execution_count": 28,
     "metadata": {},
     "output_type": "execute_result"
    }
   ],
   "source": [
    "df.head()"
   ]
  },
  {
   "cell_type": "code",
   "execution_count": 29,
   "metadata": {},
   "outputs": [
    {
     "data": {
      "text/plain": [
       "FrozenList([['Creative', 'VeriFone'], [2015-03-01, 2015-03-02, 2015-03-03, 2015-03-04, 2015-03-05, 2015-03-06, 2015-03-07, 2015-03-08, 2015-03-09, 2015-03-10, 2015-03-11, 2015-03-12, 2015-03-13, 2015-03-14, 2015-03-15, 2015-03-16, 2015-03-17, 2015-03-18, 2015-03-19, 2015-03-20, 2015-03-21, 2015-03-22, 2015-03-23, 2015-03-24, 2015-03-25, 2015-03-26, 2015-03-27, 2015-03-28, 2015-03-29, 2015-03-30, 2015-03-31], [0, 1, 2, 3, 4, 5, 6, 7, 8, 9, 10, 11, 12, 13, 14, 15, 16, 17, 18, 19, 20, 21, 22, 23]])"
      ]
     },
     "execution_count": 29,
     "metadata": {},
     "output_type": "execute_result"
    }
   ],
   "source": [
    "df.groupby(['Vendor', 'day', 'hour']).count().index.levels"
   ]
  },
  {
   "cell_type": "code",
   "execution_count": 30,
   "metadata": {},
   "outputs": [
    {
     "data": {
      "text/html": [
       "<div>\n",
       "<style scoped>\n",
       "    .dataframe tbody tr th:only-of-type {\n",
       "        vertical-align: middle;\n",
       "    }\n",
       "\n",
       "    .dataframe tbody tr th {\n",
       "        vertical-align: top;\n",
       "    }\n",
       "\n",
       "    .dataframe thead th {\n",
       "        text-align: right;\n",
       "    }\n",
       "</style>\n",
       "<table border=\"1\" class=\"dataframe\">\n",
       "  <thead>\n",
       "    <tr style=\"text-align: right;\">\n",
       "      <th></th>\n",
       "      <th>Vendor</th>\n",
       "      <th>day</th>\n",
       "      <th>hour</th>\n",
       "      <th>VendorID</th>\n",
       "      <th>lpep_pickup_datetime</th>\n",
       "      <th>Lpep_dropoff_datetime</th>\n",
       "      <th>Store_and_fwd_flag</th>\n",
       "      <th>RateCodeID</th>\n",
       "      <th>Pickup_longitude</th>\n",
       "      <th>Pickup_latitude</th>\n",
       "      <th>...</th>\n",
       "      <th>Fare_amount</th>\n",
       "      <th>Extra</th>\n",
       "      <th>MTA_tax</th>\n",
       "      <th>Tip_amount</th>\n",
       "      <th>Tolls_amount</th>\n",
       "      <th>Ehail_fee</th>\n",
       "      <th>improvement_surcharge</th>\n",
       "      <th>Total_amount</th>\n",
       "      <th>Payment_type</th>\n",
       "      <th>Trip_type</th>\n",
       "    </tr>\n",
       "  </thead>\n",
       "  <tbody>\n",
       "    <tr>\n",
       "      <th>0</th>\n",
       "      <td>Creative</td>\n",
       "      <td>2015-03-01</td>\n",
       "      <td>0</td>\n",
       "      <td>60.0</td>\n",
       "      <td>60.0</td>\n",
       "      <td>60.0</td>\n",
       "      <td>60.0</td>\n",
       "      <td>60.0</td>\n",
       "      <td>60.0</td>\n",
       "      <td>60.0</td>\n",
       "      <td>...</td>\n",
       "      <td>60.0</td>\n",
       "      <td>60.0</td>\n",
       "      <td>60.0</td>\n",
       "      <td>60.0</td>\n",
       "      <td>60.0</td>\n",
       "      <td>0.0</td>\n",
       "      <td>60.0</td>\n",
       "      <td>60.0</td>\n",
       "      <td>60.0</td>\n",
       "      <td>60.0</td>\n",
       "    </tr>\n",
       "    <tr>\n",
       "      <th>1</th>\n",
       "      <td>Creative</td>\n",
       "      <td>2015-03-01</td>\n",
       "      <td>1</td>\n",
       "      <td>60.0</td>\n",
       "      <td>60.0</td>\n",
       "      <td>60.0</td>\n",
       "      <td>60.0</td>\n",
       "      <td>60.0</td>\n",
       "      <td>60.0</td>\n",
       "      <td>60.0</td>\n",
       "      <td>...</td>\n",
       "      <td>60.0</td>\n",
       "      <td>60.0</td>\n",
       "      <td>60.0</td>\n",
       "      <td>60.0</td>\n",
       "      <td>60.0</td>\n",
       "      <td>0.0</td>\n",
       "      <td>60.0</td>\n",
       "      <td>60.0</td>\n",
       "      <td>60.0</td>\n",
       "      <td>60.0</td>\n",
       "    </tr>\n",
       "    <tr>\n",
       "      <th>2</th>\n",
       "      <td>Creative</td>\n",
       "      <td>2015-03-01</td>\n",
       "      <td>2</td>\n",
       "      <td>51.0</td>\n",
       "      <td>51.0</td>\n",
       "      <td>51.0</td>\n",
       "      <td>51.0</td>\n",
       "      <td>51.0</td>\n",
       "      <td>51.0</td>\n",
       "      <td>51.0</td>\n",
       "      <td>...</td>\n",
       "      <td>51.0</td>\n",
       "      <td>51.0</td>\n",
       "      <td>51.0</td>\n",
       "      <td>51.0</td>\n",
       "      <td>51.0</td>\n",
       "      <td>0.0</td>\n",
       "      <td>51.0</td>\n",
       "      <td>51.0</td>\n",
       "      <td>51.0</td>\n",
       "      <td>51.0</td>\n",
       "    </tr>\n",
       "    <tr>\n",
       "      <th>3</th>\n",
       "      <td>Creative</td>\n",
       "      <td>2015-03-01</td>\n",
       "      <td>3</td>\n",
       "      <td>41.0</td>\n",
       "      <td>41.0</td>\n",
       "      <td>41.0</td>\n",
       "      <td>41.0</td>\n",
       "      <td>41.0</td>\n",
       "      <td>41.0</td>\n",
       "      <td>41.0</td>\n",
       "      <td>...</td>\n",
       "      <td>41.0</td>\n",
       "      <td>41.0</td>\n",
       "      <td>41.0</td>\n",
       "      <td>41.0</td>\n",
       "      <td>41.0</td>\n",
       "      <td>0.0</td>\n",
       "      <td>41.0</td>\n",
       "      <td>41.0</td>\n",
       "      <td>41.0</td>\n",
       "      <td>41.0</td>\n",
       "    </tr>\n",
       "    <tr>\n",
       "      <th>4</th>\n",
       "      <td>Creative</td>\n",
       "      <td>2015-03-01</td>\n",
       "      <td>4</td>\n",
       "      <td>28.0</td>\n",
       "      <td>28.0</td>\n",
       "      <td>28.0</td>\n",
       "      <td>28.0</td>\n",
       "      <td>28.0</td>\n",
       "      <td>28.0</td>\n",
       "      <td>28.0</td>\n",
       "      <td>...</td>\n",
       "      <td>28.0</td>\n",
       "      <td>28.0</td>\n",
       "      <td>28.0</td>\n",
       "      <td>28.0</td>\n",
       "      <td>28.0</td>\n",
       "      <td>0.0</td>\n",
       "      <td>28.0</td>\n",
       "      <td>28.0</td>\n",
       "      <td>28.0</td>\n",
       "      <td>28.0</td>\n",
       "    </tr>\n",
       "  </tbody>\n",
       "</table>\n",
       "<p>5 rows × 24 columns</p>\n",
       "</div>"
      ],
      "text/plain": [
       "     Vendor         day  hour  VendorID  lpep_pickup_datetime  \\\n",
       "0  Creative  2015-03-01     0      60.0                  60.0   \n",
       "1  Creative  2015-03-01     1      60.0                  60.0   \n",
       "2  Creative  2015-03-01     2      51.0                  51.0   \n",
       "3  Creative  2015-03-01     3      41.0                  41.0   \n",
       "4  Creative  2015-03-01     4      28.0                  28.0   \n",
       "\n",
       "   Lpep_dropoff_datetime  Store_and_fwd_flag  RateCodeID  Pickup_longitude  \\\n",
       "0                   60.0                60.0        60.0              60.0   \n",
       "1                   60.0                60.0        60.0              60.0   \n",
       "2                   51.0                51.0        51.0              51.0   \n",
       "3                   41.0                41.0        41.0              41.0   \n",
       "4                   28.0                28.0        28.0              28.0   \n",
       "\n",
       "   Pickup_latitude     ...      Fare_amount  Extra  MTA_tax  Tip_amount  \\\n",
       "0             60.0     ...             60.0   60.0     60.0        60.0   \n",
       "1             60.0     ...             60.0   60.0     60.0        60.0   \n",
       "2             51.0     ...             51.0   51.0     51.0        51.0   \n",
       "3             41.0     ...             41.0   41.0     41.0        41.0   \n",
       "4             28.0     ...             28.0   28.0     28.0        28.0   \n",
       "\n",
       "   Tolls_amount  Ehail_fee  improvement_surcharge  Total_amount  Payment_type  \\\n",
       "0          60.0        0.0                   60.0          60.0          60.0   \n",
       "1          60.0        0.0                   60.0          60.0          60.0   \n",
       "2          51.0        0.0                   51.0          51.0          51.0   \n",
       "3          41.0        0.0                   41.0          41.0          41.0   \n",
       "4          28.0        0.0                   28.0          28.0          28.0   \n",
       "\n",
       "   Trip_type   \n",
       "0        60.0  \n",
       "1        60.0  \n",
       "2        51.0  \n",
       "3        41.0  \n",
       "4        28.0  \n",
       "\n",
       "[5 rows x 24 columns]"
      ]
     },
     "execution_count": 30,
     "metadata": {},
     "output_type": "execute_result"
    }
   ],
   "source": [
    "ddf = df.groupby(['Vendor', 'day', 'hour'], as_index=False).count()\n",
    "ddf.head()"
   ]
  },
  {
   "cell_type": "code",
   "execution_count": 31,
   "metadata": {},
   "outputs": [
    {
     "data": {
      "text/html": [
       "<div>\n",
       "<style scoped>\n",
       "    .dataframe tbody tr th:only-of-type {\n",
       "        vertical-align: middle;\n",
       "    }\n",
       "\n",
       "    .dataframe tbody tr th {\n",
       "        vertical-align: top;\n",
       "    }\n",
       "\n",
       "    .dataframe thead th {\n",
       "        text-align: right;\n",
       "    }\n",
       "</style>\n",
       "<table border=\"1\" class=\"dataframe\">\n",
       "  <thead>\n",
       "    <tr style=\"text-align: right;\">\n",
       "      <th></th>\n",
       "      <th>Vendor</th>\n",
       "      <th>hour</th>\n",
       "      <th>VendorID</th>\n",
       "      <th>lpep_pickup_datetime</th>\n",
       "      <th>Lpep_dropoff_datetime</th>\n",
       "      <th>Store_and_fwd_flag</th>\n",
       "      <th>RateCodeID</th>\n",
       "      <th>Pickup_longitude</th>\n",
       "      <th>Pickup_latitude</th>\n",
       "      <th>Dropoff_longitude</th>\n",
       "      <th>...</th>\n",
       "      <th>Fare_amount</th>\n",
       "      <th>Extra</th>\n",
       "      <th>MTA_tax</th>\n",
       "      <th>Tip_amount</th>\n",
       "      <th>Tolls_amount</th>\n",
       "      <th>Ehail_fee</th>\n",
       "      <th>improvement_surcharge</th>\n",
       "      <th>Total_amount</th>\n",
       "      <th>Payment_type</th>\n",
       "      <th>Trip_type</th>\n",
       "    </tr>\n",
       "  </thead>\n",
       "  <tbody>\n",
       "    <tr>\n",
       "      <th>0</th>\n",
       "      <td>Creative</td>\n",
       "      <td>0</td>\n",
       "      <td>29.225806</td>\n",
       "      <td>29.225806</td>\n",
       "      <td>29.225806</td>\n",
       "      <td>29.225806</td>\n",
       "      <td>29.225806</td>\n",
       "      <td>29.225806</td>\n",
       "      <td>29.225806</td>\n",
       "      <td>29.225806</td>\n",
       "      <td>...</td>\n",
       "      <td>29.225806</td>\n",
       "      <td>29.225806</td>\n",
       "      <td>29.225806</td>\n",
       "      <td>29.225806</td>\n",
       "      <td>29.225806</td>\n",
       "      <td>0.0</td>\n",
       "      <td>29.225806</td>\n",
       "      <td>29.225806</td>\n",
       "      <td>29.225806</td>\n",
       "      <td>29.225806</td>\n",
       "    </tr>\n",
       "    <tr>\n",
       "      <th>1</th>\n",
       "      <td>Creative</td>\n",
       "      <td>1</td>\n",
       "      <td>25.096774</td>\n",
       "      <td>25.096774</td>\n",
       "      <td>25.096774</td>\n",
       "      <td>25.096774</td>\n",
       "      <td>25.096774</td>\n",
       "      <td>25.096774</td>\n",
       "      <td>25.096774</td>\n",
       "      <td>25.096774</td>\n",
       "      <td>...</td>\n",
       "      <td>25.096774</td>\n",
       "      <td>25.096774</td>\n",
       "      <td>25.096774</td>\n",
       "      <td>25.096774</td>\n",
       "      <td>25.096774</td>\n",
       "      <td>0.0</td>\n",
       "      <td>25.096774</td>\n",
       "      <td>25.096774</td>\n",
       "      <td>25.096774</td>\n",
       "      <td>25.096774</td>\n",
       "    </tr>\n",
       "    <tr>\n",
       "      <th>2</th>\n",
       "      <td>Creative</td>\n",
       "      <td>2</td>\n",
       "      <td>18.233333</td>\n",
       "      <td>18.233333</td>\n",
       "      <td>18.233333</td>\n",
       "      <td>18.233333</td>\n",
       "      <td>18.233333</td>\n",
       "      <td>18.233333</td>\n",
       "      <td>18.233333</td>\n",
       "      <td>18.233333</td>\n",
       "      <td>...</td>\n",
       "      <td>18.233333</td>\n",
       "      <td>18.233333</td>\n",
       "      <td>18.233333</td>\n",
       "      <td>18.233333</td>\n",
       "      <td>18.233333</td>\n",
       "      <td>0.0</td>\n",
       "      <td>18.233333</td>\n",
       "      <td>18.233333</td>\n",
       "      <td>18.233333</td>\n",
       "      <td>18.233333</td>\n",
       "    </tr>\n",
       "    <tr>\n",
       "      <th>3</th>\n",
       "      <td>Creative</td>\n",
       "      <td>3</td>\n",
       "      <td>16.225806</td>\n",
       "      <td>16.225806</td>\n",
       "      <td>16.225806</td>\n",
       "      <td>16.225806</td>\n",
       "      <td>16.225806</td>\n",
       "      <td>16.225806</td>\n",
       "      <td>16.225806</td>\n",
       "      <td>16.225806</td>\n",
       "      <td>...</td>\n",
       "      <td>16.225806</td>\n",
       "      <td>16.225806</td>\n",
       "      <td>16.225806</td>\n",
       "      <td>16.225806</td>\n",
       "      <td>16.225806</td>\n",
       "      <td>0.0</td>\n",
       "      <td>16.225806</td>\n",
       "      <td>16.225806</td>\n",
       "      <td>16.225806</td>\n",
       "      <td>16.225806</td>\n",
       "    </tr>\n",
       "    <tr>\n",
       "      <th>4</th>\n",
       "      <td>Creative</td>\n",
       "      <td>4</td>\n",
       "      <td>15.129032</td>\n",
       "      <td>15.129032</td>\n",
       "      <td>15.129032</td>\n",
       "      <td>15.129032</td>\n",
       "      <td>15.129032</td>\n",
       "      <td>15.129032</td>\n",
       "      <td>15.129032</td>\n",
       "      <td>15.129032</td>\n",
       "      <td>...</td>\n",
       "      <td>15.129032</td>\n",
       "      <td>15.129032</td>\n",
       "      <td>15.129032</td>\n",
       "      <td>15.129032</td>\n",
       "      <td>15.129032</td>\n",
       "      <td>0.0</td>\n",
       "      <td>15.129032</td>\n",
       "      <td>15.129032</td>\n",
       "      <td>15.129032</td>\n",
       "      <td>15.129032</td>\n",
       "    </tr>\n",
       "  </tbody>\n",
       "</table>\n",
       "<p>5 rows × 23 columns</p>\n",
       "</div>"
      ],
      "text/plain": [
       "     Vendor  hour   VendorID  lpep_pickup_datetime  Lpep_dropoff_datetime  \\\n",
       "0  Creative     0  29.225806             29.225806              29.225806   \n",
       "1  Creative     1  25.096774             25.096774              25.096774   \n",
       "2  Creative     2  18.233333             18.233333              18.233333   \n",
       "3  Creative     3  16.225806             16.225806              16.225806   \n",
       "4  Creative     4  15.129032             15.129032              15.129032   \n",
       "\n",
       "   Store_and_fwd_flag  RateCodeID  Pickup_longitude  Pickup_latitude  \\\n",
       "0           29.225806   29.225806         29.225806        29.225806   \n",
       "1           25.096774   25.096774         25.096774        25.096774   \n",
       "2           18.233333   18.233333         18.233333        18.233333   \n",
       "3           16.225806   16.225806         16.225806        16.225806   \n",
       "4           15.129032   15.129032         15.129032        15.129032   \n",
       "\n",
       "   Dropoff_longitude     ...      Fare_amount      Extra    MTA_tax  \\\n",
       "0          29.225806     ...        29.225806  29.225806  29.225806   \n",
       "1          25.096774     ...        25.096774  25.096774  25.096774   \n",
       "2          18.233333     ...        18.233333  18.233333  18.233333   \n",
       "3          16.225806     ...        16.225806  16.225806  16.225806   \n",
       "4          15.129032     ...        15.129032  15.129032  15.129032   \n",
       "\n",
       "   Tip_amount  Tolls_amount  Ehail_fee  improvement_surcharge  Total_amount  \\\n",
       "0   29.225806     29.225806        0.0              29.225806     29.225806   \n",
       "1   25.096774     25.096774        0.0              25.096774     25.096774   \n",
       "2   18.233333     18.233333        0.0              18.233333     18.233333   \n",
       "3   16.225806     16.225806        0.0              16.225806     16.225806   \n",
       "4   15.129032     15.129032        0.0              15.129032     15.129032   \n",
       "\n",
       "   Payment_type  Trip_type   \n",
       "0     29.225806   29.225806  \n",
       "1     25.096774   25.096774  \n",
       "2     18.233333   18.233333  \n",
       "3     16.225806   16.225806  \n",
       "4     15.129032   15.129032  \n",
       "\n",
       "[5 rows x 23 columns]"
      ]
     },
     "execution_count": 31,
     "metadata": {},
     "output_type": "execute_result"
    }
   ],
   "source": [
    "hdf = ddf.groupby(['Vendor', 'hour'], as_index=False).mean()\n",
    "hdf.head()"
   ]
  },
  {
   "cell_type": "code",
   "execution_count": 32,
   "metadata": {},
   "outputs": [
    {
     "data": {
      "image/png": "[encoded data removed]",
      "text/plain": [
       "<matplotlib.figure.Figure at 0x1184e5400>"
      ]
     },
     "metadata": {},
     "output_type": "display_data"
    }
   ],
   "source": [
    "vdf = hdf.pivot(columns='Vendor', index='hour', values='Extra')\n",
    "vdf.plot.bar(rot=45);"
   ]
  },
  {
   "cell_type": "code",
   "execution_count": 33,
   "metadata": {},
   "outputs": [],
   "source": [
    "conn = sqlite3.connect('data/weather.db')"
   ]
  },
  {
   "cell_type": "code",
   "execution_count": 34,
   "metadata": {},
   "outputs": [
    {
     "data": {
      "text/plain": [
       "Index(['STATION', 'DATE', 'PRCP', 'SNOW', 'TMAX', 'TMIN'], dtype='object')"
      ]
     },
     "execution_count": 34,
     "metadata": {},
     "output_type": "execute_result"
    }
   ],
   "source": [
    "wdf = pd.read_sql('SELECT * from weather', conn)\n",
    "wdf.columns"
   ]
  },
  {
   "cell_type": "code",
   "execution_count": 35,
   "metadata": {},
   "outputs": [
    {
     "data": {
      "text/plain": [
       "DatetimeIndex(['2015-03-01', '2015-03-02', '2015-03-03', '2015-03-04',\n",
       "               '2015-03-05', '2015-03-06', '2015-03-07', '2015-03-08',\n",
       "               '2015-03-09', '2015-03-10',\n",
       "               ...\n",
       "               '2016-03-23', '2016-03-24', '2016-03-25', '2016-03-26',\n",
       "               '2016-03-27', '2016-03-28', '2016-03-29', '2016-03-30',\n",
       "               '2016-03-31', '2016-04-01'],\n",
       "              dtype='datetime64[ns]', name='DATE', length=398, freq=None)"
      ]
     },
     "execution_count": 35,
     "metadata": {},
     "output_type": "execute_result"
    }
   ],
   "source": [
    "wdf = pd.read_sql('SELECT * from weather', conn, parse_dates=['DATE'], index_col='DATE')\n",
    "wdf.index"
   ]
  },
  {
   "cell_type": "code",
   "execution_count": 36,
   "metadata": {},
   "outputs": [
    {
     "data": {
      "text/plain": [
       "STATION     object\n",
       "PRCP       float64\n",
       "SNOW       float64\n",
       "TMAX         int64\n",
       "TMIN         int64\n",
       "dtype: object"
      ]
     },
     "execution_count": 36,
     "metadata": {},
     "output_type": "execute_result"
    }
   ],
   "source": [
    "wdf.dtypes"
   ]
  },
  {
   "cell_type": "code",
   "execution_count": 37,
   "metadata": {},
   "outputs": [
    {
     "data": {
      "text/html": [
       "<div>\n",
       "<style scoped>\n",
       "    .dataframe tbody tr th:only-of-type {\n",
       "        vertical-align: middle;\n",
       "    }\n",
       "\n",
       "    .dataframe tbody tr th {\n",
       "        vertical-align: top;\n",
       "    }\n",
       "\n",
       "    .dataframe thead th {\n",
       "        text-align: right;\n",
       "    }\n",
       "</style>\n",
       "<table border=\"1\" class=\"dataframe\">\n",
       "  <thead>\n",
       "    <tr style=\"text-align: right;\">\n",
       "      <th></th>\n",
       "      <th>PRCP</th>\n",
       "      <th>SNOW</th>\n",
       "      <th>TMAX</th>\n",
       "      <th>TMIN</th>\n",
       "    </tr>\n",
       "  </thead>\n",
       "  <tbody>\n",
       "    <tr>\n",
       "      <th>count</th>\n",
       "      <td>398.000000</td>\n",
       "      <td>398.000000</td>\n",
       "      <td>398.000000</td>\n",
       "      <td>398.000000</td>\n",
       "    </tr>\n",
       "    <tr>\n",
       "      <th>mean</th>\n",
       "      <td>0.109799</td>\n",
       "      <td>0.129146</td>\n",
       "      <td>65.017588</td>\n",
       "      <td>50.035176</td>\n",
       "    </tr>\n",
       "    <tr>\n",
       "      <th>std</th>\n",
       "      <td>0.310245</td>\n",
       "      <td>1.463461</td>\n",
       "      <td>17.556593</td>\n",
       "      <td>16.336782</td>\n",
       "    </tr>\n",
       "    <tr>\n",
       "      <th>min</th>\n",
       "      <td>0.000000</td>\n",
       "      <td>0.000000</td>\n",
       "      <td>15.000000</td>\n",
       "      <td>-1.000000</td>\n",
       "    </tr>\n",
       "    <tr>\n",
       "      <th>25%</th>\n",
       "      <td>0.000000</td>\n",
       "      <td>0.000000</td>\n",
       "      <td>52.000000</td>\n",
       "      <td>38.000000</td>\n",
       "    </tr>\n",
       "    <tr>\n",
       "      <th>50%</th>\n",
       "      <td>0.000000</td>\n",
       "      <td>0.000000</td>\n",
       "      <td>65.000000</td>\n",
       "      <td>50.000000</td>\n",
       "    </tr>\n",
       "    <tr>\n",
       "      <th>75%</th>\n",
       "      <td>0.020000</td>\n",
       "      <td>0.000000</td>\n",
       "      <td>81.750000</td>\n",
       "      <td>65.000000</td>\n",
       "    </tr>\n",
       "    <tr>\n",
       "      <th>max</th>\n",
       "      <td>2.310000</td>\n",
       "      <td>27.300000</td>\n",
       "      <td>97.000000</td>\n",
       "      <td>82.000000</td>\n",
       "    </tr>\n",
       "  </tbody>\n",
       "</table>\n",
       "</div>"
      ],
      "text/plain": [
       "             PRCP        SNOW        TMAX        TMIN\n",
       "count  398.000000  398.000000  398.000000  398.000000\n",
       "mean     0.109799    0.129146   65.017588   50.035176\n",
       "std      0.310245    1.463461   17.556593   16.336782\n",
       "min      0.000000    0.000000   15.000000   -1.000000\n",
       "25%      0.000000    0.000000   52.000000   38.000000\n",
       "50%      0.000000    0.000000   65.000000   50.000000\n",
       "75%      0.020000    0.000000   81.750000   65.000000\n",
       "max      2.310000   27.300000   97.000000   82.000000"
      ]
     },
     "execution_count": 37,
     "metadata": {},
     "output_type": "execute_result"
    }
   ],
   "source": [
    "wdf.describe()"
   ]
  },
  {
   "cell_type": "code",
   "execution_count": 38,
   "metadata": {},
   "outputs": [],
   "source": [
    "from scipy.constants import convert_temperature"
   ]
  },
  {
   "cell_type": "code",
   "execution_count": 39,
   "metadata": {},
   "outputs": [
    {
     "data": {
      "text/html": [
       "<div>\n",
       "<style scoped>\n",
       "    .dataframe tbody tr th:only-of-type {\n",
       "        vertical-align: middle;\n",
       "    }\n",
       "\n",
       "    .dataframe tbody tr th {\n",
       "        vertical-align: top;\n",
       "    }\n",
       "\n",
       "    .dataframe thead th {\n",
       "        text-align: right;\n",
       "    }\n",
       "</style>\n",
       "<table border=\"1\" class=\"dataframe\">\n",
       "  <thead>\n",
       "    <tr style=\"text-align: right;\">\n",
       "      <th></th>\n",
       "      <th>STATION</th>\n",
       "      <th>PRCP</th>\n",
       "      <th>SNOW</th>\n",
       "      <th>TMAX</th>\n",
       "      <th>TMIN</th>\n",
       "      <th>TMAX_F</th>\n",
       "    </tr>\n",
       "    <tr>\n",
       "      <th>DATE</th>\n",
       "      <th></th>\n",
       "      <th></th>\n",
       "      <th></th>\n",
       "      <th></th>\n",
       "      <th></th>\n",
       "      <th></th>\n",
       "    </tr>\n",
       "  </thead>\n",
       "  <tbody>\n",
       "    <tr>\n",
       "      <th>2015-03-01</th>\n",
       "      <td>GHCND:USW00094728</td>\n",
       "      <td>0.52</td>\n",
       "      <td>4.8</td>\n",
       "      <td>31</td>\n",
       "      <td>24</td>\n",
       "      <td>37.58</td>\n",
       "    </tr>\n",
       "    <tr>\n",
       "      <th>2015-03-02</th>\n",
       "      <td>GHCND:USW00094728</td>\n",
       "      <td>0.00</td>\n",
       "      <td>0.0</td>\n",
       "      <td>39</td>\n",
       "      <td>27</td>\n",
       "      <td>39.02</td>\n",
       "    </tr>\n",
       "    <tr>\n",
       "      <th>2015-03-03</th>\n",
       "      <td>GHCND:USW00094728</td>\n",
       "      <td>0.67</td>\n",
       "      <td>1.8</td>\n",
       "      <td>37</td>\n",
       "      <td>22</td>\n",
       "      <td>38.66</td>\n",
       "    </tr>\n",
       "    <tr>\n",
       "      <th>2015-03-04</th>\n",
       "      <td>GHCND:USW00094728</td>\n",
       "      <td>0.25</td>\n",
       "      <td>0.0</td>\n",
       "      <td>45</td>\n",
       "      <td>35</td>\n",
       "      <td>40.10</td>\n",
       "    </tr>\n",
       "    <tr>\n",
       "      <th>2015-03-05</th>\n",
       "      <td>GHCND:USW00094728</td>\n",
       "      <td>0.76</td>\n",
       "      <td>7.5</td>\n",
       "      <td>40</td>\n",
       "      <td>19</td>\n",
       "      <td>39.20</td>\n",
       "    </tr>\n",
       "  </tbody>\n",
       "</table>\n",
       "</div>"
      ],
      "text/plain": [
       "                      STATION  PRCP  SNOW  TMAX  TMIN  TMAX_F\n",
       "DATE                                                         \n",
       "2015-03-01  GHCND:USW00094728  0.52   4.8    31    24   37.58\n",
       "2015-03-02  GHCND:USW00094728  0.00   0.0    39    27   39.02\n",
       "2015-03-03  GHCND:USW00094728  0.67   1.8    37    22   38.66\n",
       "2015-03-04  GHCND:USW00094728  0.25   0.0    45    35   40.10\n",
       "2015-03-05  GHCND:USW00094728  0.76   7.5    40    19   39.20"
      ]
     },
     "execution_count": 39,
     "metadata": {},
     "output_type": "execute_result"
    }
   ],
   "source": [
    "wdf['TMAX_F'] = convert_temperature(wdf['TMAX'] / 10, 'C', 'F')\n",
    "wdf.head()"
   ]
  },
  {
   "cell_type": "code",
   "execution_count": 40,
   "metadata": {},
   "outputs": [],
   "source": [
    "ddf = df.groupby(df['lpep_pickup_datetime'].dt.date).count()"
   ]
  },
  {
   "cell_type": "code",
   "execution_count": 41,
   "metadata": {},
   "outputs": [
    {
     "data": {
      "text/html": [
       "<div>\n",
       "<style scoped>\n",
       "    .dataframe tbody tr th:only-of-type {\n",
       "        vertical-align: middle;\n",
       "    }\n",
       "\n",
       "    .dataframe tbody tr th {\n",
       "        vertical-align: top;\n",
       "    }\n",
       "\n",
       "    .dataframe thead th {\n",
       "        text-align: right;\n",
       "    }\n",
       "</style>\n",
       "<table border=\"1\" class=\"dataframe\">\n",
       "  <thead>\n",
       "    <tr style=\"text-align: right;\">\n",
       "      <th></th>\n",
       "      <th>VendorID</th>\n",
       "      <th>lpep_pickup_datetime</th>\n",
       "      <th>Lpep_dropoff_datetime</th>\n",
       "      <th>Store_and_fwd_flag</th>\n",
       "      <th>RateCodeID</th>\n",
       "      <th>Pickup_longitude</th>\n",
       "      <th>Pickup_latitude</th>\n",
       "      <th>Dropoff_longitude</th>\n",
       "      <th>Dropoff_latitude</th>\n",
       "      <th>Passenger_count</th>\n",
       "      <th>...</th>\n",
       "      <th>Trip_type</th>\n",
       "      <th>Vendor</th>\n",
       "      <th>hour</th>\n",
       "      <th>day</th>\n",
       "      <th>STATION</th>\n",
       "      <th>PRCP</th>\n",
       "      <th>SNOW</th>\n",
       "      <th>TMAX</th>\n",
       "      <th>TMIN</th>\n",
       "      <th>TMAX_F</th>\n",
       "    </tr>\n",
       "    <tr>\n",
       "      <th>lpep_pickup_datetime</th>\n",
       "      <th></th>\n",
       "      <th></th>\n",
       "      <th></th>\n",
       "      <th></th>\n",
       "      <th></th>\n",
       "      <th></th>\n",
       "      <th></th>\n",
       "      <th></th>\n",
       "      <th></th>\n",
       "      <th></th>\n",
       "      <th></th>\n",
       "      <th></th>\n",
       "      <th></th>\n",
       "      <th></th>\n",
       "      <th></th>\n",
       "      <th></th>\n",
       "      <th></th>\n",
       "      <th></th>\n",
       "      <th></th>\n",
       "      <th></th>\n",
       "      <th></th>\n",
       "    </tr>\n",
       "  </thead>\n",
       "  <tbody>\n",
       "    <tr>\n",
       "      <th>2015-03-01</th>\n",
       "      <td>3177</td>\n",
       "      <td>3177</td>\n",
       "      <td>3177</td>\n",
       "      <td>3177</td>\n",
       "      <td>3177</td>\n",
       "      <td>3177</td>\n",
       "      <td>3177</td>\n",
       "      <td>3177</td>\n",
       "      <td>3177</td>\n",
       "      <td>3177</td>\n",
       "      <td>...</td>\n",
       "      <td>3177</td>\n",
       "      <td>3177</td>\n",
       "      <td>3177</td>\n",
       "      <td>3177</td>\n",
       "      <td>GHCND:USW00094728</td>\n",
       "      <td>0.52</td>\n",
       "      <td>4.8</td>\n",
       "      <td>31</td>\n",
       "      <td>24</td>\n",
       "      <td>37.58</td>\n",
       "    </tr>\n",
       "    <tr>\n",
       "      <th>2015-03-02</th>\n",
       "      <td>2775</td>\n",
       "      <td>2775</td>\n",
       "      <td>2775</td>\n",
       "      <td>2775</td>\n",
       "      <td>2775</td>\n",
       "      <td>2775</td>\n",
       "      <td>2775</td>\n",
       "      <td>2775</td>\n",
       "      <td>2775</td>\n",
       "      <td>2775</td>\n",
       "      <td>...</td>\n",
       "      <td>2775</td>\n",
       "      <td>2775</td>\n",
       "      <td>2775</td>\n",
       "      <td>2775</td>\n",
       "      <td>GHCND:USW00094728</td>\n",
       "      <td>0.00</td>\n",
       "      <td>0.0</td>\n",
       "      <td>39</td>\n",
       "      <td>27</td>\n",
       "      <td>39.02</td>\n",
       "    </tr>\n",
       "    <tr>\n",
       "      <th>2015-03-03</th>\n",
       "      <td>2990</td>\n",
       "      <td>2990</td>\n",
       "      <td>2990</td>\n",
       "      <td>2990</td>\n",
       "      <td>2990</td>\n",
       "      <td>2990</td>\n",
       "      <td>2990</td>\n",
       "      <td>2990</td>\n",
       "      <td>2990</td>\n",
       "      <td>2990</td>\n",
       "      <td>...</td>\n",
       "      <td>2990</td>\n",
       "      <td>2990</td>\n",
       "      <td>2990</td>\n",
       "      <td>2990</td>\n",
       "      <td>GHCND:USW00094728</td>\n",
       "      <td>0.67</td>\n",
       "      <td>1.8</td>\n",
       "      <td>37</td>\n",
       "      <td>22</td>\n",
       "      <td>38.66</td>\n",
       "    </tr>\n",
       "    <tr>\n",
       "      <th>2015-03-04</th>\n",
       "      <td>3072</td>\n",
       "      <td>3072</td>\n",
       "      <td>3072</td>\n",
       "      <td>3072</td>\n",
       "      <td>3072</td>\n",
       "      <td>3072</td>\n",
       "      <td>3072</td>\n",
       "      <td>3072</td>\n",
       "      <td>3072</td>\n",
       "      <td>3072</td>\n",
       "      <td>...</td>\n",
       "      <td>3072</td>\n",
       "      <td>3072</td>\n",
       "      <td>3072</td>\n",
       "      <td>3072</td>\n",
       "      <td>GHCND:USW00094728</td>\n",
       "      <td>0.25</td>\n",
       "      <td>0.0</td>\n",
       "      <td>45</td>\n",
       "      <td>35</td>\n",
       "      <td>40.10</td>\n",
       "    </tr>\n",
       "    <tr>\n",
       "      <th>2015-03-05</th>\n",
       "      <td>2491</td>\n",
       "      <td>2491</td>\n",
       "      <td>2491</td>\n",
       "      <td>2491</td>\n",
       "      <td>2491</td>\n",
       "      <td>2491</td>\n",
       "      <td>2491</td>\n",
       "      <td>2491</td>\n",
       "      <td>2491</td>\n",
       "      <td>2491</td>\n",
       "      <td>...</td>\n",
       "      <td>2491</td>\n",
       "      <td>2491</td>\n",
       "      <td>2491</td>\n",
       "      <td>2491</td>\n",
       "      <td>GHCND:USW00094728</td>\n",
       "      <td>0.76</td>\n",
       "      <td>7.5</td>\n",
       "      <td>40</td>\n",
       "      <td>19</td>\n",
       "      <td>39.20</td>\n",
       "    </tr>\n",
       "  </tbody>\n",
       "</table>\n",
       "<p>5 rows × 30 columns</p>\n",
       "</div>"
      ],
      "text/plain": [
       "                      VendorID  lpep_pickup_datetime  Lpep_dropoff_datetime  \\\n",
       "lpep_pickup_datetime                                                          \n",
       "2015-03-01                3177                  3177                   3177   \n",
       "2015-03-02                2775                  2775                   2775   \n",
       "2015-03-03                2990                  2990                   2990   \n",
       "2015-03-04                3072                  3072                   3072   \n",
       "2015-03-05                2491                  2491                   2491   \n",
       "\n",
       "                      Store_and_fwd_flag  RateCodeID  Pickup_longitude  \\\n",
       "lpep_pickup_datetime                                                     \n",
       "2015-03-01                          3177        3177              3177   \n",
       "2015-03-02                          2775        2775              2775   \n",
       "2015-03-03                          2990        2990              2990   \n",
       "2015-03-04                          3072        3072              3072   \n",
       "2015-03-05                          2491        2491              2491   \n",
       "\n",
       "                      Pickup_latitude  Dropoff_longitude  Dropoff_latitude  \\\n",
       "lpep_pickup_datetime                                                         \n",
       "2015-03-01                       3177               3177              3177   \n",
       "2015-03-02                       2775               2775              2775   \n",
       "2015-03-03                       2990               2990              2990   \n",
       "2015-03-04                       3072               3072              3072   \n",
       "2015-03-05                       2491               2491              2491   \n",
       "\n",
       "                      Passenger_count   ...    Trip_type   Vendor  hour   day  \\\n",
       "lpep_pickup_datetime                    ...                                     \n",
       "2015-03-01                       3177   ...          3177    3177  3177  3177   \n",
       "2015-03-02                       2775   ...          2775    2775  2775  2775   \n",
       "2015-03-03                       2990   ...          2990    2990  2990  2990   \n",
       "2015-03-04                       3072   ...          3072    3072  3072  3072   \n",
       "2015-03-05                       2491   ...          2491    2491  2491  2491   \n",
       "\n",
       "                                STATION  PRCP  SNOW  TMAX  TMIN  TMAX_F  \n",
       "lpep_pickup_datetime                                                     \n",
       "2015-03-01            GHCND:USW00094728  0.52   4.8    31    24   37.58  \n",
       "2015-03-02            GHCND:USW00094728  0.00   0.0    39    27   39.02  \n",
       "2015-03-03            GHCND:USW00094728  0.67   1.8    37    22   38.66  \n",
       "2015-03-04            GHCND:USW00094728  0.25   0.0    45    35   40.10  \n",
       "2015-03-05            GHCND:USW00094728  0.76   7.5    40    19   39.20  \n",
       "\n",
       "[5 rows x 30 columns]"
      ]
     },
     "execution_count": 41,
     "metadata": {},
     "output_type": "execute_result"
    }
   ],
   "source": [
    "jdf = ddf.join(wdf)\n",
    "jdf.head()"
   ]
  },
  {
   "cell_type": "code",
   "execution_count": 42,
   "metadata": {},
   "outputs": [
    {
     "data": {
      "image/png": "[encoded data removed]",
      "text/plain": [
       "<matplotlib.figure.Figure at 0x114bffdd8>"
      ]
     },
     "metadata": {},
     "output_type": "display_data"
    }
   ],
   "source": [
    "ax = jdf.plot.scatter( x='TMAX_F', y='Vendor')\n",
    "ax.set_ylabel('Daily Rides')\n",
    "ax.set_xlabel('Max Temperature ($\\degree F$)');"
   ]
  },
  {
   "cell_type": "code",
   "execution_count": null,
   "metadata": {},
   "outputs": [],
   "source": []
  }
 ],
 "metadata": {
  "kernelspec": {
   "display_name": "Python 3",
   "language": "python",
   "name": "python3"
  },
  "language_info": {
   "codemirror_mode": {
    "name": "ipython",
    "version": 3
   },
   "file_extension": ".py",
   "mimetype": "text/x-python",
   "name": "python",
   "nbconvert_exporter": "python",
   "pygments_lexer": "ipython3",
   "version": "3.6.4"
  }
 },
 "nbformat": 4,
 "nbformat_minor": 2
}
