{
 "cells": [
  {
   "cell_type": "markdown",
   "metadata": {},
   "source": [
    "1. **shuffle data**\n",
    "2. **training** (60%), **validation** (a.k.a development) (20%) and **test** (20%). Use the training set to train different models, the validation set to select a model and finally report performance on the test set.\n",
    "\n",
    "The Linear model does not fit the data very well and is therefore said to have a higher **bias** than the polynomial model.\n",
    "\n",
    "The polynomial model, on the other hand, suffers from a different problem. The model depends a lot on the choice of training data. If you change the data slightly, the shape of the curve will look very different, and the error will swing widely. Therefore, the model is said to have high **variance**.\n",
    "\n",
    "For the linear model, the error on this test set is very close to the error he had seen on the training set. In such cases, we say the model has **generalized** well to unseen data.\n",
    "\n",
    "Teh problem, where the model does very well on the training data but does poorly on the test data is called **overfitting**.\n",
    "\n",
    "**Total Error = Bias + Variance + Irreducible Error**\n",
    "\n",
    "\n",
    "![Image](https://www.learnopencv.com/wp-content/uploads/2017/02/Bias-Variance-Tradeoff-In-Machine-Learning-1.png)\n",
    "\n",
    "Where both training and validation errors are high, is the region of high bias. On the other hand, the region on the right where validation error is high, but training error is low is the region of high variance.\n",
    "\n",
    "## Training data generation"
   ]
  },
  {
   "cell_type": "code",
   "execution_count": 9,
   "metadata": {},
   "outputs": [
    {
     "data": {
      "image/png": "[encoded data removed]",
      "text/plain": [
       "<matplotlib.figure.Figure at 0x1193c4f28>"
      ]
     },
     "metadata": {},
     "output_type": "display_data"
    }
   ],
   "source": [
    "import numpy as np\n",
    "import pylab as pl\n",
    "\n",
    "%matplotlib inline\n",
    "\n",
    "def f(size):\n",
    "    '''\n",
    "    Returns a sample with 'size' instances without noise.\n",
    "    '''\n",
    "    x = np.linspace(0, 4.5, size)\n",
    "    y = 2 * np.sin(x * 1.5)\n",
    "    return (x,y)\n",
    "\n",
    "def sample(size):\n",
    "    '''\n",
    "    Returns a sample with 'size' instances.\n",
    "    '''\n",
    "    x = np.linspace(0, 4.5, size)\n",
    "    y = 2 * np.sin(x * 1.5) + pl.randn(x.size)\n",
    "    return (x,y)\n",
    "    \n",
    "pl.clf()\n",
    "f_x, f_y = f(50)\n",
    "pl.plot(f_x, f_y)\n",
    "x, y = sample(50)\n",
    "pl.plot(x, y, 'k.');"
   ]
  },
  {
   "cell_type": "code",
   "execution_count": 5,
   "metadata": {},
   "outputs": [
    {
     "data": {
      "image/png": "[encoded data removed]",
      "text/plain": [
       "<matplotlib.figure.Figure at 0x115fa1518>"
      ]
     },
     "metadata": {},
     "output_type": "display_data"
    }
   ],
   "source": []
  },
  {
   "cell_type": "code",
   "execution_count": null,
   "metadata": {
    "collapsed": true
   },
   "outputs": [],
   "source": []
  }
 ],
 "metadata": {
  "kernelspec": {
   "display_name": "Python 3",
   "language": "python",
   "name": "python3"
  },
  "language_info": {
   "codemirror_mode": {
    "name": "ipython",
    "version": 3
   },
   "file_extension": ".py",
   "mimetype": "text/x-python",
   "name": "python",
   "nbconvert_exporter": "python",
   "pygments_lexer": "ipython3",
   "version": "3.6.2"
  }
 },
 "nbformat": 4,
 "nbformat_minor": 2
}
