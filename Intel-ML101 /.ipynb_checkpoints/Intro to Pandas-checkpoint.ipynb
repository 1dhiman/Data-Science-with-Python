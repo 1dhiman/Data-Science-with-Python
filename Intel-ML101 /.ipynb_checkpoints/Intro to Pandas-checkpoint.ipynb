{
 "cells": [
  {
   "cell_type": "markdown",
   "metadata": {},
   "source": [
    "# Basic data structures\n",
    "\n",
    "* Series - 1D\n",
    "* DataFrame - 2D"
   ]
  },
  {
   "cell_type": "markdown",
   "metadata": {},
   "source": [
    "# Pandas Series Creation and Indexing\n",
    "\n",
    "Use data from step tracking application to create a Pandas Series"
   ]
  },
  {
   "cell_type": "code",
   "execution_count": 1,
   "metadata": {},
   "outputs": [
    {
     "name": "stdout",
     "output_type": "stream",
     "text": [
      "0    3620\n",
      "1    7891\n",
      "2    9761\n",
      "3    3907\n",
      "4    4338\n",
      "5    5373\n",
      "Name: steps, dtype: int64\n"
     ]
    }
   ],
   "source": [
    "import pandas as pd\n",
    "\n",
    "step_data = [3620, 7891, 9761, 3907, 4338, 5373]\n",
    "\n",
    "step_counts = pd.Series(step_data, name='steps')\n",
    "\n",
    "print(step_counts)"
   ]
  },
  {
   "cell_type": "markdown",
   "metadata": {},
   "source": [
    "Add a date range to the series"
   ]
  },
  {
   "cell_type": "code",
   "execution_count": 2,
   "metadata": {},
   "outputs": [
    {
     "name": "stdout",
     "output_type": "stream",
     "text": [
      "2015-03-29    3620\n",
      "2015-03-30    7891\n",
      "2015-03-31    9761\n",
      "2015-04-01    3907\n",
      "2015-04-02    4338\n",
      "2015-04-03    5373\n",
      "Freq: D, Name: steps, dtype: int64\n"
     ]
    }
   ],
   "source": [
    "step_counts.index = pd.date_range('20150329', periods=6)\n",
    "\n",
    "print(step_counts)"
   ]
  },
  {
   "cell_type": "markdown",
   "metadata": {},
   "source": [
    "Select data by index values"
   ]
  },
  {
   "cell_type": "code",
   "execution_count": 3,
   "metadata": {},
   "outputs": [
    {
     "name": "stdout",
     "output_type": "stream",
     "text": [
      "3907\n"
     ]
    }
   ],
   "source": [
    "# Just like a dictionary\n",
    "print(step_counts['2015-04-01'])"
   ]
  },
  {
   "cell_type": "code",
   "execution_count": 4,
   "metadata": {},
   "outputs": [
    {
     "name": "stdout",
     "output_type": "stream",
     "text": [
      "3907\n"
     ]
    }
   ],
   "source": [
    "# Or by index position-like an array\n",
    "print(step_counts[3])"
   ]
  },
  {
   "cell_type": "code",
   "execution_count": 5,
   "metadata": {},
   "outputs": [
    {
     "name": "stdout",
     "output_type": "stream",
     "text": [
      "2015-04-01    3907\n",
      "2015-04-02    4338\n",
      "2015-04-03    5373\n",
      "Freq: D, Name: steps, dtype: int64\n"
     ]
    }
   ],
   "source": [
    "# Select all of April\n",
    "print(step_counts['2015-04'])"
   ]
  },
  {
   "cell_type": "markdown",
   "metadata": {},
   "source": [
    "# Pandas data types and imputation \n",
    "\n",
    "Data types can be viewed and converted"
   ]
  },
  {
   "cell_type": "code",
   "execution_count": null,
   "metadata": {
    "collapsed": true
   },
   "outputs": [],
   "source": []
  }
 ],
 "metadata": {
  "kernelspec": {
   "display_name": "Python 3",
   "language": "python",
   "name": "python3"
  },
  "language_info": {
   "codemirror_mode": {
    "name": "ipython",
    "version": 3
   },
   "file_extension": ".py",
   "mimetype": "text/x-python",
   "name": "python",
   "nbconvert_exporter": "python",
   "pygments_lexer": "ipython3",
   "version": "3.6.2"
  }
 },
 "nbformat": 4,
 "nbformat_minor": 2
}
